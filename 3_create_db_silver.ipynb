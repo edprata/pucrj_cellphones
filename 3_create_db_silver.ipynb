{
 "cells": [
  {
   "cell_type": "markdown",
   "metadata": {
    "application/vnd.databricks.v1+cell": {
     "cellMetadata": {
      "byteLimit": 2048000,
      "rowLimit": 10000
     },
     "inputWidgets": {},
     "nuid": "fc10b771-4537-462d-951b-14ed2c3e8eba",
     "showTitle": false,
     "tableResultSettingsMap": {},
     "title": ""
    }
   },
   "source": [
    "# MVP Pipeline de Dados\n",
    "## Pesquisa sobre aparelhos celulares\n",
    "\n",
    "Edmilson Prata da Silva\n",
    "\n",
    "PUC-RJ - MBA em Ciência de Dados e Analytics\n",
    "\n",
    "Disciplina de Engenharia de Dados\n",
    "\n",
    "## Script para criação da base de dados SILVER"
   ]
  },
  {
   "cell_type": "markdown",
   "metadata": {
    "application/vnd.databricks.v1+cell": {
     "cellMetadata": {
      "byteLimit": 2048000,
      "rowLimit": 10000
     },
     "inputWidgets": {},
     "nuid": "ccc99eb3-ea60-4cf1-854f-f693e900597e",
     "showTitle": false,
     "tableResultSettingsMap": {},
     "title": ""
    }
   },
   "source": [
    "### Imports\n",
    "\n",
    "Imports das bibliotecas necessárias para o funcionamento do script."
   ]
  },
  {
   "cell_type": "code",
   "execution_count": 0,
   "metadata": {
    "application/vnd.databricks.v1+cell": {
     "cellMetadata": {
      "byteLimit": 2048000,
      "rowLimit": 10000
     },
     "inputWidgets": {},
     "nuid": "34da5e73-32a4-4279-a16f-4aad35337d2a",
     "showTitle": false,
     "tableResultSettingsMap": {},
     "title": ""
    }
   },
   "outputs": [],
   "source": [
    "from pyspark.sql import SparkSession\n",
    "from pyspark.sql.types import StructType, StructField, StringType, DecimalType"
   ]
  },
  {
   "cell_type": "markdown",
   "metadata": {
    "application/vnd.databricks.v1+cell": {
     "cellMetadata": {
      "byteLimit": 2048000,
      "rowLimit": 10000
     },
     "inputWidgets": {},
     "nuid": "123a13e0-fee8-4227-8f18-bbe11f1fbbce",
     "showTitle": false,
     "tableResultSettingsMap": {},
     "title": ""
    }
   },
   "source": [
    "### Criando base de dados SILVER\n",
    "\n",
    "Na camada silver os dados são persistidos após terem sido tratados, transformados e enriquecidos para o trabalho de analytics.\n",
    "\n",
    "Nesta caso, a base original é a \"Mobiles Dataset (2025)\", do Kaggle. Ela foi persistida, mantendo suas características originais na camada bronze. Após, os dados sofrerão os tratamentos necessários para armazenamento nesta camada."
   ]
  },
  {
   "cell_type": "code",
   "execution_count": 0,
   "metadata": {
    "application/vnd.databricks.v1+cell": {
     "cellMetadata": {
      "byteLimit": 2048000,
      "implicitDf": true,
      "rowLimit": 10000
     },
     "inputWidgets": {},
     "nuid": "b81f65d4-d52a-4cd9-91f8-9814bce53d39",
     "showTitle": false,
     "tableResultSettingsMap": {},
     "title": ""
    }
   },
   "outputs": [
    {
     "output_type": "display_data",
     "data": {
      "text/html": [
       "<style scoped>\n",
       "  .table-result-container {\n",
       "    max-height: 300px;\n",
       "    overflow: auto;\n",
       "  }\n",
       "  table, th, td {\n",
       "    border: 1px solid black;\n",
       "    border-collapse: collapse;\n",
       "  }\n",
       "  th, td {\n",
       "    padding: 5px;\n",
       "  }\n",
       "  th {\n",
       "    text-align: left;\n",
       "  }\n",
       "</style><div class='table-result-container'><table class='table-result'><thead style='background-color: white'><tr></tr></thead><tbody></tbody></table></div>"
      ]
     },
     "metadata": {
      "application/vnd.databricks.v1+output": {
       "addedWidgets": {},
       "aggData": [],
       "aggError": "",
       "aggOverflow": false,
       "aggSchema": [],
       "aggSeriesLimitReached": false,
       "aggType": "",
       "arguments": {},
       "columnCustomDisplayInfos": {},
       "data": [],
       "datasetInfos": [],
       "dbfsResultPath": null,
       "isJsonSchema": true,
       "metadata": {},
       "overflow": false,
       "plotOptions": {
        "customPlotOptions": {},
        "displayType": "table",
        "pivotAggregation": null,
        "pivotColumns": null,
        "xColumns": null,
        "yColumns": null
       },
       "removedWidgets": [],
       "schema": [],
       "type": "table"
      }
     },
     "output_type": "display_data"
    }
   ],
   "source": [
    "%sql CREATE DATABASE IF NOT EXISTS silver;"
   ]
  },
  {
   "cell_type": "markdown",
   "metadata": {
    "application/vnd.databricks.v1+cell": {
     "cellMetadata": {
      "byteLimit": 2048000,
      "rowLimit": 10000
     },
     "inputWidgets": {},
     "nuid": "ebacb582-2b84-4cdf-8985-0dfb7b727d60",
     "showTitle": false,
     "tableResultSettingsMap": {},
     "title": ""
    }
   },
   "source": [
    "### Criando as tabelas\n",
    "\n",
    "A seguir o script para criação das tabelas da camada silver."
   ]
  },
  {
   "cell_type": "code",
   "execution_count": 0,
   "metadata": {
    "application/vnd.databricks.v1+cell": {
     "cellMetadata": {
      "byteLimit": 2048000,
      "rowLimit": 10000
     },
     "inputWidgets": {},
     "nuid": "e4e68784-5488-4347-83c0-35f449c60e75",
     "showTitle": false,
     "tableResultSettingsMap": {},
     "title": ""
    }
   },
   "outputs": [
    {
     "output_type": "stream",
     "name": "stdout",
     "output_type": "stream",
     "text": [
      "Iniciando criação da camada silver...\nTabela silver.company criada com sucesso.\nTabela silver.model criada com sucesso.\nTabela silver.price criada com sucesso.\nTabela silver.smartphones criada com sucesso.\nTabelas criadas com sucesso!\n"
     ]
    }
   ],
   "source": [
    "print(\"Iniciando criação da camada silver...\")\n",
    "\n",
    "# Iniciar uma sessão Spark\n",
    "spark = SparkSession.builder.appName(\"CreateSmartphonesTables\").getOrCreate()\n",
    "\n",
    "# Criar a tabela de dimensão \"company\"\n",
    "spark.sql(\"\"\"\n",
    "CREATE TABLE IF NOT EXISTS silver.company (\n",
    "    company_id STRING COMMENT 'Chave primária (UUID)',\n",
    "    company_name STRING COMMENT 'Nome da empresa fabricante'\n",
    ")\n",
    "USING DELTA\n",
    "\"\"\")\n",
    "\n",
    "print('Tabela silver.company criada com sucesso.')\n",
    "\n",
    "# Criar a tabela de dimensão \"model\"\n",
    "spark.sql(\"\"\"\n",
    "CREATE TABLE IF NOT EXISTS silver.model (\n",
    "    model_id STRING COMMENT 'Chave primária (UUID)',\n",
    "    model_name STRING COMMENT 'Nome do modelo',\n",
    "    mobile_weight DECIMAL(10, 2) COMMENT 'Peso em gramas',\n",
    "    ram INTEGER COMMENT 'Quantidade de memória RAM em GB',\n",
    "    qt_total_cameras INTEGER COMMENT 'Quantidade total de câmeras',\n",
    "    front_camera DECIMAL(10, 2) COMMENT 'Resolução da câmera frontal principal em MP',\n",
    "    back_camera DECIMAL(10, 2) COMMENT 'Resolução da câmera traseira principal em MP',\n",
    "    processor STRING COMMENT 'Processador do aparelho',\n",
    "    battery_capacity INTEGER COMMENT 'Capacidade da bateria em mAh',\n",
    "    screen_size DECIMAL(4, 2) COMMENT 'Tamanho da tela',\n",
    "    launched_year INTEGER COMMENT 'Ano de lançamento'\n",
    ")\n",
    "USING DELTA\n",
    "\"\"\")\n",
    "\n",
    "print('Tabela silver.model criada com sucesso.')\n",
    "\n",
    "# Criar a tabela de dimensão \"price\"\n",
    "spark.sql(\"\"\"\n",
    "CREATE TABLE IF NOT EXISTS silver.price (\n",
    "    price_id STRING COMMENT 'Chave primária (UUID)',\n",
    "    model_id STRING COMMENT 'Chave estrangeira referenciando a tabela model',\n",
    "    country STRING COMMENT 'País onde o preço foi registrado',\n",
    "    launched_price DECIMAL(10, 2) COMMENT 'Preço de lançamento no país'\n",
    ")\n",
    "USING DELTA\n",
    "\"\"\")\n",
    "\n",
    "print('Tabela silver.price criada com sucesso.')\n",
    "\n",
    "# Criar a tabela de fatos \"smartphones\"\n",
    "spark.sql(\"\"\"\n",
    "CREATE TABLE IF NOT EXISTS silver.smartphones (\n",
    "    smartphone_id STRING COMMENT 'Chave primária (UUID)',\n",
    "    company_id STRING COMMENT 'Chave estrangeira referenciando a tabela company',\n",
    "    model_id STRING COMMENT 'Chave estrangeira referenciando a tabela model'\n",
    ")\n",
    "USING DELTA\n",
    "\"\"\")\n",
    "\n",
    "print('Tabela silver.smartphones criada com sucesso.')\n",
    "\n",
    "# Exibir mensagem de sucesso\n",
    "print(\"Tabelas criadas com sucesso!\")"
   ]
  },
  {
   "cell_type": "markdown",
   "metadata": {
    "application/vnd.databricks.v1+cell": {
     "cellMetadata": {
      "byteLimit": 2048000,
      "rowLimit": 10000
     },
     "inputWidgets": {},
     "nuid": "25930fcc-6917-42f3-8e3a-057534df34ca",
     "showTitle": false,
     "tableResultSettingsMap": {},
     "title": ""
    }
   },
   "source": [
    "### Teste de Criação da Tabela\n",
    "Teste de acesso a tabela recém criada, para garantir o sucesso da operação."
   ]
  },
  {
   "cell_type": "code",
   "execution_count": 0,
   "metadata": {
    "application/vnd.databricks.v1+cell": {
     "cellMetadata": {
      "byteLimit": 2048000,
      "implicitDf": true,
      "rowLimit": 10000
     },
     "inputWidgets": {},
     "nuid": "aa249443-298b-4954-8581-32738322d83a",
     "showTitle": false,
     "tableResultSettingsMap": {},
     "title": ""
    }
   },
   "outputs": [
    {
     "output_type": "stream",
     "name": "stdout",
     "output_type": "stream",
     "text": [
      "+------------+---------+--------------------+\n|    col_name|data_type|             comment|\n+------------+---------+--------------------+\n|  company_id|   string|Chave primária (U...|\n|company_name|   string|Nome da empresa f...|\n+------------+---------+--------------------+\n\n"
     ]
    }
   ],
   "source": [
    "spark.sql(\"DESCRIBE TABLE silver.company\").show()"
   ]
  },
  {
   "cell_type": "code",
   "execution_count": 0,
   "metadata": {
    "application/vnd.databricks.v1+cell": {
     "cellMetadata": {
      "byteLimit": 2048000,
      "implicitDf": true,
      "rowLimit": 10000
     },
     "inputWidgets": {},
     "nuid": "8fbeaf0a-6a3d-4bbe-a4b2-88ac631f519a",
     "showTitle": false,
     "tableResultSettingsMap": {},
     "title": ""
    }
   },
   "outputs": [
    {
     "output_type": "stream",
     "name": "stdout",
     "output_type": "stream",
     "text": [
      "+----------------+-------------+--------------------+\n|        col_name|    data_type|             comment|\n+----------------+-------------+--------------------+\n|        model_id|       string|Chave primária (U...|\n|      model_name|       string|      Nome do modelo|\n|   mobile_weight|decimal(10,2)|      Peso em gramas|\n|             ram|          int|Quantidade de mem...|\n|qt_total_cameras|          int|Quantidade total ...|\n|    front_camera|decimal(10,2)|Resolução da câme...|\n|     back_camera|decimal(10,2)|Resolução da câme...|\n|       processor|       string|Processador do ap...|\n|battery_capacity|          int|Capacidade da bat...|\n|     screen_size| decimal(4,2)|     Tamanho da tela|\n|   launched_year|          int|   Ano de lançamento|\n+----------------+-------------+--------------------+\n\n"
     ]
    }
   ],
   "source": [
    "spark.sql(\"DESCRIBE TABLE silver.model\").show()"
   ]
  },
  {
   "cell_type": "code",
   "execution_count": 0,
   "metadata": {
    "application/vnd.databricks.v1+cell": {
     "cellMetadata": {
      "byteLimit": 2048000,
      "implicitDf": true,
      "rowLimit": 10000
     },
     "inputWidgets": {},
     "nuid": "a2b602f3-33a6-4648-9c85-9991a3b854b5",
     "showTitle": false,
     "tableResultSettingsMap": {},
     "title": ""
    }
   },
   "outputs": [
    {
     "output_type": "stream",
     "name": "stdout",
     "output_type": "stream",
     "text": [
      "+--------------+-------------+--------------------+\n|      col_name|    data_type|             comment|\n+--------------+-------------+--------------------+\n|      price_id|       string|Chave primária (U...|\n|      model_id|       string|Chave estrangeira...|\n|       country|       string|País onde o preço...|\n|launched_price|decimal(10,2)|Preço de lançamen...|\n+--------------+-------------+--------------------+\n\n"
     ]
    }
   ],
   "source": [
    "spark.sql(\"DESCRIBE TABLE silver.price\").show()"
   ]
  },
  {
   "cell_type": "code",
   "execution_count": 0,
   "metadata": {
    "application/vnd.databricks.v1+cell": {
     "cellMetadata": {
      "byteLimit": 2048000,
      "implicitDf": true,
      "rowLimit": 10000
     },
     "inputWidgets": {},
     "nuid": "ecbb353f-2a79-40c6-97a2-224cc4b650a0",
     "showTitle": false,
     "tableResultSettingsMap": {},
     "title": ""
    }
   },
   "outputs": [
    {
     "output_type": "stream",
     "name": "stdout",
     "output_type": "stream",
     "text": [
      "+-------------+---------+--------------------+\n|     col_name|data_type|             comment|\n+-------------+---------+--------------------+\n|smartphone_id|   string|Chave primária (U...|\n|   company_id|   string|Chave estrangeira...|\n|     model_id|   string|Chave estrangeira...|\n+-------------+---------+--------------------+\n\n"
     ]
    }
   ],
   "source": [
    "spark.sql(\"DESCRIBE TABLE silver.smartphones\").show()"
   ]
  }
 ],
 "metadata": {
  "application/vnd.databricks.v1+notebook": {
   "computePreferences": null,
   "dashboards": [],
   "environmentMetadata": {
    "base_environment": "",
    "environment_version": "1"
   },
   "inputWidgetPreferences": null,
   "language": "python",
   "notebookMetadata": {
    "mostRecentlyExecutedCommandWithImplicitDF": {
     "commandId": 2397589476934471,
     "dataframes": [
      "_sqldf"
     ]
    },
    "pythonIndentUnit": 4
   },
   "notebookName": "3_create_db_silver",
   "widgets": {}
  }
 },
 "nbformat": 4,
 "nbformat_minor": 0
}