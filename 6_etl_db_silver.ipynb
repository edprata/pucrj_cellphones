{
 "cells": [
  {
   "cell_type": "markdown",
   "metadata": {
    "application/vnd.databricks.v1+cell": {
     "cellMetadata": {
      "byteLimit": 2048000,
      "rowLimit": 10000
     },
     "inputWidgets": {},
     "nuid": "315139f2-9df5-411f-bd19-a69be44b909a",
     "showTitle": false,
     "tableResultSettingsMap": {},
     "title": ""
    }
   },
   "source": [
    "# MVP Pipeline de Dados\n",
    "## Pesquisa sobre aparelhos celulares\n",
    "\n",
    "Edmilson Prata da Silva\n",
    "\n",
    "PUC-RJ - MBA em Ciência de Dados e Analytics\n",
    "\n",
    "Disciplina de Engenharia de Dados\n",
    "\n",
    "## Script ETL para carga na camada SILVER"
   ]
  },
  {
   "cell_type": "markdown",
   "metadata": {
    "application/vnd.databricks.v1+cell": {
     "cellMetadata": {
      "byteLimit": 2048000,
      "rowLimit": 10000
     },
     "inputWidgets": {},
     "nuid": "ac2d0b0b-8634-450a-a633-321b46e66838",
     "showTitle": false,
     "tableResultSettingsMap": {},
     "title": ""
    }
   },
   "source": [
    "## Imports\n",
    "\n",
    "Imports das bibliotecas necessárias para o funcionamento do script."
   ]
  },
  {
   "cell_type": "code",
   "execution_count": 0,
   "metadata": {
    "application/vnd.databricks.v1+cell": {
     "cellMetadata": {
      "byteLimit": 2048000,
      "rowLimit": 10000
     },
     "inputWidgets": {},
     "nuid": "3a33da2e-003b-4355-a077-3b19e052b074",
     "showTitle": false,
     "tableResultSettingsMap": {},
     "title": ""
    }
   },
   "outputs": [],
   "source": [
    "import re\n",
    "import uuid\n",
    "import warnings\n",
    "import pandas as pd\n",
    "from pyspark.sql import SparkSession\n",
    "from pyspark.sql.functions import col"
   ]
  },
  {
   "cell_type": "markdown",
   "metadata": {
    "application/vnd.databricks.v1+cell": {
     "cellMetadata": {
      "byteLimit": 2048000,
      "rowLimit": 10000
     },
     "inputWidgets": {},
     "nuid": "39a50ae2-5d20-4436-a477-7a69d8f84656",
     "showTitle": false,
     "tableResultSettingsMap": {},
     "title": ""
    }
   },
   "source": [
    "## Carga de Dados\n",
    "\n",
    "Os dados serão carregados a partir da camada bronze para os tratamentos necessários."
   ]
  },
  {
   "cell_type": "code",
   "execution_count": 0,
   "metadata": {
    "application/vnd.databricks.v1+cell": {
     "cellMetadata": {
      "byteLimit": 2048000,
      "rowLimit": 10000
     },
     "inputWidgets": {},
     "nuid": "8d1a9d87-f669-4e19-a9cd-bbb99bc468d6",
     "showTitle": false,
     "tableResultSettingsMap": {},
     "title": ""
    }
   },
   "outputs": [
    {
     "output_type": "stream",
     "name": "stdout",
     "output_type": "stream",
     "text": [
      "root\n |-- company_name: string (nullable = true)\n |-- model_name: string (nullable = true)\n |-- mobile_weight: string (nullable = true)\n |-- ram: string (nullable = true)\n |-- front_camera: string (nullable = true)\n |-- back_camera: string (nullable = true)\n |-- processor: string (nullable = true)\n |-- battery_capacity: string (nullable = true)\n |-- screen_size: string (nullable = true)\n |-- launched_price_pakistan: string (nullable = true)\n |-- launched_price_india: string (nullable = true)\n |-- launched_price_china: string (nullable = true)\n |-- launched_price_usa: string (nullable = true)\n |-- launched_price_dubai: string (nullable = true)\n |-- launched_year: string (nullable = true)\n\n"
     ]
    }
   ],
   "source": [
    "spark = SparkSession.builder.getOrCreate()\n",
    "df_spark = spark.table(\"bronze.mobile_devices\")\n",
    "df_spark.printSchema()\n"
   ]
  },
  {
   "cell_type": "markdown",
   "metadata": {
    "application/vnd.databricks.v1+cell": {
     "cellMetadata": {
      "byteLimit": 2048000,
      "rowLimit": 10000
     },
     "inputWidgets": {},
     "nuid": "32a9a88f-858f-4fb4-9b4b-33886ee0e6ec",
     "showTitle": false,
     "tableResultSettingsMap": {},
     "title": ""
    }
   },
   "source": [
    "### Análise dos dados\n",
    "\n",
    "Aqui será feita análise dos dados antes de iniciar o tratamento."
   ]
  },
  {
   "cell_type": "markdown",
   "metadata": {
    "application/vnd.databricks.v1+cell": {
     "cellMetadata": {
      "byteLimit": 2048000,
      "rowLimit": 10000
     },
     "inputWidgets": {},
     "nuid": "9010ba40-95ea-443f-ad6e-551ffaa5b7d7",
     "showTitle": false,
     "tableResultSettingsMap": {},
     "title": ""
    }
   },
   "source": [
    "#### Conversão para Pandas\n",
    "\n",
    "O dataset será convertido para DataFrame Pandas, devido ser baixo o volume de dados, para facilitar a análise."
   ]
  },
  {
   "cell_type": "code",
   "execution_count": 0,
   "metadata": {
    "application/vnd.databricks.v1+cell": {
     "cellMetadata": {
      "byteLimit": 2048000,
      "rowLimit": 10000
     },
     "inputWidgets": {},
     "nuid": "7fda9e63-2d47-463a-b8db-5e4431b3e021",
     "showTitle": false,
     "tableResultSettingsMap": {},
     "title": ""
    }
   },
   "outputs": [
    {
     "output_type": "stream",
     "name": "stdout",
     "output_type": "stream",
     "text": [
      "Out[123]: (930, 15)"
     ]
    }
   ],
   "source": [
    "# Utilizando Apache Arrow para otimizar o uso do Pandas\n",
    "spark.conf.set(\"spark.sql.execution.arrow.pyspark.enabled\", \"true\")\n",
    "\n",
    "# Convertendo de Spark para Pandas\n",
    "df_pd = df_spark.toPandas()\n",
    "\n",
    "df_pd.shape"
   ]
  },
  {
   "cell_type": "markdown",
   "metadata": {
    "application/vnd.databricks.v1+cell": {
     "cellMetadata": {
      "byteLimit": 2048000,
      "rowLimit": 10000
     },
     "inputWidgets": {},
     "nuid": "44629609-74bf-423e-b4c4-049d7132fa28",
     "showTitle": false,
     "tableResultSettingsMap": {},
     "title": ""
    }
   },
   "source": [
    "#### Análise dos Dados\n",
    "\n",
    "Avaliação do conteúdo do dataset para verificar a qualidade dos dados e os tratamentos necessários."
   ]
  },
  {
   "cell_type": "markdown",
   "metadata": {
    "application/vnd.databricks.v1+cell": {
     "cellMetadata": {
      "byteLimit": 2048000,
      "rowLimit": 10000
     },
     "inputWidgets": {},
     "nuid": "f278a2dd-d4e7-4de0-aeb5-c1dc291c01cc",
     "showTitle": false,
     "tableResultSettingsMap": {},
     "title": ""
    }
   },
   "source": [
    "##### Dados nulos e faltantes\n",
    "\n",
    "Exibindo informações sobre as colunas para verificar nulos e faltantes."
   ]
  },
  {
   "cell_type": "code",
   "execution_count": 0,
   "metadata": {
    "application/vnd.databricks.v1+cell": {
     "cellMetadata": {
      "byteLimit": 2048000,
      "rowLimit": 10000
     },
     "inputWidgets": {},
     "nuid": "c82afceb-3518-4b12-a861-078f23ab514c",
     "showTitle": false,
     "tableResultSettingsMap": {},
     "title": ""
    }
   },
   "outputs": [
    {
     "output_type": "stream",
     "name": "stdout",
     "output_type": "stream",
     "text": [
      "<class 'pandas.core.frame.DataFrame'>\nRangeIndex: 930 entries, 0 to 929\nData columns (total 15 columns):\n #   Column                   Non-Null Count  Dtype \n---  ------                   --------------  ----- \n 0   company_name             930 non-null    object\n 1   model_name               930 non-null    object\n 2   mobile_weight            930 non-null    object\n 3   ram                      930 non-null    object\n 4   front_camera             930 non-null    object\n 5   back_camera              930 non-null    object\n 6   processor                930 non-null    object\n 7   battery_capacity         930 non-null    object\n 8   screen_size              930 non-null    object\n 9   launched_price_pakistan  930 non-null    object\n 10  launched_price_india     930 non-null    object\n 11  launched_price_china     930 non-null    object\n 12  launched_price_usa       930 non-null    object\n 13  launched_price_dubai     930 non-null    object\n 14  launched_year            930 non-null    object\ndtypes: object(15)\nmemory usage: 109.1+ KB\n"
     ]
    }
   ],
   "source": [
    "df_pd.info()"
   ]
  },
  {
   "cell_type": "markdown",
   "metadata": {
    "application/vnd.databricks.v1+cell": {
     "cellMetadata": {
      "byteLimit": 2048000,
      "rowLimit": 10000
     },
     "inputWidgets": {},
     "nuid": "e3784d61-4949-4634-9bac-e70e63d6ff15",
     "showTitle": false,
     "tableResultSettingsMap": {},
     "title": ""
    }
   },
   "source": [
    "Já se pode observar, acima, que não há dados faltantes nem nulos para tratar no conjunto de dados."
   ]
  },
  {
   "cell_type": "markdown",
   "metadata": {
    "application/vnd.databricks.v1+cell": {
     "cellMetadata": {
      "byteLimit": 2048000,
      "rowLimit": 10000
     },
     "inputWidgets": {},
     "nuid": "1e7afceb-860f-4bda-b48c-04da7f5a186f",
     "showTitle": false,
     "tableResultSettingsMap": {},
     "title": ""
    }
   },
   "source": [
    "##### Observação direta\n",
    "\n",
    "Observação dos dados tais como constam no dataframe para identificação de problemas de forma visual."
   ]
  },
  {
   "cell_type": "code",
   "execution_count": 0,
   "metadata": {
    "application/vnd.databricks.v1+cell": {
     "cellMetadata": {
      "byteLimit": 2048000,
      "rowLimit": 10000
     },
     "inputWidgets": {},
     "nuid": "489bd6c8-e7ea-427d-a81c-2aebd9873e54",
     "showTitle": false,
     "tableResultSettingsMap": {},
     "title": ""
    }
   },
   "outputs": [
    {
     "output_type": "display_data",
     "data": {
      "text/html": [
       "<div>\n",
       "<style scoped>\n",
       "    .dataframe tbody tr th:only-of-type {\n",
       "        vertical-align: middle;\n",
       "    }\n",
       "\n",
       "    .dataframe tbody tr th {\n",
       "        vertical-align: top;\n",
       "    }\n",
       "\n",
       "    .dataframe thead th {\n",
       "        text-align: right;\n",
       "    }\n",
       "</style>\n",
       "<table border=\"1\" class=\"dataframe\">\n",
       "  <thead>\n",
       "    <tr style=\"text-align: right;\">\n",
       "      <th></th>\n",
       "      <th>company_name</th>\n",
       "      <th>model_name</th>\n",
       "      <th>mobile_weight</th>\n",
       "      <th>ram</th>\n",
       "      <th>front_camera</th>\n",
       "      <th>back_camera</th>\n",
       "      <th>processor</th>\n",
       "      <th>battery_capacity</th>\n",
       "      <th>screen_size</th>\n",
       "      <th>launched_price_pakistan</th>\n",
       "      <th>launched_price_india</th>\n",
       "      <th>launched_price_china</th>\n",
       "      <th>launched_price_usa</th>\n",
       "      <th>launched_price_dubai</th>\n",
       "      <th>launched_year</th>\n",
       "    </tr>\n",
       "  </thead>\n",
       "  <tbody>\n",
       "    <tr>\n",
       "      <th>0</th>\n",
       "      <td>Apple</td>\n",
       "      <td>iPhone 16 128GB</td>\n",
       "      <td>174g</td>\n",
       "      <td>6GB</td>\n",
       "      <td>12MP</td>\n",
       "      <td>48MP</td>\n",
       "      <td>A17 Bionic</td>\n",
       "      <td>3,600mAh</td>\n",
       "      <td>6.1 inches</td>\n",
       "      <td>PKR 224,999</td>\n",
       "      <td>INR 79,999</td>\n",
       "      <td>CNY 5,799</td>\n",
       "      <td>USD 799</td>\n",
       "      <td>AED 2,799</td>\n",
       "      <td>2024</td>\n",
       "    </tr>\n",
       "    <tr>\n",
       "      <th>1</th>\n",
       "      <td>Apple</td>\n",
       "      <td>iPhone 16 256GB</td>\n",
       "      <td>174g</td>\n",
       "      <td>6GB</td>\n",
       "      <td>12MP</td>\n",
       "      <td>48MP</td>\n",
       "      <td>A17 Bionic</td>\n",
       "      <td>3,600mAh</td>\n",
       "      <td>6.1 inches</td>\n",
       "      <td>PKR 234,999</td>\n",
       "      <td>INR 84,999</td>\n",
       "      <td>CNY 6,099</td>\n",
       "      <td>USD 849</td>\n",
       "      <td>AED 2,999</td>\n",
       "      <td>2024</td>\n",
       "    </tr>\n",
       "    <tr>\n",
       "      <th>2</th>\n",
       "      <td>Apple</td>\n",
       "      <td>iPhone 16 512GB</td>\n",
       "      <td>174g</td>\n",
       "      <td>6GB</td>\n",
       "      <td>12MP</td>\n",
       "      <td>48MP</td>\n",
       "      <td>A17 Bionic</td>\n",
       "      <td>3,600mAh</td>\n",
       "      <td>6.1 inches</td>\n",
       "      <td>PKR 244,999</td>\n",
       "      <td>INR 89,999</td>\n",
       "      <td>CNY 6,499</td>\n",
       "      <td>USD 899</td>\n",
       "      <td>AED 3,199</td>\n",
       "      <td>2024</td>\n",
       "    </tr>\n",
       "    <tr>\n",
       "      <th>3</th>\n",
       "      <td>Apple</td>\n",
       "      <td>iPhone 16 Plus 128GB</td>\n",
       "      <td>203g</td>\n",
       "      <td>6GB</td>\n",
       "      <td>12MP</td>\n",
       "      <td>48MP</td>\n",
       "      <td>A17 Bionic</td>\n",
       "      <td>4,200mAh</td>\n",
       "      <td>6.7 inches</td>\n",
       "      <td>PKR 249,999</td>\n",
       "      <td>INR 89,999</td>\n",
       "      <td>CNY 6,199</td>\n",
       "      <td>USD 899</td>\n",
       "      <td>AED 3,199</td>\n",
       "      <td>2024</td>\n",
       "    </tr>\n",
       "    <tr>\n",
       "      <th>4</th>\n",
       "      <td>Apple</td>\n",
       "      <td>iPhone 16 Plus 256GB</td>\n",
       "      <td>203g</td>\n",
       "      <td>6GB</td>\n",
       "      <td>12MP</td>\n",
       "      <td>48MP</td>\n",
       "      <td>A17 Bionic</td>\n",
       "      <td>4,200mAh</td>\n",
       "      <td>6.7 inches</td>\n",
       "      <td>PKR 259,999</td>\n",
       "      <td>INR 94,999</td>\n",
       "      <td>CNY 6,499</td>\n",
       "      <td>USD 949</td>\n",
       "      <td>AED 3,399</td>\n",
       "      <td>2024</td>\n",
       "    </tr>\n",
       "  </tbody>\n",
       "</table>\n",
       "</div>"
      ]
     },
     "metadata": {
      "application/vnd.databricks.v1+output": {
       "addedWidgets": {},
       "arguments": {},
       "data": "<div>\n<style scoped>\n    .dataframe tbody tr th:only-of-type {\n        vertical-align: middle;\n    }\n\n    .dataframe tbody tr th {\n        vertical-align: top;\n    }\n\n    .dataframe thead th {\n        text-align: right;\n    }\n</style>\n<table border=\"1\" class=\"dataframe\">\n  <thead>\n    <tr style=\"text-align: right;\">\n      <th></th>\n      <th>company_name</th>\n      <th>model_name</th>\n      <th>mobile_weight</th>\n      <th>ram</th>\n      <th>front_camera</th>\n      <th>back_camera</th>\n      <th>processor</th>\n      <th>battery_capacity</th>\n      <th>screen_size</th>\n      <th>launched_price_pakistan</th>\n      <th>launched_price_india</th>\n      <th>launched_price_china</th>\n      <th>launched_price_usa</th>\n      <th>launched_price_dubai</th>\n      <th>launched_year</th>\n    </tr>\n  </thead>\n  <tbody>\n    <tr>\n      <th>0</th>\n      <td>Apple</td>\n      <td>iPhone 16 128GB</td>\n      <td>174g</td>\n      <td>6GB</td>\n      <td>12MP</td>\n      <td>48MP</td>\n      <td>A17 Bionic</td>\n      <td>3,600mAh</td>\n      <td>6.1 inches</td>\n      <td>PKR 224,999</td>\n      <td>INR 79,999</td>\n      <td>CNY 5,799</td>\n      <td>USD 799</td>\n      <td>AED 2,799</td>\n      <td>2024</td>\n    </tr>\n    <tr>\n      <th>1</th>\n      <td>Apple</td>\n      <td>iPhone 16 256GB</td>\n      <td>174g</td>\n      <td>6GB</td>\n      <td>12MP</td>\n      <td>48MP</td>\n      <td>A17 Bionic</td>\n      <td>3,600mAh</td>\n      <td>6.1 inches</td>\n      <td>PKR 234,999</td>\n      <td>INR 84,999</td>\n      <td>CNY 6,099</td>\n      <td>USD 849</td>\n      <td>AED 2,999</td>\n      <td>2024</td>\n    </tr>\n    <tr>\n      <th>2</th>\n      <td>Apple</td>\n      <td>iPhone 16 512GB</td>\n      <td>174g</td>\n      <td>6GB</td>\n      <td>12MP</td>\n      <td>48MP</td>\n      <td>A17 Bionic</td>\n      <td>3,600mAh</td>\n      <td>6.1 inches</td>\n      <td>PKR 244,999</td>\n      <td>INR 89,999</td>\n      <td>CNY 6,499</td>\n      <td>USD 899</td>\n      <td>AED 3,199</td>\n      <td>2024</td>\n    </tr>\n    <tr>\n      <th>3</th>\n      <td>Apple</td>\n      <td>iPhone 16 Plus 128GB</td>\n      <td>203g</td>\n      <td>6GB</td>\n      <td>12MP</td>\n      <td>48MP</td>\n      <td>A17 Bionic</td>\n      <td>4,200mAh</td>\n      <td>6.7 inches</td>\n      <td>PKR 249,999</td>\n      <td>INR 89,999</td>\n      <td>CNY 6,199</td>\n      <td>USD 899</td>\n      <td>AED 3,199</td>\n      <td>2024</td>\n    </tr>\n    <tr>\n      <th>4</th>\n      <td>Apple</td>\n      <td>iPhone 16 Plus 256GB</td>\n      <td>203g</td>\n      <td>6GB</td>\n      <td>12MP</td>\n      <td>48MP</td>\n      <td>A17 Bionic</td>\n      <td>4,200mAh</td>\n      <td>6.7 inches</td>\n      <td>PKR 259,999</td>\n      <td>INR 94,999</td>\n      <td>CNY 6,499</td>\n      <td>USD 949</td>\n      <td>AED 3,399</td>\n      <td>2024</td>\n    </tr>\n  </tbody>\n</table>\n</div>",
       "datasetInfos": [],
       "metadata": {},
       "removedWidgets": [],
       "textData": null,
       "type": "htmlSandbox"
      }
     },
     "output_type": "display_data"
    }
   ],
   "source": [
    "df_pd.head()"
   ]
  },
  {
   "cell_type": "markdown",
   "metadata": {
    "application/vnd.databricks.v1+cell": {
     "cellMetadata": {
      "byteLimit": 2048000,
      "rowLimit": 10000
     },
     "inputWidgets": {},
     "nuid": "7bb38fe5-6bc6-4499-881e-6dcbb0b40aa6",
     "showTitle": false,
     "tableResultSettingsMap": {},
     "title": ""
    }
   },
   "source": [
    "Observa acima que o conjunto de dados trás, em todas as colunas, a unidade de medida e o símbolo de moeda. É preciso separar o valor do dado de sua unidade de medida."
   ]
  },
  {
   "cell_type": "markdown",
   "metadata": {
    "application/vnd.databricks.v1+cell": {
     "cellMetadata": {
      "byteLimit": 2048000,
      "rowLimit": 10000
     },
     "inputWidgets": {},
     "nuid": "2456dec8-4114-4128-b01f-1dfd3b9fe744",
     "showTitle": false,
     "tableResultSettingsMap": {},
     "title": ""
    }
   },
   "source": [
    "##### Verificação de duplicidades\n",
    "\n",
    "O campo de maior interesse, que identifica unicamente o aparelho de celular, é o nome do modelo. Vamos verificar se há duplicidades. Porém, antes, é necessário eliminar linhar inteiras que estejam duplicadas, pois estas não necessitam verificações mais sofisticadas."
   ]
  },
  {
   "cell_type": "code",
   "execution_count": 0,
   "metadata": {
    "application/vnd.databricks.v1+cell": {
     "cellMetadata": {
      "byteLimit": 2048000,
      "rowLimit": 10000
     },
     "inputWidgets": {},
     "nuid": "85e6a827-6393-45b5-a4e7-ccbf28c0faeb",
     "showTitle": false,
     "tableResultSettingsMap": {},
     "title": ""
    }
   },
   "outputs": [
    {
     "output_type": "stream",
     "name": "stdout",
     "output_type": "stream",
     "text": [
      "Há duplicidades? True\nRedução de 930 para 915 linhas após remoção de duplicatas.\nValores únicos na coluna model_name: 908\n"
     ]
    }
   ],
   "source": [
    "print(f\"Há duplicidades? {df_pd.duplicated().any()}\")\n",
    "df_pd.drop_duplicates(inplace=True)\n",
    "print(f\"Redução de {df_spark.count()} para {df_pd.shape[0]} linhas após remoção de duplicatas.\")\n",
    "print(f\"Valores únicos na coluna model_name: {df_pd['model_name'].unique().size}\")"
   ]
  },
  {
   "cell_type": "markdown",
   "metadata": {
    "application/vnd.databricks.v1+cell": {
     "cellMetadata": {
      "byteLimit": 2048000,
      "rowLimit": 10000
     },
     "inputWidgets": {},
     "nuid": "1b6cc344-3840-49c8-a25f-9264bf5da0ef",
     "showTitle": false,
     "tableResultSettingsMap": {},
     "title": ""
    }
   },
   "source": [
    "Observase que a quantidade de valores únicos é menor que a quantidade total de linhas do conjunto. Isso comprova a duplicidade. A seguir, será analisado se a duplicidade pode ser solucionada com características que possam identificar o modelo de forma única."
   ]
  },
  {
   "cell_type": "code",
   "execution_count": 0,
   "metadata": {
    "application/vnd.databricks.v1+cell": {
     "cellMetadata": {
      "byteLimit": 2048000,
      "rowLimit": 10000
     },
     "inputWidgets": {},
     "nuid": "8c02730d-b0d6-4f5f-b6f4-feecfaa6bac4",
     "showTitle": false,
     "tableResultSettingsMap": {},
     "title": ""
    }
   },
   "outputs": [
    {
     "output_type": "display_data",
     "data": {
      "text/html": [
       "<div>\n",
       "<style scoped>\n",
       "    .dataframe tbody tr th:only-of-type {\n",
       "        vertical-align: middle;\n",
       "    }\n",
       "\n",
       "    .dataframe tbody tr th {\n",
       "        vertical-align: top;\n",
       "    }\n",
       "\n",
       "    .dataframe thead th {\n",
       "        text-align: right;\n",
       "    }\n",
       "</style>\n",
       "<table border=\"1\" class=\"dataframe\">\n",
       "  <thead>\n",
       "    <tr style=\"text-align: right;\">\n",
       "      <th></th>\n",
       "      <th>company_name</th>\n",
       "      <th>model_name</th>\n",
       "      <th>mobile_weight</th>\n",
       "      <th>ram</th>\n",
       "      <th>front_camera</th>\n",
       "      <th>back_camera</th>\n",
       "      <th>processor</th>\n",
       "      <th>battery_capacity</th>\n",
       "      <th>screen_size</th>\n",
       "      <th>launched_price_pakistan</th>\n",
       "      <th>launched_price_india</th>\n",
       "      <th>launched_price_china</th>\n",
       "      <th>launched_price_usa</th>\n",
       "      <th>launched_price_dubai</th>\n",
       "      <th>launched_year</th>\n",
       "    </tr>\n",
       "  </thead>\n",
       "  <tbody>\n",
       "    <tr>\n",
       "      <th>476</th>\n",
       "      <td>Realme</td>\n",
       "      <td>P2 Pro 5G 256GB</td>\n",
       "      <td>188g</td>\n",
       "      <td>12GB</td>\n",
       "      <td>32MP</td>\n",
       "      <td>50MP + 8MP + 50MP</td>\n",
       "      <td>Qualcomm Snapdragon 7+ Gen 3</td>\n",
       "      <td>5,500mAh</td>\n",
       "      <td>6.78 inches</td>\n",
       "      <td>PKR 89,999</td>\n",
       "      <td>INR 32,999</td>\n",
       "      <td>CNY 2,500</td>\n",
       "      <td>USD 340</td>\n",
       "      <td>AED 1,210</td>\n",
       "      <td>2024</td>\n",
       "    </tr>\n",
       "    <tr>\n",
       "      <th>507</th>\n",
       "      <td>Realme</td>\n",
       "      <td>P2 Pro 5G 256GB</td>\n",
       "      <td>195g</td>\n",
       "      <td>12GB</td>\n",
       "      <td>16MP</td>\n",
       "      <td>50MP + 8MP</td>\n",
       "      <td>MediaTek Dimensity 9200</td>\n",
       "      <td>5,100mAh</td>\n",
       "      <td>6.7 inches</td>\n",
       "      <td>PKR 99,999</td>\n",
       "      <td>INR 38,999</td>\n",
       "      <td>CNY 2,900</td>\n",
       "      <td>USD 400</td>\n",
       "      <td>AED 1,400</td>\n",
       "      <td>2024</td>\n",
       "    </tr>\n",
       "    <tr>\n",
       "      <th>315</th>\n",
       "      <td>Vivo</td>\n",
       "      <td>Pad 128GB</td>\n",
       "      <td>498g</td>\n",
       "      <td>6GB</td>\n",
       "      <td>8MP</td>\n",
       "      <td>13MP</td>\n",
       "      <td>Snapdragon 870</td>\n",
       "      <td>8040mAh</td>\n",
       "      <td>11 inches</td>\n",
       "      <td>PKR 64,999</td>\n",
       "      <td>INR 34,999</td>\n",
       "      <td>CNY 2,499</td>\n",
       "      <td>USD 329</td>\n",
       "      <td>AED 1,199</td>\n",
       "      <td>2022</td>\n",
       "    </tr>\n",
       "    <tr>\n",
       "      <th>321</th>\n",
       "      <td>iQOO</td>\n",
       "      <td>Pad 128GB</td>\n",
       "      <td>520g</td>\n",
       "      <td>6GB</td>\n",
       "      <td>8MP</td>\n",
       "      <td>13MP</td>\n",
       "      <td>Snapdragon 870</td>\n",
       "      <td>8040mAh</td>\n",
       "      <td>11 inches</td>\n",
       "      <td>PKR 69,999</td>\n",
       "      <td>INR 37,999</td>\n",
       "      <td>CNY 2,699</td>\n",
       "      <td>USD 349</td>\n",
       "      <td>AED 1,299</td>\n",
       "      <td>2023</td>\n",
       "    </tr>\n",
       "    <tr>\n",
       "      <th>509</th>\n",
       "      <td>Realme</td>\n",
       "      <td>Pad 128GB</td>\n",
       "      <td>440g</td>\n",
       "      <td>6GB</td>\n",
       "      <td>8MP</td>\n",
       "      <td>8MP</td>\n",
       "      <td>MediaTek Helio G80</td>\n",
       "      <td>7,100mAh</td>\n",
       "      <td>10.4 inches</td>\n",
       "      <td>PKR 64,999</td>\n",
       "      <td>INR 22,999</td>\n",
       "      <td>CNY 1,600</td>\n",
       "      <td>USD 230</td>\n",
       "      <td>AED 850</td>\n",
       "      <td>2021</td>\n",
       "    </tr>\n",
       "    <tr>\n",
       "      <th>316</th>\n",
       "      <td>Vivo</td>\n",
       "      <td>Pad 2 256GB</td>\n",
       "      <td>535g</td>\n",
       "      <td>8GB</td>\n",
       "      <td>8MP</td>\n",
       "      <td>50MP</td>\n",
       "      <td>MediaTek Dimensity 1200</td>\n",
       "      <td>8040mAh</td>\n",
       "      <td>11 inches</td>\n",
       "      <td>PKR 74,999</td>\n",
       "      <td>INR 39,999</td>\n",
       "      <td>CNY 3,199</td>\n",
       "      <td>USD 399</td>\n",
       "      <td>AED 1,399</td>\n",
       "      <td>2023</td>\n",
       "    </tr>\n",
       "    <tr>\n",
       "      <th>322</th>\n",
       "      <td>iQOO</td>\n",
       "      <td>Pad 2 256GB</td>\n",
       "      <td>540g</td>\n",
       "      <td>8GB</td>\n",
       "      <td>8MP</td>\n",
       "      <td>50MP</td>\n",
       "      <td>Snapdragon 888</td>\n",
       "      <td>8040mAh</td>\n",
       "      <td>12.3 inches</td>\n",
       "      <td>PKR 79,999</td>\n",
       "      <td>INR 43,999</td>\n",
       "      <td>CNY 3,499</td>\n",
       "      <td>USD 399</td>\n",
       "      <td>AED 1,499</td>\n",
       "      <td>2024</td>\n",
       "    </tr>\n",
       "    <tr>\n",
       "      <th>511</th>\n",
       "      <td>Realme</td>\n",
       "      <td>Pad 2 256GB</td>\n",
       "      <td>482g</td>\n",
       "      <td>8GB</td>\n",
       "      <td>8MP</td>\n",
       "      <td>8MP</td>\n",
       "      <td>MediaTek Helio G99</td>\n",
       "      <td>8,360mAh</td>\n",
       "      <td>11.5 inches</td>\n",
       "      <td>PKR 84,999</td>\n",
       "      <td>INR 31,999</td>\n",
       "      <td>CNY 2,300</td>\n",
       "      <td>USD 320</td>\n",
       "      <td>AED 1,200</td>\n",
       "      <td>2023</td>\n",
       "    </tr>\n",
       "    <tr>\n",
       "      <th>318</th>\n",
       "      <td>Vivo</td>\n",
       "      <td>Pad 3 128GB</td>\n",
       "      <td>500g</td>\n",
       "      <td>6GB</td>\n",
       "      <td>8MP</td>\n",
       "      <td>13MP</td>\n",
       "      <td>Snapdragon 750G</td>\n",
       "      <td>8040mAh</td>\n",
       "      <td>11 inches</td>\n",
       "      <td>PKR 62,999</td>\n",
       "      <td>INR 34,999</td>\n",
       "      <td>CNY 2,399</td>\n",
       "      <td>USD 349</td>\n",
       "      <td>AED 1,199</td>\n",
       "      <td>2023</td>\n",
       "    </tr>\n",
       "    <tr>\n",
       "      <th>358</th>\n",
       "      <td>Oppo</td>\n",
       "      <td>Pad 3 128GB</td>\n",
       "      <td>533g</td>\n",
       "      <td>8GB</td>\n",
       "      <td>8MP</td>\n",
       "      <td>13MP</td>\n",
       "      <td>Dimensity 8350</td>\n",
       "      <td>9510mAh</td>\n",
       "      <td>11.6 inches</td>\n",
       "      <td>PKR 99,999</td>\n",
       "      <td>INR 54,999</td>\n",
       "      <td>CNY 4,499</td>\n",
       "      <td>USD 699</td>\n",
       "      <td>AED 2,499</td>\n",
       "      <td>2024</td>\n",
       "    </tr>\n",
       "    <tr>\n",
       "      <th>319</th>\n",
       "      <td>Vivo</td>\n",
       "      <td>Pad 3 Pro 256GB</td>\n",
       "      <td>550g</td>\n",
       "      <td>8GB</td>\n",
       "      <td>8MP</td>\n",
       "      <td>50MP</td>\n",
       "      <td>Snapdragon 888</td>\n",
       "      <td>8040mAh</td>\n",
       "      <td>12.3 inches</td>\n",
       "      <td>PKR 84,999</td>\n",
       "      <td>INR 45,999</td>\n",
       "      <td>CNY 3,599</td>\n",
       "      <td>USD 449</td>\n",
       "      <td>AED 1,599</td>\n",
       "      <td>2023</td>\n",
       "    </tr>\n",
       "    <tr>\n",
       "      <th>360</th>\n",
       "      <td>Oppo</td>\n",
       "      <td>Pad 3 Pro 256GB</td>\n",
       "      <td>586g</td>\n",
       "      <td>12GB</td>\n",
       "      <td>8MP</td>\n",
       "      <td>13MP</td>\n",
       "      <td>Snapdragon 8 Gen 3</td>\n",
       "      <td>9510mAh</td>\n",
       "      <td>12.1 inches</td>\n",
       "      <td>PKR 119,999</td>\n",
       "      <td>INR 64,999</td>\n",
       "      <td>CNY 5,499</td>\n",
       "      <td>USD 899</td>\n",
       "      <td>AED 3,299</td>\n",
       "      <td>2024</td>\n",
       "    </tr>\n",
       "  </tbody>\n",
       "</table>\n",
       "</div>"
      ]
     },
     "metadata": {
      "application/vnd.databricks.v1+output": {
       "addedWidgets": {},
       "arguments": {},
       "data": "<div>\n<style scoped>\n    .dataframe tbody tr th:only-of-type {\n        vertical-align: middle;\n    }\n\n    .dataframe tbody tr th {\n        vertical-align: top;\n    }\n\n    .dataframe thead th {\n        text-align: right;\n    }\n</style>\n<table border=\"1\" class=\"dataframe\">\n  <thead>\n    <tr style=\"text-align: right;\">\n      <th></th>\n      <th>company_name</th>\n      <th>model_name</th>\n      <th>mobile_weight</th>\n      <th>ram</th>\n      <th>front_camera</th>\n      <th>back_camera</th>\n      <th>processor</th>\n      <th>battery_capacity</th>\n      <th>screen_size</th>\n      <th>launched_price_pakistan</th>\n      <th>launched_price_india</th>\n      <th>launched_price_china</th>\n      <th>launched_price_usa</th>\n      <th>launched_price_dubai</th>\n      <th>launched_year</th>\n    </tr>\n  </thead>\n  <tbody>\n    <tr>\n      <th>476</th>\n      <td>Realme</td>\n      <td>P2 Pro 5G 256GB</td>\n      <td>188g</td>\n      <td>12GB</td>\n      <td>32MP</td>\n      <td>50MP + 8MP + 50MP</td>\n      <td>Qualcomm Snapdragon 7+ Gen 3</td>\n      <td>5,500mAh</td>\n      <td>6.78 inches</td>\n      <td>PKR 89,999</td>\n      <td>INR 32,999</td>\n      <td>CNY 2,500</td>\n      <td>USD 340</td>\n      <td>AED 1,210</td>\n      <td>2024</td>\n    </tr>\n    <tr>\n      <th>507</th>\n      <td>Realme</td>\n      <td>P2 Pro 5G 256GB</td>\n      <td>195g</td>\n      <td>12GB</td>\n      <td>16MP</td>\n      <td>50MP + 8MP</td>\n      <td>MediaTek Dimensity 9200</td>\n      <td>5,100mAh</td>\n      <td>6.7 inches</td>\n      <td>PKR 99,999</td>\n      <td>INR 38,999</td>\n      <td>CNY 2,900</td>\n      <td>USD 400</td>\n      <td>AED 1,400</td>\n      <td>2024</td>\n    </tr>\n    <tr>\n      <th>315</th>\n      <td>Vivo</td>\n      <td>Pad 128GB</td>\n      <td>498g</td>\n      <td>6GB</td>\n      <td>8MP</td>\n      <td>13MP</td>\n      <td>Snapdragon 870</td>\n      <td>8040mAh</td>\n      <td>11 inches</td>\n      <td>PKR 64,999</td>\n      <td>INR 34,999</td>\n      <td>CNY 2,499</td>\n      <td>USD 329</td>\n      <td>AED 1,199</td>\n      <td>2022</td>\n    </tr>\n    <tr>\n      <th>321</th>\n      <td>iQOO</td>\n      <td>Pad 128GB</td>\n      <td>520g</td>\n      <td>6GB</td>\n      <td>8MP</td>\n      <td>13MP</td>\n      <td>Snapdragon 870</td>\n      <td>8040mAh</td>\n      <td>11 inches</td>\n      <td>PKR 69,999</td>\n      <td>INR 37,999</td>\n      <td>CNY 2,699</td>\n      <td>USD 349</td>\n      <td>AED 1,299</td>\n      <td>2023</td>\n    </tr>\n    <tr>\n      <th>509</th>\n      <td>Realme</td>\n      <td>Pad 128GB</td>\n      <td>440g</td>\n      <td>6GB</td>\n      <td>8MP</td>\n      <td>8MP</td>\n      <td>MediaTek Helio G80</td>\n      <td>7,100mAh</td>\n      <td>10.4 inches</td>\n      <td>PKR 64,999</td>\n      <td>INR 22,999</td>\n      <td>CNY 1,600</td>\n      <td>USD 230</td>\n      <td>AED 850</td>\n      <td>2021</td>\n    </tr>\n    <tr>\n      <th>316</th>\n      <td>Vivo</td>\n      <td>Pad 2 256GB</td>\n      <td>535g</td>\n      <td>8GB</td>\n      <td>8MP</td>\n      <td>50MP</td>\n      <td>MediaTek Dimensity 1200</td>\n      <td>8040mAh</td>\n      <td>11 inches</td>\n      <td>PKR 74,999</td>\n      <td>INR 39,999</td>\n      <td>CNY 3,199</td>\n      <td>USD 399</td>\n      <td>AED 1,399</td>\n      <td>2023</td>\n    </tr>\n    <tr>\n      <th>322</th>\n      <td>iQOO</td>\n      <td>Pad 2 256GB</td>\n      <td>540g</td>\n      <td>8GB</td>\n      <td>8MP</td>\n      <td>50MP</td>\n      <td>Snapdragon 888</td>\n      <td>8040mAh</td>\n      <td>12.3 inches</td>\n      <td>PKR 79,999</td>\n      <td>INR 43,999</td>\n      <td>CNY 3,499</td>\n      <td>USD 399</td>\n      <td>AED 1,499</td>\n      <td>2024</td>\n    </tr>\n    <tr>\n      <th>511</th>\n      <td>Realme</td>\n      <td>Pad 2 256GB</td>\n      <td>482g</td>\n      <td>8GB</td>\n      <td>8MP</td>\n      <td>8MP</td>\n      <td>MediaTek Helio G99</td>\n      <td>8,360mAh</td>\n      <td>11.5 inches</td>\n      <td>PKR 84,999</td>\n      <td>INR 31,999</td>\n      <td>CNY 2,300</td>\n      <td>USD 320</td>\n      <td>AED 1,200</td>\n      <td>2023</td>\n    </tr>\n    <tr>\n      <th>318</th>\n      <td>Vivo</td>\n      <td>Pad 3 128GB</td>\n      <td>500g</td>\n      <td>6GB</td>\n      <td>8MP</td>\n      <td>13MP</td>\n      <td>Snapdragon 750G</td>\n      <td>8040mAh</td>\n      <td>11 inches</td>\n      <td>PKR 62,999</td>\n      <td>INR 34,999</td>\n      <td>CNY 2,399</td>\n      <td>USD 349</td>\n      <td>AED 1,199</td>\n      <td>2023</td>\n    </tr>\n    <tr>\n      <th>358</th>\n      <td>Oppo</td>\n      <td>Pad 3 128GB</td>\n      <td>533g</td>\n      <td>8GB</td>\n      <td>8MP</td>\n      <td>13MP</td>\n      <td>Dimensity 8350</td>\n      <td>9510mAh</td>\n      <td>11.6 inches</td>\n      <td>PKR 99,999</td>\n      <td>INR 54,999</td>\n      <td>CNY 4,499</td>\n      <td>USD 699</td>\n      <td>AED 2,499</td>\n      <td>2024</td>\n    </tr>\n    <tr>\n      <th>319</th>\n      <td>Vivo</td>\n      <td>Pad 3 Pro 256GB</td>\n      <td>550g</td>\n      <td>8GB</td>\n      <td>8MP</td>\n      <td>50MP</td>\n      <td>Snapdragon 888</td>\n      <td>8040mAh</td>\n      <td>12.3 inches</td>\n      <td>PKR 84,999</td>\n      <td>INR 45,999</td>\n      <td>CNY 3,599</td>\n      <td>USD 449</td>\n      <td>AED 1,599</td>\n      <td>2023</td>\n    </tr>\n    <tr>\n      <th>360</th>\n      <td>Oppo</td>\n      <td>Pad 3 Pro 256GB</td>\n      <td>586g</td>\n      <td>12GB</td>\n      <td>8MP</td>\n      <td>13MP</td>\n      <td>Snapdragon 8 Gen 3</td>\n      <td>9510mAh</td>\n      <td>12.1 inches</td>\n      <td>PKR 119,999</td>\n      <td>INR 64,999</td>\n      <td>CNY 5,499</td>\n      <td>USD 899</td>\n      <td>AED 3,299</td>\n      <td>2024</td>\n    </tr>\n  </tbody>\n</table>\n</div>",
       "datasetInfos": [],
       "metadata": {},
       "removedWidgets": [],
       "textData": null,
       "type": "htmlSandbox"
      }
     },
     "output_type": "display_data"
    }
   ],
   "source": [
    "df_pd.reset_index()\n",
    "duplicados = df_pd[df_pd['model_name'].duplicated(keep=False)]\n",
    "duplicados.sort_values(by='model_name', inplace=True)\n",
    "duplicados"
   ]
  },
  {
   "cell_type": "markdown",
   "metadata": {
    "application/vnd.databricks.v1+cell": {
     "cellMetadata": {
      "byteLimit": 2048000,
      "rowLimit": 10000
     },
     "inputWidgets": {},
     "nuid": "e862b7d0-8021-4a39-b8ba-f406e2a8a071",
     "showTitle": false,
     "tableResultSettingsMap": {},
     "title": ""
    }
   },
   "source": [
    "Exceto pelo primeiro modelo da lista, o \"P2 Pro 5G 256GB\", todos os demais são casos de modelos com nomes muito genéricos que acabaram coincidindo com o de algum concorrente. Podemos acrescentar o nome do fabricante ao modelo e, assim, resolver estes casos. Quanto ao modelo da \"Realme\", podemos resolver pela resolução da câmera frontal."
   ]
  },
  {
   "cell_type": "markdown",
   "metadata": {
    "application/vnd.databricks.v1+cell": {
     "cellMetadata": {
      "byteLimit": 2048000,
      "rowLimit": 10000
     },
     "inputWidgets": {},
     "nuid": "152ef98b-2efc-48a7-b483-f435e85498c3",
     "showTitle": false,
     "tableResultSettingsMap": {},
     "title": ""
    }
   },
   "source": [
    "### Tratamento dos Dados\n",
    "\n",
    "Serão feitos os tratamentos observados como necessários na análise. A qualidade geral dos dados está boa, restando separar os valores e as unidades de medidas, além de resolver as duplicidades nos nomes dos modelos."
   ]
  },
  {
   "cell_type": "markdown",
   "metadata": {
    "application/vnd.databricks.v1+cell": {
     "cellMetadata": {
      "byteLimit": 2048000,
      "rowLimit": 10000
     },
     "inputWidgets": {},
     "nuid": "f1c066e4-0444-4af8-bd81-19b517b48274",
     "showTitle": false,
     "tableResultSettingsMap": {},
     "title": ""
    }
   },
   "source": [
    "#### Tratamento de duplicidades\n",
    "\n",
    "Como os modelos aparentemente duplicados, na verdade, são coincidências de nomes com concorrentes ou de modelos com características físicas distintas, será utilizada como solução a criação de um identificador único, baseado em UUID, que posteriormente servirá como chave primária da tabelas de modelos."
   ]
  },
  {
   "cell_type": "code",
   "execution_count": 0,
   "metadata": {
    "application/vnd.databricks.v1+cell": {
     "cellMetadata": {
      "byteLimit": 2048000,
      "rowLimit": 10000
     },
     "inputWidgets": {},
     "nuid": "0f3536a0-ac05-4e8b-8930-ed8ea719f684",
     "showTitle": false,
     "tableResultSettingsMap": {},
     "title": ""
    }
   },
   "outputs": [
    {
     "output_type": "stream",
     "name": "stdout",
     "output_type": "stream",
     "text": [
      "Out[128]: 915"
     ]
    }
   ],
   "source": [
    "df_pd['model_id'] = [str(uuid.uuid4()) for x in range(df_pd.shape[0])]\n",
    "df_pd['model_id'].unique().size"
   ]
  },
  {
   "cell_type": "markdown",
   "metadata": {
    "application/vnd.databricks.v1+cell": {
     "cellMetadata": {
      "byteLimit": 2048000,
      "rowLimit": 10000
     },
     "inputWidgets": {},
     "nuid": "9c3f3db9-7367-44c1-bc68-58fd903fc1bc",
     "showTitle": false,
     "tableResultSettingsMap": {},
     "title": ""
    }
   },
   "source": [
    "#### Tratamento de dados técnicos\n",
    "\n",
    "Os dados que possuem unidades de medida misturadas com o valor do dado em si, e outras impurezas, serão higienizados e transformados em dados numéricos."
   ]
  },
  {
   "cell_type": "code",
   "execution_count": 0,
   "metadata": {
    "application/vnd.databricks.v1+cell": {
     "cellMetadata": {
      "byteLimit": 2048000,
      "rowLimit": 10000
     },
     "inputWidgets": {},
     "nuid": "9dc4a6e1-81ff-439b-94f5-a1ac343e380f",
     "showTitle": false,
     "tableResultSettingsMap": {},
     "title": ""
    }
   },
   "outputs": [],
   "source": [
    "# mobile_weight: Removendo o \"g\" de grama e convertendo para inteiro.\n",
    "df_pd['mobile_weight'] = df_pd['mobile_weight'].apply(lambda x: int(float(x.replace('g', ''))))\n",
    "\n",
    "# front_camera: Removendo o \"MP\" de megapixel e convertendo para inteiro:\n",
    "df_pd['front_camera'] = df_pd['front_camera'].apply(lambda x: float(re.sub(r\"[^0-9\\.]\", \"\", x[0:x.find('MP')])))\n",
    "\n",
    "# back_camera: Removendo o \"MP\" de megapixel e convertendo para inteiro:\n",
    "df_pd['back_camera'] = df_pd['back_camera'].apply(lambda x: float(re.sub(r\"[^0-9\\.]\", \"\", x[0:x.find('MP')])))\n",
    "\n",
    "# screen_size: Removendo o \"inches\" de polegada e convertendo para float:\n",
    "df_pd['screen_size'] = df_pd['screen_size'].apply(lambda x: float(re.sub(r\"[^0-9\\.]\", \"\", x[0:x.find('inches')])))\n",
    "\n",
    "# ram: Removendo o \"GB\" de gigabytes e convertendo para inteiro.\n",
    "df_pd['ram'] = df_pd['ram'].apply(lambda x: int(float(re.sub(r\"[^0-9]\", \"\", x))))\n",
    "\n",
    "# battery_capacity: Removendo o \"mAh\" de micro ampére e convertendo para inteiro:\n",
    "df_pd['battery_capacity'] = df_pd['battery_capacity'].apply(lambda x: int(float(re.sub(r\"[^0-9]\", \"\", x))))"
   ]
  },
  {
   "cell_type": "markdown",
   "metadata": {
    "application/vnd.databricks.v1+cell": {
     "cellMetadata": {
      "byteLimit": 2048000,
      "rowLimit": 10000
     },
     "inputWidgets": {},
     "nuid": "3f3be904-811e-4b36-afed-199742a2b985",
     "showTitle": false,
     "tableResultSettingsMap": {},
     "title": ""
    }
   },
   "source": [
    "##### Tratamento de dados de preços\n",
    "\n",
    "Tratamento de falta de padrão nos dados, tais como uso de \",\" e \".\" para decimais e milhares, símbolos de moeda e outros tratamentos são realizados."
   ]
  },
  {
   "cell_type": "code",
   "execution_count": 0,
   "metadata": {
    "application/vnd.databricks.v1+cell": {
     "cellMetadata": {
      "byteLimit": 2048000,
      "rowLimit": 10000
     },
     "inputWidgets": {},
     "nuid": "b0892c6e-c6aa-4199-9946-bc63129d9b3e",
     "showTitle": false,
     "tableResultSettingsMap": {},
     "title": ""
    }
   },
   "outputs": [],
   "source": [
    "def convert_price(price_str):\n",
    "   \n",
    "    price_str = '0' + re.sub(r\"[^0-9\\.,]\", '', price_str).strip()\n",
    "    \n",
    "    # Caso 1: Vírgula como decimal (ex: \"1.234,56\" ou \"1234,56\")\n",
    "    if ',' in price_str and (price_str.count('.') <= 1 or '.' not in price_str):\n",
    "        return float(price_str.replace('.', '').replace(',', '.'))\n",
    "    \n",
    "    # Caso 2: Ponto como decimal (ex: \"1,234.56\" ou \"1234.56\")\n",
    "    elif '.' in price_str:\n",
    "        return float(price_str.replace(',', ''))\n",
    "    \n",
    "    # Caso 3: Sem separador decimal explícito (ex: \"1234\")\n",
    "    else:\n",
    "        return float(price_str.replace(',', '').replace('.', ''))"
   ]
  },
  {
   "cell_type": "code",
   "execution_count": 0,
   "metadata": {
    "application/vnd.databricks.v1+cell": {
     "cellMetadata": {
      "byteLimit": 2048000,
      "rowLimit": 10000
     },
     "inputWidgets": {},
     "nuid": "27874818-0f83-4166-be9a-110304bc5b83",
     "showTitle": false,
     "tableResultSettingsMap": {},
     "title": ""
    }
   },
   "outputs": [],
   "source": [
    "# launched_price_pakistan: Removendo o \"PKR\", símbolo da moeda do Paquistão, e convertendo para float:\n",
    "df_pd['launched_price_pakistan'] = df_pd['launched_price_pakistan'].apply(lambda x: convert_price(x))\n",
    "\n",
    "# launched_price_india: Removendo preços da Índia devido haver muitos erros:\n",
    "df_pd.drop(columns=['launched_price_india'], inplace=True)\n",
    "\n",
    "# launched_price_china: Removendo o \"CNY\", símbolo da moeda do China, e convertendo para float:\n",
    "df_pd['launched_price_china'] = df_pd['launched_price_china'].apply(lambda x: convert_price(x))\n",
    "\n",
    "# launched_price_usa: Removendo o \"USD\", símbolo da moeda dos USA, e convertendo para float:\n",
    "df_pd['launched_price_usa'] = df_pd['launched_price_usa'].apply(lambda x: convert_price(x))\n",
    "\n",
    "# launched_price_dubai: Removendo o \"AED\", símbolo da moeda de Dubai, e convertendo para float:\n",
    "df_pd['launched_price_dubai'] = df_pd['launched_price_dubai'].apply(lambda x: convert_price(x))"
   ]
  },
  {
   "cell_type": "markdown",
   "metadata": {
    "application/vnd.databricks.v1+cell": {
     "cellMetadata": {
      "byteLimit": 2048000,
      "rowLimit": 10000
     },
     "inputWidgets": {},
     "nuid": "a68583af-40cf-400b-92ac-4043fe4d69a9",
     "showTitle": false,
     "tableResultSettingsMap": {},
     "title": ""
    }
   },
   "source": [
    "##### Verificação de estatística sumarizada\n",
    "\n",
    "Verificação para identificar problemas a partir da estátistica sumarizada, tais como conversões de valores que potencialmente falharam."
   ]
  },
  {
   "cell_type": "code",
   "execution_count": 0,
   "metadata": {
    "application/vnd.databricks.v1+cell": {
     "cellMetadata": {
      "byteLimit": 2048000,
      "rowLimit": 10000
     },
     "inputWidgets": {},
     "nuid": "51ab8880-8123-480e-a469-2eb24e3c84c7",
     "showTitle": false,
     "tableResultSettingsMap": {},
     "title": ""
    }
   },
   "outputs": [
    {
     "output_type": "display_data",
     "data": {
      "text/html": [
       "<div>\n",
       "<style scoped>\n",
       "    .dataframe tbody tr th:only-of-type {\n",
       "        vertical-align: middle;\n",
       "    }\n",
       "\n",
       "    .dataframe tbody tr th {\n",
       "        vertical-align: top;\n",
       "    }\n",
       "\n",
       "    .dataframe thead th {\n",
       "        text-align: right;\n",
       "    }\n",
       "</style>\n",
       "<table border=\"1\" class=\"dataframe\">\n",
       "  <thead>\n",
       "    <tr style=\"text-align: right;\">\n",
       "      <th></th>\n",
       "      <th>mobile_weight</th>\n",
       "      <th>ram</th>\n",
       "      <th>front_camera</th>\n",
       "      <th>back_camera</th>\n",
       "      <th>battery_capacity</th>\n",
       "      <th>screen_size</th>\n",
       "      <th>launched_price_pakistan</th>\n",
       "      <th>launched_price_china</th>\n",
       "      <th>launched_price_usa</th>\n",
       "      <th>launched_price_dubai</th>\n",
       "    </tr>\n",
       "  </thead>\n",
       "  <tbody>\n",
       "    <tr>\n",
       "      <th>count</th>\n",
       "      <td>915.000000</td>\n",
       "      <td>915.000000</td>\n",
       "      <td>915.000000</td>\n",
       "      <td>915.000000</td>\n",
       "      <td>915.000000</td>\n",
       "      <td>915.000000</td>\n",
       "      <td>915.000000</td>\n",
       "      <td>915.000000</td>\n",
       "      <td>915.000000</td>\n",
       "      <td>915.000000</td>\n",
       "    </tr>\n",
       "    <tr>\n",
       "      <th>mean</th>\n",
       "      <td>228.910383</td>\n",
       "      <td>7.818579</td>\n",
       "      <td>18.166776</td>\n",
       "      <td>46.491585</td>\n",
       "      <td>5030.280874</td>\n",
       "      <td>7.092678</td>\n",
       "      <td>126.420894</td>\n",
       "      <td>55.876281</td>\n",
       "      <td>387.311970</td>\n",
       "      <td>188.170957</td>\n",
       "    </tr>\n",
       "    <tr>\n",
       "      <th>std</th>\n",
       "      <td>106.164722</td>\n",
       "      <td>3.195642</td>\n",
       "      <td>12.043474</td>\n",
       "      <td>31.124175</td>\n",
       "      <td>1365.571834</td>\n",
       "      <td>1.544578</td>\n",
       "      <td>102.059571</td>\n",
       "      <td>212.145618</td>\n",
       "      <td>289.767579</td>\n",
       "      <td>332.295706</td>\n",
       "    </tr>\n",
       "    <tr>\n",
       "      <th>min</th>\n",
       "      <td>135.000000</td>\n",
       "      <td>1.000000</td>\n",
       "      <td>2.000000</td>\n",
       "      <td>5.000000</td>\n",
       "      <td>2000.000000</td>\n",
       "      <td>5.000000</td>\n",
       "      <td>0.000000</td>\n",
       "      <td>1.050000</td>\n",
       "      <td>1.049000</td>\n",
       "      <td>1.000000</td>\n",
       "    </tr>\n",
       "    <tr>\n",
       "      <th>25%</th>\n",
       "      <td>185.000000</td>\n",
       "      <td>6.000000</td>\n",
       "      <td>8.000000</td>\n",
       "      <td>13.000000</td>\n",
       "      <td>4400.000000</td>\n",
       "      <td>6.500000</td>\n",
       "      <td>54.999000</td>\n",
       "      <td>1.999000</td>\n",
       "      <td>180.000000</td>\n",
       "      <td>1.699000</td>\n",
       "    </tr>\n",
       "    <tr>\n",
       "      <th>50%</th>\n",
       "      <td>195.000000</td>\n",
       "      <td>8.000000</td>\n",
       "      <td>16.000000</td>\n",
       "      <td>50.000000</td>\n",
       "      <td>5000.000000</td>\n",
       "      <td>6.670000</td>\n",
       "      <td>89.999000</td>\n",
       "      <td>3.299000</td>\n",
       "      <td>329.000000</td>\n",
       "      <td>3.199000</td>\n",
       "    </tr>\n",
       "    <tr>\n",
       "      <th>75%</th>\n",
       "      <td>209.000000</td>\n",
       "      <td>8.000000</td>\n",
       "      <td>32.000000</td>\n",
       "      <td>50.000000</td>\n",
       "      <td>5100.000000</td>\n",
       "      <td>6.780000</td>\n",
       "      <td>179.999000</td>\n",
       "      <td>6.299000</td>\n",
       "      <td>574.000000</td>\n",
       "      <td>10.799000</td>\n",
       "    </tr>\n",
       "    <tr>\n",
       "      <th>max</th>\n",
       "      <td>732.000000</td>\n",
       "      <td>16.000000</td>\n",
       "      <td>60.000000</td>\n",
       "      <td>200.000000</td>\n",
       "      <td>11200.000000</td>\n",
       "      <td>14.600000</td>\n",
       "      <td>604.999000</td>\n",
       "      <td>999.000000</td>\n",
       "      <td>1719.000000</td>\n",
       "      <td>999.000000</td>\n",
       "    </tr>\n",
       "  </tbody>\n",
       "</table>\n",
       "</div>"
      ]
     },
     "metadata": {
      "application/vnd.databricks.v1+output": {
       "addedWidgets": {},
       "arguments": {},
       "data": "<div>\n<style scoped>\n    .dataframe tbody tr th:only-of-type {\n        vertical-align: middle;\n    }\n\n    .dataframe tbody tr th {\n        vertical-align: top;\n    }\n\n    .dataframe thead th {\n        text-align: right;\n    }\n</style>\n<table border=\"1\" class=\"dataframe\">\n  <thead>\n    <tr style=\"text-align: right;\">\n      <th></th>\n      <th>mobile_weight</th>\n      <th>ram</th>\n      <th>front_camera</th>\n      <th>back_camera</th>\n      <th>battery_capacity</th>\n      <th>screen_size</th>\n      <th>launched_price_pakistan</th>\n      <th>launched_price_china</th>\n      <th>launched_price_usa</th>\n      <th>launched_price_dubai</th>\n    </tr>\n  </thead>\n  <tbody>\n    <tr>\n      <th>count</th>\n      <td>915.000000</td>\n      <td>915.000000</td>\n      <td>915.000000</td>\n      <td>915.000000</td>\n      <td>915.000000</td>\n      <td>915.000000</td>\n      <td>915.000000</td>\n      <td>915.000000</td>\n      <td>915.000000</td>\n      <td>915.000000</td>\n    </tr>\n    <tr>\n      <th>mean</th>\n      <td>228.910383</td>\n      <td>7.818579</td>\n      <td>18.166776</td>\n      <td>46.491585</td>\n      <td>5030.280874</td>\n      <td>7.092678</td>\n      <td>126.420894</td>\n      <td>55.876281</td>\n      <td>387.311970</td>\n      <td>188.170957</td>\n    </tr>\n    <tr>\n      <th>std</th>\n      <td>106.164722</td>\n      <td>3.195642</td>\n      <td>12.043474</td>\n      <td>31.124175</td>\n      <td>1365.571834</td>\n      <td>1.544578</td>\n      <td>102.059571</td>\n      <td>212.145618</td>\n      <td>289.767579</td>\n      <td>332.295706</td>\n    </tr>\n    <tr>\n      <th>min</th>\n      <td>135.000000</td>\n      <td>1.000000</td>\n      <td>2.000000</td>\n      <td>5.000000</td>\n      <td>2000.000000</td>\n      <td>5.000000</td>\n      <td>0.000000</td>\n      <td>1.050000</td>\n      <td>1.049000</td>\n      <td>1.000000</td>\n    </tr>\n    <tr>\n      <th>25%</th>\n      <td>185.000000</td>\n      <td>6.000000</td>\n      <td>8.000000</td>\n      <td>13.000000</td>\n      <td>4400.000000</td>\n      <td>6.500000</td>\n      <td>54.999000</td>\n      <td>1.999000</td>\n      <td>180.000000</td>\n      <td>1.699000</td>\n    </tr>\n    <tr>\n      <th>50%</th>\n      <td>195.000000</td>\n      <td>8.000000</td>\n      <td>16.000000</td>\n      <td>50.000000</td>\n      <td>5000.000000</td>\n      <td>6.670000</td>\n      <td>89.999000</td>\n      <td>3.299000</td>\n      <td>329.000000</td>\n      <td>3.199000</td>\n    </tr>\n    <tr>\n      <th>75%</th>\n      <td>209.000000</td>\n      <td>8.000000</td>\n      <td>32.000000</td>\n      <td>50.000000</td>\n      <td>5100.000000</td>\n      <td>6.780000</td>\n      <td>179.999000</td>\n      <td>6.299000</td>\n      <td>574.000000</td>\n      <td>10.799000</td>\n    </tr>\n    <tr>\n      <th>max</th>\n      <td>732.000000</td>\n      <td>16.000000</td>\n      <td>60.000000</td>\n      <td>200.000000</td>\n      <td>11200.000000</td>\n      <td>14.600000</td>\n      <td>604.999000</td>\n      <td>999.000000</td>\n      <td>1719.000000</td>\n      <td>999.000000</td>\n    </tr>\n  </tbody>\n</table>\n</div>",
       "datasetInfos": [],
       "metadata": {},
       "removedWidgets": [],
       "textData": null,
       "type": "htmlSandbox"
      }
     },
     "output_type": "display_data"
    }
   ],
   "source": [
    "df_pd.describe()"
   ]
  },
  {
   "cell_type": "markdown",
   "metadata": {
    "application/vnd.databricks.v1+cell": {
     "cellMetadata": {
      "byteLimit": 2048000,
      "rowLimit": 10000
     },
     "inputWidgets": {},
     "nuid": "15761ec0-72cc-49fe-94ae-34ba4dc03b5b",
     "showTitle": false,
     "tableResultSettingsMap": {},
     "title": ""
    }
   },
   "source": [
    "### Separação dos dados em tabelas\n",
    "\n",
    "Organização dos dados de acordo com cada tabela que será armazenada na camada silver."
   ]
  },
  {
   "cell_type": "markdown",
   "metadata": {
    "application/vnd.databricks.v1+cell": {
     "cellMetadata": {
      "byteLimit": 2048000,
      "rowLimit": 10000
     },
     "inputWidgets": {},
     "nuid": "36b876f3-48b9-44c2-80e7-62f3df988e71",
     "showTitle": false,
     "tableResultSettingsMap": {},
     "title": ""
    }
   },
   "source": [
    "#### Tabela de empresas\n",
    "\n",
    "Tabelas dimensão com dados das empresas concorrentes que são fabricantes de aparelhos celulares (silver.company)."
   ]
  },
  {
   "cell_type": "code",
   "execution_count": 0,
   "metadata": {
    "application/vnd.databricks.v1+cell": {
     "cellMetadata": {
      "byteLimit": 2048000,
      "rowLimit": 10000
     },
     "inputWidgets": {},
     "nuid": "b4a655e0-b29f-4f83-8e4a-a84784b32a17",
     "showTitle": false,
     "tableResultSettingsMap": {},
     "title": ""
    }
   },
   "outputs": [
    {
     "output_type": "display_data",
     "data": {
      "text/html": [
       "<div>\n",
       "<style scoped>\n",
       "    .dataframe tbody tr th:only-of-type {\n",
       "        vertical-align: middle;\n",
       "    }\n",
       "\n",
       "    .dataframe tbody tr th {\n",
       "        vertical-align: top;\n",
       "    }\n",
       "\n",
       "    .dataframe thead th {\n",
       "        text-align: right;\n",
       "    }\n",
       "</style>\n",
       "<table border=\"1\" class=\"dataframe\">\n",
       "  <thead>\n",
       "    <tr style=\"text-align: right;\">\n",
       "      <th></th>\n",
       "      <th>company_name</th>\n",
       "      <th>company_id</th>\n",
       "    </tr>\n",
       "  </thead>\n",
       "  <tbody>\n",
       "    <tr>\n",
       "      <th>0</th>\n",
       "      <td>Apple</td>\n",
       "      <td>b584fcf4-6fea-46d7-8a5b-2cc994df30f3</td>\n",
       "    </tr>\n",
       "    <tr>\n",
       "      <th>1</th>\n",
       "      <td>Samsung</td>\n",
       "      <td>05f2afcc-51bd-412e-87dd-b32ac7e2ff4e</td>\n",
       "    </tr>\n",
       "    <tr>\n",
       "      <th>2</th>\n",
       "      <td>OnePlus</td>\n",
       "      <td>c482a035-36fe-4b4a-8a6f-a3b10aa45304</td>\n",
       "    </tr>\n",
       "    <tr>\n",
       "      <th>3</th>\n",
       "      <td>Vivo</td>\n",
       "      <td>a2d25021-3c44-4554-886f-31d39c9ce5cf</td>\n",
       "    </tr>\n",
       "    <tr>\n",
       "      <th>4</th>\n",
       "      <td>iQOO</td>\n",
       "      <td>55db049c-f1c9-4760-b4f3-365a1310dc83</td>\n",
       "    </tr>\n",
       "    <tr>\n",
       "      <th>5</th>\n",
       "      <td>Oppo</td>\n",
       "      <td>67a5680f-b05e-43bc-bb18-c4e37156c89a</td>\n",
       "    </tr>\n",
       "    <tr>\n",
       "      <th>6</th>\n",
       "      <td>Realme</td>\n",
       "      <td>0e37c57d-fa83-4e60-bf8e-f58663a7a9d5</td>\n",
       "    </tr>\n",
       "    <tr>\n",
       "      <th>7</th>\n",
       "      <td>Xiaomi</td>\n",
       "      <td>fca2bc57-3f4e-4fce-860b-68c09e167af0</td>\n",
       "    </tr>\n",
       "    <tr>\n",
       "      <th>8</th>\n",
       "      <td>Lenovo</td>\n",
       "      <td>5f74fb21-5da8-4ca6-b857-8f5e26a1d891</td>\n",
       "    </tr>\n",
       "    <tr>\n",
       "      <th>9</th>\n",
       "      <td>Motorola</td>\n",
       "      <td>c5316e43-ffcc-4e48-afc1-1f1c1f16f00c</td>\n",
       "    </tr>\n",
       "    <tr>\n",
       "      <th>10</th>\n",
       "      <td>Huawei</td>\n",
       "      <td>a8b99050-4edd-4f52-be47-f1412f22d271</td>\n",
       "    </tr>\n",
       "    <tr>\n",
       "      <th>11</th>\n",
       "      <td>Nokia</td>\n",
       "      <td>ac61f121-74e3-46b7-8e49-07b7c62b85ce</td>\n",
       "    </tr>\n",
       "    <tr>\n",
       "      <th>12</th>\n",
       "      <td>Sony</td>\n",
       "      <td>cc45a7ea-6429-43a4-8ad7-4db55e270bd5</td>\n",
       "    </tr>\n",
       "    <tr>\n",
       "      <th>13</th>\n",
       "      <td>Google</td>\n",
       "      <td>2ebda534-5445-4a4a-8ae7-08214f6c08e1</td>\n",
       "    </tr>\n",
       "    <tr>\n",
       "      <th>14</th>\n",
       "      <td>Tecno</td>\n",
       "      <td>90df224a-3a24-4c6d-aba0-055521efeb19</td>\n",
       "    </tr>\n",
       "    <tr>\n",
       "      <th>15</th>\n",
       "      <td>Infinix</td>\n",
       "      <td>c7ac6aed-2adc-4a43-9fc7-de7e68f7225d</td>\n",
       "    </tr>\n",
       "    <tr>\n",
       "      <th>16</th>\n",
       "      <td>Honor</td>\n",
       "      <td>6d36605e-cb30-4904-ac48-3f077de29121</td>\n",
       "    </tr>\n",
       "    <tr>\n",
       "      <th>17</th>\n",
       "      <td>POCO</td>\n",
       "      <td>170ff202-ef75-4f45-b30d-d159d1269fa0</td>\n",
       "    </tr>\n",
       "    <tr>\n",
       "      <th>18</th>\n",
       "      <td>Poco</td>\n",
       "      <td>6bc6f3e0-68eb-485e-af3e-0a1c4694f484</td>\n",
       "    </tr>\n",
       "  </tbody>\n",
       "</table>\n",
       "</div>"
      ]
     },
     "metadata": {
      "application/vnd.databricks.v1+output": {
       "addedWidgets": {},
       "arguments": {},
       "data": "<div>\n<style scoped>\n    .dataframe tbody tr th:only-of-type {\n        vertical-align: middle;\n    }\n\n    .dataframe tbody tr th {\n        vertical-align: top;\n    }\n\n    .dataframe thead th {\n        text-align: right;\n    }\n</style>\n<table border=\"1\" class=\"dataframe\">\n  <thead>\n    <tr style=\"text-align: right;\">\n      <th></th>\n      <th>company_name</th>\n      <th>company_id</th>\n    </tr>\n  </thead>\n  <tbody>\n    <tr>\n      <th>0</th>\n      <td>Apple</td>\n      <td>b584fcf4-6fea-46d7-8a5b-2cc994df30f3</td>\n    </tr>\n    <tr>\n      <th>1</th>\n      <td>Samsung</td>\n      <td>05f2afcc-51bd-412e-87dd-b32ac7e2ff4e</td>\n    </tr>\n    <tr>\n      <th>2</th>\n      <td>OnePlus</td>\n      <td>c482a035-36fe-4b4a-8a6f-a3b10aa45304</td>\n    </tr>\n    <tr>\n      <th>3</th>\n      <td>Vivo</td>\n      <td>a2d25021-3c44-4554-886f-31d39c9ce5cf</td>\n    </tr>\n    <tr>\n      <th>4</th>\n      <td>iQOO</td>\n      <td>55db049c-f1c9-4760-b4f3-365a1310dc83</td>\n    </tr>\n    <tr>\n      <th>5</th>\n      <td>Oppo</td>\n      <td>67a5680f-b05e-43bc-bb18-c4e37156c89a</td>\n    </tr>\n    <tr>\n      <th>6</th>\n      <td>Realme</td>\n      <td>0e37c57d-fa83-4e60-bf8e-f58663a7a9d5</td>\n    </tr>\n    <tr>\n      <th>7</th>\n      <td>Xiaomi</td>\n      <td>fca2bc57-3f4e-4fce-860b-68c09e167af0</td>\n    </tr>\n    <tr>\n      <th>8</th>\n      <td>Lenovo</td>\n      <td>5f74fb21-5da8-4ca6-b857-8f5e26a1d891</td>\n    </tr>\n    <tr>\n      <th>9</th>\n      <td>Motorola</td>\n      <td>c5316e43-ffcc-4e48-afc1-1f1c1f16f00c</td>\n    </tr>\n    <tr>\n      <th>10</th>\n      <td>Huawei</td>\n      <td>a8b99050-4edd-4f52-be47-f1412f22d271</td>\n    </tr>\n    <tr>\n      <th>11</th>\n      <td>Nokia</td>\n      <td>ac61f121-74e3-46b7-8e49-07b7c62b85ce</td>\n    </tr>\n    <tr>\n      <th>12</th>\n      <td>Sony</td>\n      <td>cc45a7ea-6429-43a4-8ad7-4db55e270bd5</td>\n    </tr>\n    <tr>\n      <th>13</th>\n      <td>Google</td>\n      <td>2ebda534-5445-4a4a-8ae7-08214f6c08e1</td>\n    </tr>\n    <tr>\n      <th>14</th>\n      <td>Tecno</td>\n      <td>90df224a-3a24-4c6d-aba0-055521efeb19</td>\n    </tr>\n    <tr>\n      <th>15</th>\n      <td>Infinix</td>\n      <td>c7ac6aed-2adc-4a43-9fc7-de7e68f7225d</td>\n    </tr>\n    <tr>\n      <th>16</th>\n      <td>Honor</td>\n      <td>6d36605e-cb30-4904-ac48-3f077de29121</td>\n    </tr>\n    <tr>\n      <th>17</th>\n      <td>POCO</td>\n      <td>170ff202-ef75-4f45-b30d-d159d1269fa0</td>\n    </tr>\n    <tr>\n      <th>18</th>\n      <td>Poco</td>\n      <td>6bc6f3e0-68eb-485e-af3e-0a1c4694f484</td>\n    </tr>\n  </tbody>\n</table>\n</div>",
       "datasetInfos": [],
       "metadata": {},
       "removedWidgets": [],
       "textData": null,
       "type": "htmlSandbox"
      }
     },
     "output_type": "display_data"
    }
   ],
   "source": [
    "company_df = pd.DataFrame()\n",
    "company_df['company_name'] = df_pd['company_name'].unique()\n",
    "company_df['company_id'] = [str(uuid.uuid4()) for x in range(company_df.shape[0])]\n",
    "company_df"
   ]
  },
  {
   "cell_type": "markdown",
   "metadata": {
    "application/vnd.databricks.v1+cell": {
     "cellMetadata": {
      "byteLimit": 2048000,
      "rowLimit": 10000
     },
     "inputWidgets": {},
     "nuid": "7be57a61-febd-4cb5-a3c4-52e0ec77af1f",
     "showTitle": false,
     "tableResultSettingsMap": {},
     "title": ""
    }
   },
   "source": [
    "#### Tabela de modelos\n",
    "\n",
    "Tabela dimensão com dados dos modelos de celulares e suas características técnicas (silver.model)."
   ]
  },
  {
   "cell_type": "code",
   "execution_count": 0,
   "metadata": {
    "application/vnd.databricks.v1+cell": {
     "cellMetadata": {
      "byteLimit": 2048000,
      "rowLimit": 10000
     },
     "inputWidgets": {},
     "nuid": "ce9941d6-ae98-4677-8d8f-66508096405c",
     "showTitle": false,
     "tableResultSettingsMap": {},
     "title": ""
    }
   },
   "outputs": [
    {
     "output_type": "stream",
     "name": "stdout",
     "output_type": "stream",
     "text": [
      "Out[134]: (915, 10)"
     ]
    }
   ],
   "source": [
    "model_df = pd.DataFrame()\n",
    "model_df = df_pd[[\n",
    "  'model_id','model_name','mobile_weight',\n",
    "  'ram','front_camera','back_camera',\n",
    "  'processor','battery_capacity',\n",
    "  'screen_size','launched_year'\n",
    "]]\n",
    "model_df.shape"
   ]
  },
  {
   "cell_type": "markdown",
   "metadata": {
    "application/vnd.databricks.v1+cell": {
     "cellMetadata": {
      "byteLimit": 2048000,
      "rowLimit": 10000
     },
     "inputWidgets": {},
     "nuid": "156d7c23-4a4a-4055-98c9-3019fc5fd516",
     "showTitle": false,
     "tableResultSettingsMap": {},
     "title": ""
    }
   },
   "source": [
    "#### Tabela de preços\n",
    "\n",
    "Tabela dimensão com dados dos preços dos modelos de celulares em cada país."
   ]
  },
  {
   "cell_type": "code",
   "execution_count": 0,
   "metadata": {
    "application/vnd.databricks.v1+cell": {
     "cellMetadata": {
      "byteLimit": 2048000,
      "rowLimit": 10000
     },
     "inputWidgets": {},
     "nuid": "60ec6eb8-4ef6-4a7c-9c7c-82490e9b1d39",
     "showTitle": false,
     "tableResultSettingsMap": {},
     "title": ""
    }
   },
   "outputs": [
    {
     "output_type": "stream",
     "name": "stdout",
     "output_type": "stream",
     "text": [
      "Out[135]: (3660, 3)"
     ]
    }
   ],
   "source": [
    "# Suprime o aviso SettingWithCopyWarning\n",
    "warnings.filterwarnings(\"ignore\", category=pd.core.common.SettingWithCopyWarning)\n",
    "\n",
    "price_df = pd.DataFrame()\n",
    "temp_df = pd.DataFrame()\n",
    "\n",
    "temp_df = df_pd[['model_id', 'launched_price_pakistan']]\n",
    "temp_df = temp_df.rename(columns={'launched_price_pakistan': 'launched_price'})\n",
    "temp_df['country'] = 'pakistan'\n",
    "price_df = pd.concat([price_df, temp_df])\n",
    "\n",
    "temp_df = df_pd[['model_id', 'launched_price_china']]\n",
    "temp_df = temp_df.rename(columns={'launched_price_china': 'launched_price'})\n",
    "temp_df['country'] = 'china'\n",
    "price_df = pd.concat([price_df, temp_df])\n",
    "\n",
    "temp_df = df_pd[['model_id', 'launched_price_usa']]\n",
    "temp_df = temp_df.rename(columns={'launched_price_usa': 'launched_price'})\n",
    "temp_df['country'] = 'usa'\n",
    "price_df = pd.concat([price_df, temp_df])\n",
    "\n",
    "temp_df = df_pd[['model_id', 'launched_price_dubai']]\n",
    "temp_df = temp_df.rename(columns={'launched_price_dubai': 'launched_price'})\n",
    "temp_df['country'] = 'dubai'\n",
    "price_df = pd.concat([price_df, temp_df])\n",
    "\n",
    "price_df.shape"
   ]
  },
  {
   "cell_type": "markdown",
   "metadata": {
    "application/vnd.databricks.v1+cell": {
     "cellMetadata": {
      "byteLimit": 2048000,
      "rowLimit": 10000
     },
     "inputWidgets": {},
     "nuid": "01ef9503-313c-4355-b362-331f23f117d9",
     "showTitle": false,
     "tableResultSettingsMap": {},
     "title": ""
    }
   },
   "source": [
    "#### Tabela de smartphones\n",
    "\n",
    "Tabela com dados dos smartphones, que é a tabela fato do modelo (silver.smartphones)."
   ]
  },
  {
   "cell_type": "code",
   "execution_count": 0,
   "metadata": {
    "application/vnd.databricks.v1+cell": {
     "cellMetadata": {
      "byteLimit": 2048000,
      "rowLimit": 10000
     },
     "inputWidgets": {},
     "nuid": "43e2531a-e132-4b77-97e9-0ce6838a2d60",
     "showTitle": false,
     "tableResultSettingsMap": {},
     "title": ""
    }
   },
   "outputs": [
    {
     "output_type": "stream",
     "name": "stdout",
     "output_type": "stream",
     "text": [
      "Out[136]: (915, 3)"
     ]
    }
   ],
   "source": [
    "company_dict = company_df.set_index('company_name')['company_id'].to_dict()\n",
    "df_pd['company_id'] = df_pd['company_name'].apply(lambda x: company_dict.get(x))\n",
    "\n",
    "smartphones_df = df_pd[['company_id', 'model_id']]\n",
    "smartphones_df['smartphone_id'] = [str(uuid.uuid4()) for x in range(smartphones_df.shape[0])]\n",
    "smartphones_df.shape"
   ]
  },
  {
   "cell_type": "markdown",
   "metadata": {
    "application/vnd.databricks.v1+cell": {
     "cellMetadata": {
      "byteLimit": 2048000,
      "rowLimit": 10000
     },
     "inputWidgets": {},
     "nuid": "8c5c2cad-457f-465e-908d-aeb1e1df58cb",
     "showTitle": false,
     "tableResultSettingsMap": {},
     "title": ""
    }
   },
   "source": [
    "### Persistência dos dados nas tabelas\n",
    "\n",
    "A seguir, os dados da camada silver serão persistidos em suas respectivas tabelas."
   ]
  },
  {
   "cell_type": "code",
   "execution_count": 0,
   "metadata": {
    "application/vnd.databricks.v1+cell": {
     "cellMetadata": {
      "byteLimit": 2048000,
      "rowLimit": 10000
     },
     "inputWidgets": {},
     "nuid": "cc95917b-afb5-4543-84d9-fe3f5bc256cf",
     "showTitle": false,
     "tableResultSettingsMap": {},
     "title": ""
    }
   },
   "outputs": [],
   "source": [
    "# Grava os dados na tabela Delta:\n",
    "def save_data(table_name, df_spark):\n",
    "    df_spark \\\n",
    "    .write \\\n",
    "    .format(\"delta\") \\\n",
    "    .mode(\"append\") \\\n",
    "    .saveAsTable(table_name)\n",
    "    print(f\"Dados carregados com sucesso na tabela {table_name}.\")"
   ]
  },
  {
   "cell_type": "markdown",
   "metadata": {
    "application/vnd.databricks.v1+cell": {
     "cellMetadata": {
      "byteLimit": 2048000,
      "rowLimit": 10000
     },
     "inputWidgets": {},
     "nuid": "d1f76472-999f-4fb5-8f6f-9ade65e89d36",
     "showTitle": false,
     "tableResultSettingsMap": {},
     "title": ""
    }
   },
   "source": [
    "#### Tabela silver.company\n",
    "\n",
    "Persistência dos dados das empresas concorrentes."
   ]
  },
  {
   "cell_type": "code",
   "execution_count": 0,
   "metadata": {
    "application/vnd.databricks.v1+cell": {
     "cellMetadata": {
      "byteLimit": 2048000,
      "rowLimit": 10000
     },
     "inputWidgets": {},
     "nuid": "15fac4a1-bb64-4426-91cf-d99c5cd924cf",
     "showTitle": false,
     "tableResultSettingsMap": {},
     "title": ""
    }
   },
   "outputs": [
    {
     "output_type": "stream",
     "name": "stdout",
     "output_type": "stream",
     "text": [
      "Dados carregados com sucesso na tabela silver.company.\n"
     ]
    }
   ],
   "source": [
    "df_spark = spark.createDataFrame(company_df)\n",
    "save_data('silver.company', df_spark)"
   ]
  },
  {
   "cell_type": "markdown",
   "metadata": {
    "application/vnd.databricks.v1+cell": {
     "cellMetadata": {
      "byteLimit": 2048000,
      "rowLimit": 10000
     },
     "inputWidgets": {},
     "nuid": "fef4985f-f3c2-491b-b63e-751ae439b09a",
     "showTitle": false,
     "tableResultSettingsMap": {},
     "title": ""
    }
   },
   "source": [
    "#### Tabela silver.model\n",
    "\n",
    "Persistência dos dados dos modelos de smartphones."
   ]
  },
  {
   "cell_type": "code",
   "execution_count": 0,
   "metadata": {
    "application/vnd.databricks.v1+cell": {
     "cellMetadata": {
      "byteLimit": 2048000,
      "rowLimit": 10000
     },
     "inputWidgets": {},
     "nuid": "a03dc5e0-701a-498e-9e1b-6d1edcc8dff3",
     "showTitle": false,
     "tableResultSettingsMap": {},
     "title": ""
    }
   },
   "outputs": [
    {
     "output_type": "stream",
     "name": "stdout",
     "output_type": "stream",
     "text": [
      "Dados carregados com sucesso na tabela silver.model.\n"
     ]
    }
   ],
   "source": [
    "df_spark = spark.createDataFrame(model_df)\n",
    "df_spark = df_spark.withColumn(\"mobile_weight\", col(\"mobile_weight\").cast(\"decimal(10,2)\"))\n",
    "df_spark = df_spark.withColumn(\"front_camera\", col(\"front_camera\").cast(\"decimal(10,2)\"))\n",
    "df_spark = df_spark.withColumn(\"back_camera\", col(\"back_camera\").cast(\"decimal(10,2)\"))\n",
    "df_spark = df_spark.withColumn(\"screen_size\", col(\"screen_size\").cast(\"decimal(4,2)\"))\n",
    "df_spark = df_spark.withColumn(\"battery_capacity\", col(\"battery_capacity\").cast(\"integer\"))\n",
    "df_spark = df_spark.withColumn(\"launched_year\", col(\"launched_year\").cast(\"integer\"))\n",
    "df_spark = df_spark.withColumn(\"ram\", col(\"ram\").cast(\"integer\"))\n",
    "save_data('silver.model', df_spark)"
   ]
  },
  {
   "cell_type": "markdown",
   "metadata": {
    "application/vnd.databricks.v1+cell": {
     "cellMetadata": {
      "byteLimit": 2048000,
      "rowLimit": 10000
     },
     "inputWidgets": {},
     "nuid": "2ffa7f0d-3bba-4d95-a1a2-808856002654",
     "showTitle": false,
     "tableResultSettingsMap": {},
     "title": ""
    }
   },
   "source": [
    "#### Tabela silver.prices\n",
    "\n",
    "Persistência dos dados dos preços de lançamento dos modelos de smartphones."
   ]
  },
  {
   "cell_type": "code",
   "execution_count": 0,
   "metadata": {
    "application/vnd.databricks.v1+cell": {
     "cellMetadata": {
      "byteLimit": 2048000,
      "rowLimit": 10000
     },
     "inputWidgets": {},
     "nuid": "ae8f5a65-0efe-43dc-8ce4-8918a94d2523",
     "showTitle": false,
     "tableResultSettingsMap": {},
     "title": ""
    }
   },
   "outputs": [
    {
     "output_type": "stream",
     "name": "stdout",
     "output_type": "stream",
     "text": [
      "Dados carregados com sucesso na tabela silver.price.\n"
     ]
    }
   ],
   "source": [
    "df_spark = spark.createDataFrame(price_df)\n",
    "df_spark = df_spark.withColumn(\"launched_price\", col(\"launched_price\").cast(\"decimal(10,2)\"))\n",
    "save_data('silver.price', df_spark)"
   ]
  },
  {
   "cell_type": "markdown",
   "metadata": {
    "application/vnd.databricks.v1+cell": {
     "cellMetadata": {
      "byteLimit": 2048000,
      "rowLimit": 10000
     },
     "inputWidgets": {},
     "nuid": "34766ffa-72c1-46ae-83f6-7330c42e3f59",
     "showTitle": false,
     "tableResultSettingsMap": {},
     "title": ""
    }
   },
   "source": [
    "#### Tabela silver.smartphones\n",
    "\n",
    "Persistência dos dados dos smartphones, tabela fato com chaves para as demais tabelas dimensão."
   ]
  },
  {
   "cell_type": "code",
   "execution_count": 0,
   "metadata": {
    "application/vnd.databricks.v1+cell": {
     "cellMetadata": {
      "byteLimit": 2048000,
      "rowLimit": 10000
     },
     "inputWidgets": {},
     "nuid": "d941fc58-1182-4bb2-9342-d2b58d66beec",
     "showTitle": false,
     "tableResultSettingsMap": {},
     "title": ""
    }
   },
   "outputs": [
    {
     "output_type": "stream",
     "name": "stdout",
     "output_type": "stream",
     "text": [
      "Dados carregados com sucesso na tabela silver.smartphones.\n"
     ]
    }
   ],
   "source": [
    "df_spark = spark.createDataFrame(smartphones_df)\n",
    "save_data('silver.smartphones', df_spark)"
   ]
  },
  {
   "cell_type": "markdown",
   "metadata": {
    "application/vnd.databricks.v1+cell": {
     "cellMetadata": {
      "byteLimit": 2048000,
      "rowLimit": 10000
     },
     "inputWidgets": {},
     "nuid": "24220c88-b103-4351-b6cd-62dcc73034ab",
     "showTitle": false,
     "tableResultSettingsMap": {},
     "title": ""
    }
   },
   "source": [
    "### Teste de carga da Tabela\n",
    "\n",
    "Teste de carga da tabela, para garantir o sucesso da operação."
   ]
  },
  {
   "cell_type": "code",
   "execution_count": 0,
   "metadata": {
    "application/vnd.databricks.v1+cell": {
     "cellMetadata": {
      "byteLimit": 2048000,
      "implicitDf": true,
      "rowLimit": 10000
     },
     "inputWidgets": {},
     "nuid": "098938f1-220a-4a37-9059-69eda44d1212",
     "showTitle": false,
     "tableResultSettingsMap": {},
     "title": ""
    }
   },
   "outputs": [
    {
     "output_type": "display_data",
     "data": {
      "text/html": [
       "<style scoped>\n",
       "  .table-result-container {\n",
       "    max-height: 300px;\n",
       "    overflow: auto;\n",
       "  }\n",
       "  table, th, td {\n",
       "    border: 1px solid black;\n",
       "    border-collapse: collapse;\n",
       "  }\n",
       "  th, td {\n",
       "    padding: 5px;\n",
       "  }\n",
       "  th {\n",
       "    text-align: left;\n",
       "  }\n",
       "</style><div class='table-result-container'><table class='table-result'><thead style='background-color: white'><tr><th>company_id</th><th>company_name</th></tr></thead><tbody><tr><td>b584fcf4-6fea-46d7-8a5b-2cc994df30f3</td><td>Apple</td></tr><tr><td>05f2afcc-51bd-412e-87dd-b32ac7e2ff4e</td><td>Samsung</td></tr><tr><td>c482a035-36fe-4b4a-8a6f-a3b10aa45304</td><td>OnePlus</td></tr><tr><td>a2d25021-3c44-4554-886f-31d39c9ce5cf</td><td>Vivo</td></tr><tr><td>55db049c-f1c9-4760-b4f3-365a1310dc83</td><td>iQOO</td></tr><tr><td>67a5680f-b05e-43bc-bb18-c4e37156c89a</td><td>Oppo</td></tr><tr><td>0e37c57d-fa83-4e60-bf8e-f58663a7a9d5</td><td>Realme</td></tr><tr><td>fca2bc57-3f4e-4fce-860b-68c09e167af0</td><td>Xiaomi</td></tr><tr><td>5f74fb21-5da8-4ca6-b857-8f5e26a1d891</td><td>Lenovo</td></tr><tr><td>c5316e43-ffcc-4e48-afc1-1f1c1f16f00c</td><td>Motorola</td></tr></tbody></table></div>"
      ]
     },
     "metadata": {
      "application/vnd.databricks.v1+output": {
       "addedWidgets": {},
       "aggData": [],
       "aggError": "",
       "aggOverflow": false,
       "aggSchema": [],
       "aggSeriesLimitReached": false,
       "aggType": "",
       "arguments": {},
       "columnCustomDisplayInfos": {},
       "data": [
        [
         "b584fcf4-6fea-46d7-8a5b-2cc994df30f3",
         "Apple"
        ],
        [
         "05f2afcc-51bd-412e-87dd-b32ac7e2ff4e",
         "Samsung"
        ],
        [
         "c482a035-36fe-4b4a-8a6f-a3b10aa45304",
         "OnePlus"
        ],
        [
         "a2d25021-3c44-4554-886f-31d39c9ce5cf",
         "Vivo"
        ],
        [
         "55db049c-f1c9-4760-b4f3-365a1310dc83",
         "iQOO"
        ],
        [
         "67a5680f-b05e-43bc-bb18-c4e37156c89a",
         "Oppo"
        ],
        [
         "0e37c57d-fa83-4e60-bf8e-f58663a7a9d5",
         "Realme"
        ],
        [
         "fca2bc57-3f4e-4fce-860b-68c09e167af0",
         "Xiaomi"
        ],
        [
         "5f74fb21-5da8-4ca6-b857-8f5e26a1d891",
         "Lenovo"
        ],
        [
         "c5316e43-ffcc-4e48-afc1-1f1c1f16f00c",
         "Motorola"
        ]
       ],
       "datasetInfos": [],
       "dbfsResultPath": null,
       "isJsonSchema": true,
       "metadata": {},
       "overflow": false,
       "plotOptions": {
        "customPlotOptions": {},
        "displayType": "table",
        "pivotAggregation": null,
        "pivotColumns": null,
        "xColumns": null,
        "yColumns": null
       },
       "removedWidgets": [],
       "schema": [
        {
         "metadata": "{\"comment\":\"Chave primária (UUID)\"}",
         "name": "company_id",
         "type": "\"string\""
        },
        {
         "metadata": "{\"comment\":\"Nome da empresa fabricante\"}",
         "name": "company_name",
         "type": "\"string\""
        }
       ],
       "type": "table"
      }
     },
     "output_type": "display_data"
    }
   ],
   "source": [
    "%sql select * from silver.company limit 10"
   ]
  },
  {
   "cell_type": "code",
   "execution_count": 0,
   "metadata": {
    "application/vnd.databricks.v1+cell": {
     "cellMetadata": {
      "byteLimit": 2048000,
      "implicitDf": true,
      "rowLimit": 10000
     },
     "inputWidgets": {},
     "nuid": "dd80ce49-5293-4f18-896e-c2609e2e6b9a",
     "showTitle": false,
     "tableResultSettingsMap": {},
     "title": ""
    }
   },
   "outputs": [
    {
     "output_type": "display_data",
     "data": {
      "text/html": [
       "<style scoped>\n",
       "  .table-result-container {\n",
       "    max-height: 300px;\n",
       "    overflow: auto;\n",
       "  }\n",
       "  table, th, td {\n",
       "    border: 1px solid black;\n",
       "    border-collapse: collapse;\n",
       "  }\n",
       "  th, td {\n",
       "    padding: 5px;\n",
       "  }\n",
       "  th {\n",
       "    text-align: left;\n",
       "  }\n",
       "</style><div class='table-result-container'><table class='table-result'><thead style='background-color: white'><tr><th>model_id</th><th>model_name</th><th>mobile_weight</th><th>ram</th><th>qt_total_cameras</th><th>front_camera</th><th>back_camera</th><th>processor</th><th>battery_capacity</th><th>screen_size</th><th>launched_year</th></tr></thead><tbody><tr><td>dd913374-b682-49fc-bdc0-60a17a1278b7</td><td>iPhone 16 128GB</td><td>174.00</td><td>6</td><td>null</td><td>12.00</td><td>48.00</td><td>A17 Bionic</td><td>3600</td><td>6.10</td><td>2024</td></tr><tr><td>77b45527-e18d-45f7-a7dc-36c861bbddbe</td><td>iPhone 16 256GB</td><td>174.00</td><td>6</td><td>null</td><td>12.00</td><td>48.00</td><td>A17 Bionic</td><td>3600</td><td>6.10</td><td>2024</td></tr><tr><td>25ba81b5-2569-4f02-ad50-434da407d594</td><td>iPhone 16 512GB</td><td>174.00</td><td>6</td><td>null</td><td>12.00</td><td>48.00</td><td>A17 Bionic</td><td>3600</td><td>6.10</td><td>2024</td></tr><tr><td>1e206a76-5fe9-4c5e-952f-f44749cbe495</td><td>iPhone 16 Plus 128GB</td><td>203.00</td><td>6</td><td>null</td><td>12.00</td><td>48.00</td><td>A17 Bionic</td><td>4200</td><td>6.70</td><td>2024</td></tr><tr><td>848b43e9-70bc-4039-afd1-2ecd2a231d69</td><td>iPhone 16 Plus 256GB</td><td>203.00</td><td>6</td><td>null</td><td>12.00</td><td>48.00</td><td>A17 Bionic</td><td>4200</td><td>6.70</td><td>2024</td></tr><tr><td>87b31c5a-49e4-41c3-b508-6c72f13d100c</td><td>iPhone 16 Plus 512GB</td><td>203.00</td><td>6</td><td>null</td><td>12.00</td><td>48.00</td><td>A17 Bionic</td><td>4200</td><td>6.70</td><td>2024</td></tr><tr><td>ac5859c1-7502-4eaa-be85-2e7514c81d29</td><td>iPhone 16 Pro 128GB</td><td>206.00</td><td>6</td><td>null</td><td>12.00</td><td>50.00</td><td>A17 Pro</td><td>4400</td><td>6.10</td><td>2024</td></tr><tr><td>d950d4f3-ad3e-455a-a610-6e19a3a42a2a</td><td>iPhone 16 Pro 256GB</td><td>206.00</td><td>8</td><td>null</td><td>12.00</td><td>50.00</td><td>A17 Pro</td><td>4400</td><td>6.10</td><td>2024</td></tr><tr><td>5458c7b2-c0d3-4449-be3b-b12dc2912bd4</td><td>iPhone 16 Pro 512GB</td><td>206.00</td><td>8</td><td>null</td><td>12.00</td><td>50.00</td><td>A17 Pro</td><td>4400</td><td>6.10</td><td>2024</td></tr><tr><td>4809239c-fb16-41e8-ae07-8e4975eb9a1a</td><td>iPhone 16 Pro Max 128GB</td><td>221.00</td><td>6</td><td>null</td><td>12.00</td><td>48.00</td><td>A17 Pro</td><td>4500</td><td>6.70</td><td>2024</td></tr></tbody></table></div>"
      ]
     },
     "metadata": {
      "application/vnd.databricks.v1+output": {
       "addedWidgets": {},
       "aggData": [],
       "aggError": "",
       "aggOverflow": false,
       "aggSchema": [],
       "aggSeriesLimitReached": false,
       "aggType": "",
       "arguments": {},
       "columnCustomDisplayInfos": {},
       "data": [
        [
         "dd913374-b682-49fc-bdc0-60a17a1278b7",
         "iPhone 16 128GB",
         "174.00",
         6,
         null,
         "12.00",
         "48.00",
         "A17 Bionic",
         3600,
         "6.10",
         2024
        ],
        [
         "77b45527-e18d-45f7-a7dc-36c861bbddbe",
         "iPhone 16 256GB",
         "174.00",
         6,
         null,
         "12.00",
         "48.00",
         "A17 Bionic",
         3600,
         "6.10",
         2024
        ],
        [
         "25ba81b5-2569-4f02-ad50-434da407d594",
         "iPhone 16 512GB",
         "174.00",
         6,
         null,
         "12.00",
         "48.00",
         "A17 Bionic",
         3600,
         "6.10",
         2024
        ],
        [
         "1e206a76-5fe9-4c5e-952f-f44749cbe495",
         "iPhone 16 Plus 128GB",
         "203.00",
         6,
         null,
         "12.00",
         "48.00",
         "A17 Bionic",
         4200,
         "6.70",
         2024
        ],
        [
         "848b43e9-70bc-4039-afd1-2ecd2a231d69",
         "iPhone 16 Plus 256GB",
         "203.00",
         6,
         null,
         "12.00",
         "48.00",
         "A17 Bionic",
         4200,
         "6.70",
         2024
        ],
        [
         "87b31c5a-49e4-41c3-b508-6c72f13d100c",
         "iPhone 16 Plus 512GB",
         "203.00",
         6,
         null,
         "12.00",
         "48.00",
         "A17 Bionic",
         4200,
         "6.70",
         2024
        ],
        [
         "ac5859c1-7502-4eaa-be85-2e7514c81d29",
         "iPhone 16 Pro 128GB",
         "206.00",
         6,
         null,
         "12.00",
         "50.00",
         "A17 Pro",
         4400,
         "6.10",
         2024
        ],
        [
         "d950d4f3-ad3e-455a-a610-6e19a3a42a2a",
         "iPhone 16 Pro 256GB",
         "206.00",
         8,
         null,
         "12.00",
         "50.00",
         "A17 Pro",
         4400,
         "6.10",
         2024
        ],
        [
         "5458c7b2-c0d3-4449-be3b-b12dc2912bd4",
         "iPhone 16 Pro 512GB",
         "206.00",
         8,
         null,
         "12.00",
         "50.00",
         "A17 Pro",
         4400,
         "6.10",
         2024
        ],
        [
         "4809239c-fb16-41e8-ae07-8e4975eb9a1a",
         "iPhone 16 Pro Max 128GB",
         "221.00",
         6,
         null,
         "12.00",
         "48.00",
         "A17 Pro",
         4500,
         "6.70",
         2024
        ]
       ],
       "datasetInfos": [],
       "dbfsResultPath": null,
       "isJsonSchema": true,
       "metadata": {},
       "overflow": false,
       "plotOptions": {
        "customPlotOptions": {},
        "displayType": "table",
        "pivotAggregation": null,
        "pivotColumns": null,
        "xColumns": null,
        "yColumns": null
       },
       "removedWidgets": [],
       "schema": [
        {
         "metadata": "{\"comment\":\"Chave primária (UUID)\"}",
         "name": "model_id",
         "type": "\"string\""
        },
        {
         "metadata": "{\"comment\":\"Nome do modelo\"}",
         "name": "model_name",
         "type": "\"string\""
        },
        {
         "metadata": "{\"comment\":\"Peso em gramas\"}",
         "name": "mobile_weight",
         "type": "\"decimal(10,2)\""
        },
        {
         "metadata": "{\"comment\":\"Quantidade de memória RAM em GB\"}",
         "name": "ram",
         "type": "\"integer\""
        },
        {
         "metadata": "{\"comment\":\"Quantidade total de câmeras\"}",
         "name": "qt_total_cameras",
         "type": "\"integer\""
        },
        {
         "metadata": "{\"comment\":\"Resolução da câmera frontal principal em MP\"}",
         "name": "front_camera",
         "type": "\"decimal(10,2)\""
        },
        {
         "metadata": "{\"comment\":\"Resolução da câmera traseira principal em MP\"}",
         "name": "back_camera",
         "type": "\"decimal(10,2)\""
        },
        {
         "metadata": "{\"comment\":\"Processador do aparelho\"}",
         "name": "processor",
         "type": "\"string\""
        },
        {
         "metadata": "{\"comment\":\"Capacidade da bateria em mAh\"}",
         "name": "battery_capacity",
         "type": "\"integer\""
        },
        {
         "metadata": "{\"comment\":\"Tamanho da tela\"}",
         "name": "screen_size",
         "type": "\"decimal(4,2)\""
        },
        {
         "metadata": "{\"comment\":\"Ano de lançamento\"}",
         "name": "launched_year",
         "type": "\"integer\""
        }
       ],
       "type": "table"
      }
     },
     "output_type": "display_data"
    }
   ],
   "source": [
    "%sql select * from silver.model limit 10"
   ]
  },
  {
   "cell_type": "code",
   "execution_count": 0,
   "metadata": {
    "application/vnd.databricks.v1+cell": {
     "cellMetadata": {
      "byteLimit": 2048000,
      "implicitDf": true,
      "rowLimit": 10000
     },
     "inputWidgets": {},
     "nuid": "67e0ede8-c5c3-405b-9a9a-56d574200c3c",
     "showTitle": false,
     "tableResultSettingsMap": {},
     "title": ""
    }
   },
   "outputs": [
    {
     "output_type": "display_data",
     "data": {
      "text/html": [
       "<style scoped>\n",
       "  .table-result-container {\n",
       "    max-height: 300px;\n",
       "    overflow: auto;\n",
       "  }\n",
       "  table, th, td {\n",
       "    border: 1px solid black;\n",
       "    border-collapse: collapse;\n",
       "  }\n",
       "  th, td {\n",
       "    padding: 5px;\n",
       "  }\n",
       "  th {\n",
       "    text-align: left;\n",
       "  }\n",
       "</style><div class='table-result-container'><table class='table-result'><thead style='background-color: white'><tr><th>price_id</th><th>model_id</th><th>country</th><th>launched_price</th></tr></thead><tbody><tr><td>null</td><td>dd913374-b682-49fc-bdc0-60a17a1278b7</td><td>pakistan</td><td>225.00</td></tr><tr><td>null</td><td>77b45527-e18d-45f7-a7dc-36c861bbddbe</td><td>pakistan</td><td>235.00</td></tr><tr><td>null</td><td>25ba81b5-2569-4f02-ad50-434da407d594</td><td>pakistan</td><td>245.00</td></tr><tr><td>null</td><td>1e206a76-5fe9-4c5e-952f-f44749cbe495</td><td>pakistan</td><td>250.00</td></tr><tr><td>null</td><td>848b43e9-70bc-4039-afd1-2ecd2a231d69</td><td>pakistan</td><td>260.00</td></tr><tr><td>null</td><td>87b31c5a-49e4-41c3-b508-6c72f13d100c</td><td>pakistan</td><td>275.00</td></tr><tr><td>null</td><td>ac5859c1-7502-4eaa-be85-2e7514c81d29</td><td>pakistan</td><td>285.00</td></tr><tr><td>null</td><td>d950d4f3-ad3e-455a-a610-6e19a3a42a2a</td><td>pakistan</td><td>295.00</td></tr><tr><td>null</td><td>5458c7b2-c0d3-4449-be3b-b12dc2912bd4</td><td>pakistan</td><td>315.00</td></tr><tr><td>null</td><td>4809239c-fb16-41e8-ae07-8e4975eb9a1a</td><td>pakistan</td><td>315.00</td></tr></tbody></table></div>"
      ]
     },
     "metadata": {
      "application/vnd.databricks.v1+output": {
       "addedWidgets": {},
       "aggData": [],
       "aggError": "",
       "aggOverflow": false,
       "aggSchema": [],
       "aggSeriesLimitReached": false,
       "aggType": "",
       "arguments": {},
       "columnCustomDisplayInfos": {},
       "data": [
        [
         null,
         "dd913374-b682-49fc-bdc0-60a17a1278b7",
         "pakistan",
         "225.00"
        ],
        [
         null,
         "77b45527-e18d-45f7-a7dc-36c861bbddbe",
         "pakistan",
         "235.00"
        ],
        [
         null,
         "25ba81b5-2569-4f02-ad50-434da407d594",
         "pakistan",
         "245.00"
        ],
        [
         null,
         "1e206a76-5fe9-4c5e-952f-f44749cbe495",
         "pakistan",
         "250.00"
        ],
        [
         null,
         "848b43e9-70bc-4039-afd1-2ecd2a231d69",
         "pakistan",
         "260.00"
        ],
        [
         null,
         "87b31c5a-49e4-41c3-b508-6c72f13d100c",
         "pakistan",
         "275.00"
        ],
        [
         null,
         "ac5859c1-7502-4eaa-be85-2e7514c81d29",
         "pakistan",
         "285.00"
        ],
        [
         null,
         "d950d4f3-ad3e-455a-a610-6e19a3a42a2a",
         "pakistan",
         "295.00"
        ],
        [
         null,
         "5458c7b2-c0d3-4449-be3b-b12dc2912bd4",
         "pakistan",
         "315.00"
        ],
        [
         null,
         "4809239c-fb16-41e8-ae07-8e4975eb9a1a",
         "pakistan",
         "315.00"
        ]
       ],
       "datasetInfos": [],
       "dbfsResultPath": null,
       "isJsonSchema": true,
       "metadata": {},
       "overflow": false,
       "plotOptions": {
        "customPlotOptions": {},
        "displayType": "table",
        "pivotAggregation": null,
        "pivotColumns": null,
        "xColumns": null,
        "yColumns": null
       },
       "removedWidgets": [],
       "schema": [
        {
         "metadata": "{\"comment\":\"Chave primária (UUID)\"}",
         "name": "price_id",
         "type": "\"string\""
        },
        {
         "metadata": "{\"comment\":\"Chave estrangeira referenciando a tabela model\"}",
         "name": "model_id",
         "type": "\"string\""
        },
        {
         "metadata": "{\"comment\":\"País onde o preço foi registrado\"}",
         "name": "country",
         "type": "\"string\""
        },
        {
         "metadata": "{\"comment\":\"Preço de lançamento no país\"}",
         "name": "launched_price",
         "type": "\"decimal(10,2)\""
        }
       ],
       "type": "table"
      }
     },
     "output_type": "display_data"
    }
   ],
   "source": [
    "%sql select * from silver.price limit 10"
   ]
  },
  {
   "cell_type": "code",
   "execution_count": 0,
   "metadata": {
    "application/vnd.databricks.v1+cell": {
     "cellMetadata": {
      "byteLimit": 2048000,
      "implicitDf": true,
      "rowLimit": 10000
     },
     "inputWidgets": {},
     "nuid": "7e2f1990-ba18-4358-aeed-e1c2d3925c0a",
     "showTitle": false,
     "tableResultSettingsMap": {},
     "title": ""
    }
   },
   "outputs": [
    {
     "output_type": "display_data",
     "data": {
      "text/html": [
       "<style scoped>\n",
       "  .table-result-container {\n",
       "    max-height: 300px;\n",
       "    overflow: auto;\n",
       "  }\n",
       "  table, th, td {\n",
       "    border: 1px solid black;\n",
       "    border-collapse: collapse;\n",
       "  }\n",
       "  th, td {\n",
       "    padding: 5px;\n",
       "  }\n",
       "  th {\n",
       "    text-align: left;\n",
       "  }\n",
       "</style><div class='table-result-container'><table class='table-result'><thead style='background-color: white'><tr><th>smartphone_id</th><th>company_id</th><th>model_id</th></tr></thead><tbody><tr><td>e3d1547a-ef06-4e14-8adf-8b3f40717d51</td><td>b584fcf4-6fea-46d7-8a5b-2cc994df30f3</td><td>dd913374-b682-49fc-bdc0-60a17a1278b7</td></tr><tr><td>181da901-9cab-4215-bb70-19c1a110358a</td><td>b584fcf4-6fea-46d7-8a5b-2cc994df30f3</td><td>77b45527-e18d-45f7-a7dc-36c861bbddbe</td></tr><tr><td>c7c8f20c-8768-4770-8571-7115e44d7059</td><td>b584fcf4-6fea-46d7-8a5b-2cc994df30f3</td><td>25ba81b5-2569-4f02-ad50-434da407d594</td></tr><tr><td>5d65d589-fce5-4700-be2e-7d1d478031b0</td><td>b584fcf4-6fea-46d7-8a5b-2cc994df30f3</td><td>1e206a76-5fe9-4c5e-952f-f44749cbe495</td></tr><tr><td>12394a52-55ef-470d-b331-15def6c44fad</td><td>b584fcf4-6fea-46d7-8a5b-2cc994df30f3</td><td>848b43e9-70bc-4039-afd1-2ecd2a231d69</td></tr><tr><td>3da84573-799f-4b50-b1a0-5fcf5e944ac1</td><td>b584fcf4-6fea-46d7-8a5b-2cc994df30f3</td><td>87b31c5a-49e4-41c3-b508-6c72f13d100c</td></tr><tr><td>594d47b8-d028-4ecd-ac65-d867123218e3</td><td>b584fcf4-6fea-46d7-8a5b-2cc994df30f3</td><td>ac5859c1-7502-4eaa-be85-2e7514c81d29</td></tr><tr><td>baf77cdd-a6fc-4c1b-a4d7-7f825f37c39e</td><td>b584fcf4-6fea-46d7-8a5b-2cc994df30f3</td><td>d950d4f3-ad3e-455a-a610-6e19a3a42a2a</td></tr><tr><td>eb739bd0-93b3-4573-9f17-0acac17ce57b</td><td>b584fcf4-6fea-46d7-8a5b-2cc994df30f3</td><td>5458c7b2-c0d3-4449-be3b-b12dc2912bd4</td></tr><tr><td>189537a6-5a83-44f5-8cdc-cf34aff42cc5</td><td>b584fcf4-6fea-46d7-8a5b-2cc994df30f3</td><td>4809239c-fb16-41e8-ae07-8e4975eb9a1a</td></tr></tbody></table></div>"
      ]
     },
     "metadata": {
      "application/vnd.databricks.v1+output": {
       "addedWidgets": {},
       "aggData": [],
       "aggError": "",
       "aggOverflow": false,
       "aggSchema": [],
       "aggSeriesLimitReached": false,
       "aggType": "",
       "arguments": {},
       "columnCustomDisplayInfos": {},
       "data": [
        [
         "e3d1547a-ef06-4e14-8adf-8b3f40717d51",
         "b584fcf4-6fea-46d7-8a5b-2cc994df30f3",
         "dd913374-b682-49fc-bdc0-60a17a1278b7"
        ],
        [
         "181da901-9cab-4215-bb70-19c1a110358a",
         "b584fcf4-6fea-46d7-8a5b-2cc994df30f3",
         "77b45527-e18d-45f7-a7dc-36c861bbddbe"
        ],
        [
         "c7c8f20c-8768-4770-8571-7115e44d7059",
         "b584fcf4-6fea-46d7-8a5b-2cc994df30f3",
         "25ba81b5-2569-4f02-ad50-434da407d594"
        ],
        [
         "5d65d589-fce5-4700-be2e-7d1d478031b0",
         "b584fcf4-6fea-46d7-8a5b-2cc994df30f3",
         "1e206a76-5fe9-4c5e-952f-f44749cbe495"
        ],
        [
         "12394a52-55ef-470d-b331-15def6c44fad",
         "b584fcf4-6fea-46d7-8a5b-2cc994df30f3",
         "848b43e9-70bc-4039-afd1-2ecd2a231d69"
        ],
        [
         "3da84573-799f-4b50-b1a0-5fcf5e944ac1",
         "b584fcf4-6fea-46d7-8a5b-2cc994df30f3",
         "87b31c5a-49e4-41c3-b508-6c72f13d100c"
        ],
        [
         "594d47b8-d028-4ecd-ac65-d867123218e3",
         "b584fcf4-6fea-46d7-8a5b-2cc994df30f3",
         "ac5859c1-7502-4eaa-be85-2e7514c81d29"
        ],
        [
         "baf77cdd-a6fc-4c1b-a4d7-7f825f37c39e",
         "b584fcf4-6fea-46d7-8a5b-2cc994df30f3",
         "d950d4f3-ad3e-455a-a610-6e19a3a42a2a"
        ],
        [
         "eb739bd0-93b3-4573-9f17-0acac17ce57b",
         "b584fcf4-6fea-46d7-8a5b-2cc994df30f3",
         "5458c7b2-c0d3-4449-be3b-b12dc2912bd4"
        ],
        [
         "189537a6-5a83-44f5-8cdc-cf34aff42cc5",
         "b584fcf4-6fea-46d7-8a5b-2cc994df30f3",
         "4809239c-fb16-41e8-ae07-8e4975eb9a1a"
        ]
       ],
       "datasetInfos": [],
       "dbfsResultPath": null,
       "isJsonSchema": true,
       "metadata": {},
       "overflow": false,
       "plotOptions": {
        "customPlotOptions": {},
        "displayType": "table",
        "pivotAggregation": null,
        "pivotColumns": null,
        "xColumns": null,
        "yColumns": null
       },
       "removedWidgets": [],
       "schema": [
        {
         "metadata": "{\"comment\":\"Chave primária (UUID)\"}",
         "name": "smartphone_id",
         "type": "\"string\""
        },
        {
         "metadata": "{\"comment\":\"Chave estrangeira referenciando a tabela company\"}",
         "name": "company_id",
         "type": "\"string\""
        },
        {
         "metadata": "{\"comment\":\"Chave estrangeira referenciando a tabela model\"}",
         "name": "model_id",
         "type": "\"string\""
        }
       ],
       "type": "table"
      }
     },
     "output_type": "display_data"
    }
   ],
   "source": [
    "%sql select * from silver.smartphones limit 10"
   ]
  }
 ],
 "metadata": {
  "application/vnd.databricks.v1+notebook": {
   "computePreferences": null,
   "dashboards": [],
   "environmentMetadata": {
    "base_environment": "",
    "environment_version": "1"
   },
   "inputWidgetPreferences": null,
   "language": "python",
   "notebookMetadata": {
    "mostRecentlyExecutedCommandWithImplicitDF": {
     "commandId": 2555020261803771,
     "dataframes": [
      "_sqldf"
     ]
    },
    "pythonIndentUnit": 4
   },
   "notebookName": "6_etl_db_silver",
   "widgets": {}
  }
 },
 "nbformat": 4,
 "nbformat_minor": 0
}