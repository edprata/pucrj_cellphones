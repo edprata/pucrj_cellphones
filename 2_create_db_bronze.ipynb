{
 "cells": [
  {
   "cell_type": "markdown",
   "metadata": {
    "application/vnd.databricks.v1+cell": {
     "cellMetadata": {
      "byteLimit": 2048000,
      "rowLimit": 10000
     },
     "inputWidgets": {},
     "nuid": "b61694df-3b5e-4061-b35b-faece8df9b2c",
     "showTitle": false,
     "tableResultSettingsMap": {},
     "title": ""
    }
   },
   "source": [
    "# MVP Pipeline de Dados\n",
    "## Pesquisa sobre aparelhos celulares\n",
    "\n",
    "Edmilson Prata da Silva\n",
    "\n",
    "PUC-RJ - MBA em Ciência de Dados e Analytics\n",
    "\n",
    "Disciplina de Engenharia de Dados\n",
    "\n",
    "## Script para criação da base de dados BRONZE"
   ]
  },
  {
   "cell_type": "markdown",
   "metadata": {
    "application/vnd.databricks.v1+cell": {
     "cellMetadata": {
      "byteLimit": 2048000,
      "rowLimit": 10000
     },
     "inputWidgets": {},
     "nuid": "185f317f-bdd1-4a0d-b167-339c8b0ea547",
     "showTitle": false,
     "tableResultSettingsMap": {},
     "title": ""
    }
   },
   "source": [
    "### Imports\n",
    "\n",
    "Imports das bibliotecas necessárias para o funcionamento do script."
   ]
  },
  {
   "cell_type": "code",
   "execution_count": 0,
   "metadata": {
    "application/vnd.databricks.v1+cell": {
     "cellMetadata": {
      "byteLimit": 2048000,
      "rowLimit": 10000
     },
     "inputWidgets": {},
     "nuid": "78e3229b-ac88-4a6e-8a20-23638ba456e1",
     "showTitle": false,
     "tableResultSettingsMap": {},
     "title": ""
    }
   },
   "outputs": [],
   "source": [
    "from pyspark.sql import SparkSession\n",
    "from pyspark.sql.types import StructType, StructField, StringType"
   ]
  },
  {
   "cell_type": "markdown",
   "metadata": {
    "application/vnd.databricks.v1+cell": {
     "cellMetadata": {
      "byteLimit": 2048000,
      "rowLimit": 10000
     },
     "inputWidgets": {},
     "nuid": "35c7c398-0dc0-4819-b760-7952c0b7fdbb",
     "showTitle": false,
     "tableResultSettingsMap": {},
     "title": ""
    }
   },
   "source": [
    "### Criando base de dados Bronze\n",
    "\n",
    "Na camada bronze os dados são persistidos em seu estado bruto, preservando características da fonte dos dados que, neste caso, é a base do Kaagle, site votlado para trabalhos de analytics e data science bastante conhecido pela comunidade.\n",
    "\n",
    "Nesta caso, a base utilizada é a \"Mobiles Dataset (2025)\", que oferece informações técnicas sobre aparelhos tipo smartphone com lançamento realido no ano de 2025."
   ]
  },
  {
   "cell_type": "code",
   "execution_count": 0,
   "metadata": {
    "application/vnd.databricks.v1+cell": {
     "cellMetadata": {
      "byteLimit": 2048000,
      "implicitDf": true,
      "rowLimit": 10000
     },
     "inputWidgets": {},
     "nuid": "f737b1a8-9f4c-4641-afea-008618cd8c01",
     "showTitle": false,
     "tableResultSettingsMap": {},
     "title": ""
    }
   },
   "outputs": [
    {
     "output_type": "display_data",
     "data": {
      "text/html": [
       "<style scoped>\n",
       "  .table-result-container {\n",
       "    max-height: 300px;\n",
       "    overflow: auto;\n",
       "  }\n",
       "  table, th, td {\n",
       "    border: 1px solid black;\n",
       "    border-collapse: collapse;\n",
       "  }\n",
       "  th, td {\n",
       "    padding: 5px;\n",
       "  }\n",
       "  th {\n",
       "    text-align: left;\n",
       "  }\n",
       "</style><div class='table-result-container'><table class='table-result'><thead style='background-color: white'><tr></tr></thead><tbody></tbody></table></div>"
      ]
     },
     "metadata": {
      "application/vnd.databricks.v1+output": {
       "addedWidgets": {},
       "aggData": [],
       "aggError": "",
       "aggOverflow": false,
       "aggSchema": [],
       "aggSeriesLimitReached": false,
       "aggType": "",
       "arguments": {},
       "columnCustomDisplayInfos": {},
       "data": [],
       "datasetInfos": [],
       "dbfsResultPath": null,
       "isJsonSchema": true,
       "metadata": {},
       "overflow": false,
       "plotOptions": {
        "customPlotOptions": {},
        "displayType": "table",
        "pivotAggregation": null,
        "pivotColumns": null,
        "xColumns": null,
        "yColumns": null
       },
       "removedWidgets": [],
       "schema": [],
       "type": "table"
      }
     },
     "output_type": "display_data"
    }
   ],
   "source": [
    "%sql CREATE DATABASE IF NOT EXISTS bronze;"
   ]
  },
  {
   "cell_type": "markdown",
   "metadata": {
    "application/vnd.databricks.v1+cell": {
     "cellMetadata": {
      "byteLimit": 2048000,
      "rowLimit": 10000
     },
     "inputWidgets": {},
     "nuid": "5d151316-abda-4d86-9d44-0cc59116f159",
     "showTitle": false,
     "tableResultSettingsMap": {},
     "title": ""
    }
   },
   "source": [
    "### Criação da Tabela \"mobile_devices\"\n",
    "\n",
    "Criação da tabela utilizando Spark na base de dados bronze. A estrutura da tabela \"mobile_devices\" segue a mesma estrutura de sua origem, ou seja, o \"Mobiles Dataset (2025)\" do Kaggle, conforme já informado."
   ]
  },
  {
   "cell_type": "code",
   "execution_count": 0,
   "metadata": {
    "application/vnd.databricks.v1+cell": {
     "cellMetadata": {
      "byteLimit": 2048000,
      "rowLimit": 10000
     },
     "inputWidgets": {},
     "nuid": "de39514c-ec33-4474-b8e1-78641793bc4d",
     "showTitle": false,
     "tableResultSettingsMap": {},
     "title": ""
    }
   },
   "outputs": [
    {
     "output_type": "stream",
     "name": "stdout",
     "output_type": "stream",
     "text": [
      "Iniciando criação da camada bronze...\nTabela 'mobile_devices' criada com sucesso na camada 'bronze'.\nCamada bronze criada com sucesso.\n"
     ]
    }
   ],
   "source": [
    "print('Iniciando criação da camada bronze...')\n",
    "\n",
    "# Iniciar sessão Spark\n",
    "spark = SparkSession.builder.appName(\"CreateBronzeTable\").getOrCreate()\n",
    "\n",
    "# Criando a tabela \n",
    "spark.sql(\"\"\"\n",
    "CREATE TABLE IF NOT EXISTS bronze.mobile_devices (\n",
    "    company_name STRING COMMENT 'Nome da empresa fabricante',\n",
    "    model_name STRING COMMENT 'Nome do modelo',\n",
    "    mobile_weight STRING COMMENT 'Peso em gramas',\n",
    "    ram STRING COMMENT 'Quantidade de memória RAM',\n",
    "    front_camera STRING COMMENT 'Resolução da câmera frontal',\n",
    "    back_camera STRING COMMENT 'Resolução da câmera traseira',\n",
    "    processor STRING COMMENT 'Processador do aparelho',\n",
    "    battery_capacity STRING COMMENT 'Capacidade da bateria',\n",
    "    screen_size STRING COMMENT 'Tamanho da tela',\n",
    "    launched_price_pakistan STRING COMMENT 'Preço de lançamento no Paquistão',\n",
    "    launched_price_india STRING COMMENT 'Preço de lançamento na Índia',\n",
    "    launched_price_china STRING COMMENT 'Preço de lançamento na China',\n",
    "    launched_price_usa STRING COMMENT 'Preço de lançamento nos EUA',\n",
    "    launched_price_dubai STRING COMMENT 'Preço de lançamento em Dubai',\n",
    "    launched_year STRING COMMENT 'Ano de lançamento'\n",
    ")\n",
    "USING DELTA\n",
    "\"\"\")\n",
    "\n",
    "print(\"Tabela 'mobile_devices' criada com sucesso na camada 'bronze'.\")\n",
    "print(\"Camada bronze criada com sucesso.\")"
   ]
  },
  {
   "cell_type": "markdown",
   "metadata": {
    "application/vnd.databricks.v1+cell": {
     "cellMetadata": {
      "byteLimit": 2048000,
      "rowLimit": 10000
     },
     "inputWidgets": {},
     "nuid": "02cb3deb-15b9-413f-b4d8-442e924d2bcd",
     "showTitle": false,
     "tableResultSettingsMap": {},
     "title": ""
    }
   },
   "source": [
    "### Teste de Criação da Tabela\n",
    "\n",
    "Teste de acesso a tabela recém criada, para garantir o sucesso da operação."
   ]
  },
  {
   "cell_type": "code",
   "execution_count": 0,
   "metadata": {
    "application/vnd.databricks.v1+cell": {
     "cellMetadata": {
      "byteLimit": 2048000,
      "implicitDf": true,
      "rowLimit": 10000
     },
     "inputWidgets": {},
     "nuid": "45cfbee2-edeb-4768-b725-ea710763d920",
     "showTitle": false,
     "tableResultSettingsMap": {},
     "title": ""
    }
   },
   "outputs": [
    {
     "output_type": "stream",
     "name": "stdout",
     "output_type": "stream",
     "text": [
      "+--------------------+---------+--------------------+\n|            col_name|data_type|             comment|\n+--------------------+---------+--------------------+\n|        company_name|   string|Nome da empresa f...|\n|          model_name|   string|      Nome do modelo|\n|       mobile_weight|   string|      Peso em gramas|\n|                 ram|   string|Quantidade de mem...|\n|        front_camera|   string|Resolução da câme...|\n|         back_camera|   string|Resolução da câme...|\n|           processor|   string|Processador do ap...|\n|    battery_capacity|   string|Capacidade da bat...|\n|         screen_size|   string|     Tamanho da tela|\n|launched_price_pa...|   string|Preço de lançamen...|\n|launched_price_india|   string|Preço de lançamen...|\n|launched_price_china|   string|Preço de lançamen...|\n|  launched_price_usa|   string|Preço de lançamen...|\n|launched_price_dubai|   string|Preço de lançamen...|\n|       launched_year|   string|   Ano de lançamento|\n+--------------------+---------+--------------------+\n\n"
     ]
    }
   ],
   "source": [
    "spark.sql(\"DESCRIBE TABLE bronze.mobile_devices\").show()"
   ]
  }
 ],
 "metadata": {
  "application/vnd.databricks.v1+notebook": {
   "computePreferences": null,
   "dashboards": [],
   "environmentMetadata": {
    "base_environment": "",
    "environment_version": "1"
   },
   "inputWidgetPreferences": null,
   "language": "python",
   "notebookMetadata": {
    "mostRecentlyExecutedCommandWithImplicitDF": {
     "commandId": 1066694302692500,
     "dataframes": [
      "_sqldf"
     ]
    },
    "pythonIndentUnit": 4
   },
   "notebookName": "2_create_db_bronze",
   "widgets": {}
  }
 },
 "nbformat": 4,
 "nbformat_minor": 0
}