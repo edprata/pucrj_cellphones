{
 "cells": [
  {
   "cell_type": "markdown",
   "metadata": {
    "application/vnd.databricks.v1+cell": {
     "cellMetadata": {
      "byteLimit": 2048000,
      "rowLimit": 10000
     },
     "inputWidgets": {},
     "nuid": "315139f2-9df5-411f-bd19-a69be44b909a",
     "showTitle": false,
     "tableResultSettingsMap": {},
     "title": ""
    }
   },
   "source": [
    "# MVP Pipeline de Dados\n",
    "## Pesquisa sobre aparelhos celulares\n",
    "\n",
    "Edmilson Prata da Silva\n",
    "\n",
    "PUC-RJ - MBA em Ciência de Dados e Analytics\n",
    "\n",
    "Disciplina de Engenharia de Dados\n",
    "\n",
    "## Script para carga da camada BRONZE"
   ]
  },
  {
   "cell_type": "markdown",
   "metadata": {
    "application/vnd.databricks.v1+cell": {
     "cellMetadata": {
      "byteLimit": 2048000,
      "rowLimit": 10000
     },
     "inputWidgets": {},
     "nuid": "ac2d0b0b-8634-450a-a633-321b46e66838",
     "showTitle": false,
     "tableResultSettingsMap": {},
     "title": ""
    }
   },
   "source": [
    "## Imports\n",
    "\n",
    "Imports das bibliotecas necessárias para o funcionamento do script."
   ]
  },
  {
   "cell_type": "code",
   "execution_count": 0,
   "metadata": {
    "application/vnd.databricks.v1+cell": {
     "cellMetadata": {
      "byteLimit": 2048000,
      "rowLimit": 10000
     },
     "inputWidgets": {},
     "nuid": "3a33da2e-003b-4355-a077-3b19e052b074",
     "showTitle": false,
     "tableResultSettingsMap": {},
     "title": ""
    }
   },
   "outputs": [],
   "source": [
    "import pandas as pd\n",
    "from pyspark.sql import SparkSession\n",
    "from pyspark.sql.functions import col"
   ]
  },
  {
   "cell_type": "markdown",
   "metadata": {
    "application/vnd.databricks.v1+cell": {
     "cellMetadata": {
      "byteLimit": 2048000,
      "rowLimit": 10000
     },
     "inputWidgets": {},
     "nuid": "39a50ae2-5d20-4436-a477-7a69d8f84656",
     "showTitle": false,
     "tableResultSettingsMap": {},
     "title": ""
    }
   },
   "source": [
    "## Carga de Dados\n",
    "\n",
    "Os dados serão recuperados do GitHub, repositório público. O arquivo foi copiado do Kaggle para o GitHub devdo o acesso ao Kaggle ter apresentado instabilidades durante tentativas de baixar diretamente.\n",
    "\n",
    "Após carregados, as colunas são renomeadas, conforme o padrão da tabela. Em seguida, os dados são persistidos sem alterações, conforme padrão da camada branze."
   ]
  },
  {
   "cell_type": "code",
   "execution_count": 0,
   "metadata": {
    "application/vnd.databricks.v1+cell": {
     "cellMetadata": {
      "byteLimit": 2048000,
      "rowLimit": 10000
     },
     "inputWidgets": {},
     "nuid": "8d1a9d87-f669-4e19-a9cd-bbb99bc468d6",
     "showTitle": false,
     "tableResultSettingsMap": {},
     "title": ""
    }
   },
   "outputs": [
    {
     "output_type": "stream",
     "name": "stdout",
     "output_type": "stream",
     "text": [
      "Out[12]: (930, 15)"
     ]
    }
   ],
   "source": [
    "df_pandas = pd.read_csv(\n",
    "    'https://github.com/edprata/pucrj_cellphones/raw/refs/heads/main/kaggle_mobile_dataset_2025.csv',\n",
    "    sep=',', encoding='latin-1', skip_blank_lines=True, on_bad_lines='skip'\n",
    ")\n",
    "df_pandas.shape"
   ]
  },
  {
   "cell_type": "code",
   "execution_count": 0,
   "metadata": {
    "application/vnd.databricks.v1+cell": {
     "cellMetadata": {
      "byteLimit": 2048000,
      "rowLimit": 10000
     },
     "inputWidgets": {},
     "nuid": "4b6f4734-4fcc-46da-ae40-462efee8018c",
     "showTitle": false,
     "tableResultSettingsMap": {},
     "title": ""
    }
   },
   "outputs": [
    {
     "output_type": "stream",
     "name": "stdout",
     "output_type": "stream",
     "text": [
      "root\n |-- Company Name: string (nullable = true)\n |-- Model Name: string (nullable = true)\n |-- Mobile Weight: string (nullable = true)\n |-- RAM: string (nullable = true)\n |-- Front Camera: string (nullable = true)\n |-- Back Camera: string (nullable = true)\n |-- Processor: string (nullable = true)\n |-- Battery Capacity: string (nullable = true)\n |-- Screen Size: string (nullable = true)\n |-- Launched Price (Pakistan): string (nullable = true)\n |-- Launched Price (India): string (nullable = true)\n |-- Launched Price (China): string (nullable = true)\n |-- Launched Price (USA): string (nullable = true)\n |-- Launched Price (Dubai): string (nullable = true)\n |-- Launched Year: long (nullable = true)\n\n"
     ]
    }
   ],
   "source": [
    "# Converte o DataFrame do Pandas em um DataFrame do Spark\n",
    "df_spark = spark.createDataFrame(df_pandas)\n",
    "\n",
    "# Exibe o schema do DataFrame do Spark\n",
    "df_spark.printSchema()"
   ]
  },
  {
   "cell_type": "code",
   "execution_count": 0,
   "metadata": {
    "application/vnd.databricks.v1+cell": {
     "cellMetadata": {
      "byteLimit": 2048000,
      "rowLimit": 10000
     },
     "inputWidgets": {},
     "nuid": "ad442603-8d73-4627-bff6-5c819050c3ff",
     "showTitle": false,
     "tableResultSettingsMap": {},
     "title": ""
    }
   },
   "outputs": [
    {
     "output_type": "stream",
     "name": "stdout",
     "output_type": "stream",
     "text": [
      "Dados carregados com sucesso na tabela bronze.mobile_devices!\n"
     ]
    }
   ],
   "source": [
    "# Inicializa a sessão do Spark\n",
    "spark = SparkSession.builder \\\n",
    "    .appName(\"Carregar CSV do GitHub para Delta\") \\\n",
    "    .getOrCreate()\n",
    "\n",
    "# Renomeia as colunas para corresponder à estrutura da tabela Delta\n",
    "df_spark = df_spark \\\n",
    "      .withColumnRenamed(\"Company Name\", \"company_name\") \\\n",
    "      .withColumnRenamed(\"Model Name\", \"model_name\") \\\n",
    "      .withColumnRenamed(\"Mobile Weight\", \"mobile_weight\") \\\n",
    "      .withColumnRenamed(\"RAM\", \"ram\") \\\n",
    "      .withColumnRenamed(\"Front Camera\", \"front_camera\") \\\n",
    "      .withColumnRenamed(\"Back Camera\", \"back_camera\") \\\n",
    "      .withColumnRenamed(\"Processor\", \"processor\") \\\n",
    "      .withColumnRenamed(\"Battery Capacity\", \"battery_capacity\") \\\n",
    "      .withColumnRenamed(\"Screen Size\", \"screen_size\") \\\n",
    "      .withColumnRenamed(\"Launched Price (Pakistan)\", \"launched_price_pakistan\") \\\n",
    "      .withColumnRenamed(\"Launched Price (India)\", \"launched_price_india\") \\\n",
    "      .withColumnRenamed(\"Launched Price (China)\", \"launched_price_china\") \\\n",
    "      .withColumnRenamed(\"Launched Price (USA)\", \"launched_price_usa\") \\\n",
    "      .withColumnRenamed(\"Launched Price (Dubai)\", \"launched_price_dubai\") \\\n",
    "      .withColumnRenamed(\"Launched Year\", \"launched_year\")\n",
    "\n",
    "# Convertendo coluna do ano para String\n",
    "df_spark = df_spark.withColumn(\"launched_year\", col(\"launched_year\").cast(\"string\"))\n",
    "\n",
    "# Grava os dados na tabela Delta\n",
    "df_spark \\\n",
    "  .write \\\n",
    "  .format(\"delta\") \\\n",
    "  .mode(\"append\") \\\n",
    "  .saveAsTable(\"bronze.mobile_devices\")\n",
    "\n",
    "print(\"Dados carregados com sucesso na tabela bronze.mobile_devices!\")"
   ]
  },
  {
   "cell_type": "markdown",
   "metadata": {
    "application/vnd.databricks.v1+cell": {
     "cellMetadata": {
      "byteLimit": 2048000,
      "rowLimit": 10000
     },
     "inputWidgets": {},
     "nuid": "24220c88-b103-4351-b6cd-62dcc73034ab",
     "showTitle": false,
     "tableResultSettingsMap": {},
     "title": ""
    }
   },
   "source": [
    "### Teste de carga da Tabela\n",
    "\n",
    "Teste de carga da tabela, para garantir o sucesso da operação."
   ]
  },
  {
   "cell_type": "code",
   "execution_count": 0,
   "metadata": {
    "application/vnd.databricks.v1+cell": {
     "cellMetadata": {
      "byteLimit": 2048000,
      "implicitDf": true,
      "rowLimit": 10000
     },
     "inputWidgets": {},
     "nuid": "098938f1-220a-4a37-9059-69eda44d1212",
     "showTitle": false,
     "tableResultSettingsMap": {},
     "title": ""
    }
   },
   "outputs": [
    {
     "output_type": "display_data",
     "data": {
      "text/html": [
       "<style scoped>\n",
       "  .table-result-container {\n",
       "    max-height: 300px;\n",
       "    overflow: auto;\n",
       "  }\n",
       "  table, th, td {\n",
       "    border: 1px solid black;\n",
       "    border-collapse: collapse;\n",
       "  }\n",
       "  th, td {\n",
       "    padding: 5px;\n",
       "  }\n",
       "  th {\n",
       "    text-align: left;\n",
       "  }\n",
       "</style><div class='table-result-container'><table class='table-result'><thead style='background-color: white'><tr><th>company_name</th><th>model_name</th><th>mobile_weight</th><th>ram</th><th>front_camera</th><th>back_camera</th><th>processor</th><th>battery_capacity</th><th>screen_size</th><th>launched_price_pakistan</th><th>launched_price_india</th><th>launched_price_china</th><th>launched_price_usa</th><th>launched_price_dubai</th><th>launched_year</th></tr></thead><tbody><tr><td>Apple</td><td>iPhone 16 128GB</td><td>174g</td><td>6GB</td><td>12MP</td><td>48MP</td><td>A17 Bionic</td><td>3,600mAh</td><td>6.1 inches</td><td>PKR 224,999</td><td>INR 79,999</td><td>CNY 5,799</td><td>USD 799</td><td>AED 2,799</td><td>2024</td></tr><tr><td>Apple</td><td>iPhone 16 256GB</td><td>174g</td><td>6GB</td><td>12MP</td><td>48MP</td><td>A17 Bionic</td><td>3,600mAh</td><td>6.1 inches</td><td>PKR 234,999</td><td>INR 84,999</td><td>CNY 6,099</td><td>USD 849</td><td>AED 2,999</td><td>2024</td></tr><tr><td>Apple</td><td>iPhone 16 512GB</td><td>174g</td><td>6GB</td><td>12MP</td><td>48MP</td><td>A17 Bionic</td><td>3,600mAh</td><td>6.1 inches</td><td>PKR 244,999</td><td>INR 89,999</td><td>CNY 6,499</td><td>USD 899</td><td>AED 3,199</td><td>2024</td></tr><tr><td>Apple</td><td>iPhone 16 Plus 128GB</td><td>203g</td><td>6GB</td><td>12MP</td><td>48MP</td><td>A17 Bionic</td><td>4,200mAh</td><td>6.7 inches</td><td>PKR 249,999</td><td>INR 89,999</td><td>CNY 6,199</td><td>USD 899</td><td>AED 3,199</td><td>2024</td></tr><tr><td>Apple</td><td>iPhone 16 Plus 256GB</td><td>203g</td><td>6GB</td><td>12MP</td><td>48MP</td><td>A17 Bionic</td><td>4,200mAh</td><td>6.7 inches</td><td>PKR 259,999</td><td>INR 94,999</td><td>CNY 6,499</td><td>USD 949</td><td>AED 3,399</td><td>2024</td></tr><tr><td>Apple</td><td>iPhone 16 Plus 512GB</td><td>203g</td><td>6GB</td><td>12MP</td><td>48MP</td><td>A17 Bionic</td><td>4,200mAh</td><td>6.7 inches</td><td>PKR 274,999</td><td>INR 104,999</td><td>CNY 6,999</td><td>USD 999</td><td>AED 3,599</td><td>2024</td></tr><tr><td>Apple</td><td>iPhone 16 Pro 128GB</td><td>206g</td><td>6GB</td><td>12MP / 4K</td><td>50MP + 12MP</td><td>A17 Pro</td><td>4,400mAh</td><td>6.1 inches</td><td>PKR 284,999</td><td>INR 99,999</td><td>CNY 6,999</td><td>USD 999</td><td>AED 3,499</td><td>2024</td></tr><tr><td>Apple</td><td>iPhone 16 Pro 256GB</td><td>206g</td><td>8GB</td><td>12MP / 4K</td><td>50MP + 12MP</td><td>A17 Pro</td><td>4,400mAh</td><td>6.1 inches</td><td>PKR 294,999</td><td>INR 104,999</td><td>CNY 7,099</td><td>USD 1,049</td><td>AED 3,699</td><td>2024</td></tr><tr><td>Apple</td><td>iPhone 16 Pro 512GB</td><td>206g</td><td>8GB</td><td>12MP / 4K</td><td>50MP + 12MP</td><td>A17 Pro</td><td>4,400mAh</td><td>6.1 inches</td><td>PKR 314,999</td><td>INR 114,999</td><td>CNY 7,499</td><td>USD 1,099</td><td>AED 3,899</td><td>2024</td></tr><tr><td>Apple</td><td>iPhone 16 Pro Max 128GB</td><td>221g</td><td>6GB</td><td>12MP / 4K</td><td>48MP + 12MP</td><td>A17 Pro</td><td>4,500mAh</td><td>6.7 inches</td><td>PKR 314,999</td><td>INR 109,999</td><td>CNY 7,499</td><td>USD 1,099</td><td>AED 3,799</td><td>2024</td></tr></tbody></table></div>"
      ]
     },
     "metadata": {
      "application/vnd.databricks.v1+output": {
       "addedWidgets": {},
       "aggData": [],
       "aggError": "",
       "aggOverflow": false,
       "aggSchema": [],
       "aggSeriesLimitReached": false,
       "aggType": "",
       "arguments": {},
       "columnCustomDisplayInfos": {},
       "data": [
        [
         "Apple",
         "iPhone 16 128GB",
         "174g",
         "6GB",
         "12MP",
         "48MP",
         "A17 Bionic",
         "3,600mAh",
         "6.1 inches",
         "PKR 224,999",
         "INR 79,999",
         "CNY 5,799",
         "USD 799",
         "AED 2,799",
         "2024"
        ],
        [
         "Apple",
         "iPhone 16 256GB",
         "174g",
         "6GB",
         "12MP",
         "48MP",
         "A17 Bionic",
         "3,600mAh",
         "6.1 inches",
         "PKR 234,999",
         "INR 84,999",
         "CNY 6,099",
         "USD 849",
         "AED 2,999",
         "2024"
        ],
        [
         "Apple",
         "iPhone 16 512GB",
         "174g",
         "6GB",
         "12MP",
         "48MP",
         "A17 Bionic",
         "3,600mAh",
         "6.1 inches",
         "PKR 244,999",
         "INR 89,999",
         "CNY 6,499",
         "USD 899",
         "AED 3,199",
         "2024"
        ],
        [
         "Apple",
         "iPhone 16 Plus 128GB",
         "203g",
         "6GB",
         "12MP",
         "48MP",
         "A17 Bionic",
         "4,200mAh",
         "6.7 inches",
         "PKR 249,999",
         "INR 89,999",
         "CNY 6,199",
         "USD 899",
         "AED 3,199",
         "2024"
        ],
        [
         "Apple",
         "iPhone 16 Plus 256GB",
         "203g",
         "6GB",
         "12MP",
         "48MP",
         "A17 Bionic",
         "4,200mAh",
         "6.7 inches",
         "PKR 259,999",
         "INR 94,999",
         "CNY 6,499",
         "USD 949",
         "AED 3,399",
         "2024"
        ],
        [
         "Apple",
         "iPhone 16 Plus 512GB",
         "203g",
         "6GB",
         "12MP",
         "48MP",
         "A17 Bionic",
         "4,200mAh",
         "6.7 inches",
         "PKR 274,999",
         "INR 104,999",
         "CNY 6,999",
         "USD 999",
         "AED 3,599",
         "2024"
        ],
        [
         "Apple",
         "iPhone 16 Pro 128GB",
         "206g",
         "6GB",
         "12MP / 4K",
         "50MP + 12MP",
         "A17 Pro",
         "4,400mAh",
         "6.1 inches",
         "PKR 284,999",
         "INR 99,999",
         "CNY 6,999",
         "USD 999",
         "AED 3,499",
         "2024"
        ],
        [
         "Apple",
         "iPhone 16 Pro 256GB",
         "206g",
         "8GB",
         "12MP / 4K",
         "50MP + 12MP",
         "A17 Pro",
         "4,400mAh",
         "6.1 inches",
         "PKR 294,999",
         "INR 104,999",
         "CNY 7,099",
         "USD 1,049",
         "AED 3,699",
         "2024"
        ],
        [
         "Apple",
         "iPhone 16 Pro 512GB",
         "206g",
         "8GB",
         "12MP / 4K",
         "50MP + 12MP",
         "A17 Pro",
         "4,400mAh",
         "6.1 inches",
         "PKR 314,999",
         "INR 114,999",
         "CNY 7,499",
         "USD 1,099",
         "AED 3,899",
         "2024"
        ],
        [
         "Apple",
         "iPhone 16 Pro Max 128GB",
         "221g",
         "6GB",
         "12MP / 4K",
         "48MP + 12MP",
         "A17 Pro",
         "4,500mAh",
         "6.7 inches",
         "PKR 314,999",
         "INR 109,999",
         "CNY 7,499",
         "USD 1,099",
         "AED 3,799",
         "2024"
        ]
       ],
       "datasetInfos": [],
       "dbfsResultPath": null,
       "isJsonSchema": true,
       "metadata": {},
       "overflow": false,
       "plotOptions": {
        "customPlotOptions": {},
        "displayType": "table",
        "pivotAggregation": null,
        "pivotColumns": null,
        "xColumns": null,
        "yColumns": null
       },
       "removedWidgets": [],
       "schema": [
        {
         "metadata": "{\"comment\":\"Nome da empresa fabricante\"}",
         "name": "company_name",
         "type": "\"string\""
        },
        {
         "metadata": "{\"comment\":\"Nome do modelo\"}",
         "name": "model_name",
         "type": "\"string\""
        },
        {
         "metadata": "{\"comment\":\"Peso em gramas\"}",
         "name": "mobile_weight",
         "type": "\"string\""
        },
        {
         "metadata": "{\"comment\":\"Quantidade de memória RAM\"}",
         "name": "ram",
         "type": "\"string\""
        },
        {
         "metadata": "{\"comment\":\"Resolução da câmera frontal\"}",
         "name": "front_camera",
         "type": "\"string\""
        },
        {
         "metadata": "{\"comment\":\"Resolução da câmera traseira\"}",
         "name": "back_camera",
         "type": "\"string\""
        },
        {
         "metadata": "{\"comment\":\"Processador do aparelho\"}",
         "name": "processor",
         "type": "\"string\""
        },
        {
         "metadata": "{\"comment\":\"Capacidade da bateria\"}",
         "name": "battery_capacity",
         "type": "\"string\""
        },
        {
         "metadata": "{\"comment\":\"Tamanho da tela\"}",
         "name": "screen_size",
         "type": "\"string\""
        },
        {
         "metadata": "{\"comment\":\"Preço de lançamento no Paquistão\"}",
         "name": "launched_price_pakistan",
         "type": "\"string\""
        },
        {
         "metadata": "{\"comment\":\"Preço de lançamento na Índia\"}",
         "name": "launched_price_india",
         "type": "\"string\""
        },
        {
         "metadata": "{\"comment\":\"Preço de lançamento na China\"}",
         "name": "launched_price_china",
         "type": "\"string\""
        },
        {
         "metadata": "{\"comment\":\"Preço de lançamento nos EUA\"}",
         "name": "launched_price_usa",
         "type": "\"string\""
        },
        {
         "metadata": "{\"comment\":\"Preço de lançamento em Dubai\"}",
         "name": "launched_price_dubai",
         "type": "\"string\""
        },
        {
         "metadata": "{\"comment\":\"Ano de lançamento\"}",
         "name": "launched_year",
         "type": "\"string\""
        }
       ],
       "type": "table"
      }
     },
     "output_type": "display_data"
    }
   ],
   "source": [
    "%sql select * from bronze.mobile_devices limit 10"
   ]
  }
 ],
 "metadata": {
  "application/vnd.databricks.v1+notebook": {
   "computePreferences": null,
   "dashboards": [],
   "environmentMetadata": {
    "base_environment": "",
    "environment_version": "1"
   },
   "inputWidgetPreferences": null,
   "language": "python",
   "notebookMetadata": {
    "mostRecentlyExecutedCommandWithImplicitDF": {
     "commandId": 212206453725506,
     "dataframes": [
      "_sqldf"
     ]
    },
    "pythonIndentUnit": 4
   },
   "notebookName": "5_etl_db_bronze",
   "widgets": {}
  }
 },
 "nbformat": 4,
 "nbformat_minor": 0
}