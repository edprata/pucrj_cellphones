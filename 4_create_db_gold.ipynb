{
 "cells": [
  {
   "cell_type": "markdown",
   "metadata": {
    "application/vnd.databricks.v1+cell": {
     "cellMetadata": {
      "byteLimit": 2048000,
      "rowLimit": 10000
     },
     "inputWidgets": {},
     "nuid": "fc10b771-4537-462d-951b-14ed2c3e8eba",
     "showTitle": false,
     "tableResultSettingsMap": {},
     "title": ""
    }
   },
   "source": [
    "# MVP Pipeline de Dados\n",
    "## Pesquisa sobre aparelhos celulares\n",
    "\n",
    "Edmilson Prata da Silva\n",
    "\n",
    "PUC-RJ - MBA em Ciência de Dados e Analytics\n",
    "\n",
    "Disciplina de Engenharia de Dados\n",
    "\n",
    "## Script para criação da base de dados GOLD"
   ]
  },
  {
   "cell_type": "markdown",
   "metadata": {
    "application/vnd.databricks.v1+cell": {
     "cellMetadata": {
      "byteLimit": 2048000,
      "rowLimit": 10000
     },
     "inputWidgets": {},
     "nuid": "ccc99eb3-ea60-4cf1-854f-f693e900597e",
     "showTitle": false,
     "tableResultSettingsMap": {},
     "title": ""
    }
   },
   "source": [
    "### Imports\n",
    "\n",
    "Imports das bibliotecas necessárias para o funcionamento do script."
   ]
  },
  {
   "cell_type": "code",
   "execution_count": 0,
   "metadata": {
    "application/vnd.databricks.v1+cell": {
     "cellMetadata": {
      "byteLimit": 2048000,
      "rowLimit": 10000
     },
     "inputWidgets": {},
     "nuid": "34da5e73-32a4-4279-a16f-4aad35337d2a",
     "showTitle": false,
     "tableResultSettingsMap": {},
     "title": ""
    }
   },
   "outputs": [],
   "source": [
    "from pyspark.sql import SparkSession\n",
    "from pyspark.sql.types import StructType, StructField, StringType, DecimalType"
   ]
  },
  {
   "cell_type": "markdown",
   "metadata": {
    "application/vnd.databricks.v1+cell": {
     "cellMetadata": {
      "byteLimit": 2048000,
      "rowLimit": 10000
     },
     "inputWidgets": {},
     "nuid": "123a13e0-fee8-4227-8f18-bbe11f1fbbce",
     "showTitle": false,
     "tableResultSettingsMap": {},
     "title": ""
    }
   },
   "source": [
    "### Criando base de dados GOLD\n",
    "\n",
    "A camada Gold contém dados altamente refinados e otimizados para consumo final. Esses dados são agregados, enriquecidos e organizados para atender necessidades específicas de negócio."
   ]
  },
  {
   "cell_type": "code",
   "execution_count": 0,
   "metadata": {
    "application/vnd.databricks.v1+cell": {
     "cellMetadata": {
      "byteLimit": 2048000,
      "implicitDf": true,
      "rowLimit": 10000
     },
     "inputWidgets": {},
     "nuid": "b81f65d4-d52a-4cd9-91f8-9814bce53d39",
     "showTitle": false,
     "tableResultSettingsMap": {},
     "title": ""
    }
   },
   "outputs": [
    {
     "output_type": "display_data",
     "data": {
      "text/html": [
       "<style scoped>\n",
       "  .table-result-container {\n",
       "    max-height: 300px;\n",
       "    overflow: auto;\n",
       "  }\n",
       "  table, th, td {\n",
       "    border: 1px solid black;\n",
       "    border-collapse: collapse;\n",
       "  }\n",
       "  th, td {\n",
       "    padding: 5px;\n",
       "  }\n",
       "  th {\n",
       "    text-align: left;\n",
       "  }\n",
       "</style><div class='table-result-container'><table class='table-result'><thead style='background-color: white'><tr></tr></thead><tbody></tbody></table></div>"
      ]
     },
     "metadata": {
      "application/vnd.databricks.v1+output": {
       "addedWidgets": {},
       "aggData": [],
       "aggError": "",
       "aggOverflow": false,
       "aggSchema": [],
       "aggSeriesLimitReached": false,
       "aggType": "",
       "arguments": {},
       "columnCustomDisplayInfos": {},
       "data": [],
       "datasetInfos": [],
       "dbfsResultPath": null,
       "isJsonSchema": true,
       "metadata": {},
       "overflow": false,
       "plotOptions": {
        "customPlotOptions": {},
        "displayType": "table",
        "pivotAggregation": null,
        "pivotColumns": null,
        "xColumns": null,
        "yColumns": null
       },
       "removedWidgets": [],
       "schema": [],
       "type": "table"
      }
     },
     "output_type": "display_data"
    }
   ],
   "source": [
    "%sql CREATE DATABASE IF NOT EXISTS gold;"
   ]
  },
  {
   "cell_type": "markdown",
   "metadata": {
    "application/vnd.databricks.v1+cell": {
     "cellMetadata": {
      "byteLimit": 2048000,
      "rowLimit": 10000
     },
     "inputWidgets": {},
     "nuid": "ebacb582-2b84-4cdf-8985-0dfb7b727d60",
     "showTitle": false,
     "tableResultSettingsMap": {},
     "title": ""
    }
   },
   "source": [
    "### Criando as tabelas\n",
    "\n",
    "A seguir o script para criação das tabelas da camada gold."
   ]
  },
  {
   "cell_type": "code",
   "execution_count": 0,
   "metadata": {
    "application/vnd.databricks.v1+cell": {
     "cellMetadata": {
      "byteLimit": 2048000,
      "rowLimit": 10000
     },
     "inputWidgets": {},
     "nuid": "e4e68784-5488-4347-83c0-35f449c60e75",
     "showTitle": false,
     "tableResultSettingsMap": {},
     "title": ""
    }
   },
   "outputs": [
    {
     "output_type": "stream",
     "name": "stdout",
     "output_type": "stream",
     "text": [
      "Iniciando criação da camada gold...\nTabela gold.company_metrics criada com sucesso.\nTabela gold.model_metrics criada com sucesso.\nTabela gold.segmentation_metrics criada com sucesso.\nCamada gold criada com sucesso!\n"
     ]
    }
   ],
   "source": [
    "print(\"Iniciando criação da camada gold...\")\n",
    "\n",
    "# Iniciar uma sessão Spark\n",
    "spark = SparkSession.builder.appName(\"CreateSmartphonesTables\").getOrCreate()\n",
    "\n",
    "# Criar a tabela de métricas por empresa concorrente\n",
    "spark.sql(\"\"\"\n",
    "CREATE TABLE IF NOT EXISTS gold.company_metrics (\n",
    "    company_id STRING COMMENT 'Chave primária da empresa frabricante (UUID)',\n",
    "    company_name STRING COMMENT 'Nome da empresa fabricante',\n",
    "    mean_price INTEGER COMMENT 'Preço de lançamento médio por empresa em U$',\n",
    "    max_price INTEGER COMMENT 'Preço de lançamento máximo por empresa em U$',\n",
    "    min_price INTEGER COMMENT 'Preço de lançamento mínimo por empresa em U$',\n",
    "    mean_battery INTEGER COMMENT 'Capacidade média da bateria por empresa em mAh',\n",
    "    max_battery INTEGER COMMENT 'Capacidade máxima da bateria por empresa em mAh',\n",
    "    min_battery INTEGER COMMENT 'Capacidade mínima da bateria por empresa em mAh',\n",
    "    mean_screen_size DECIMAL(10,2) COMMENT 'Tamanho médio da tela por empresa em MP',\n",
    "    max_screen_size DECIMAL(10,2) COMMENT 'Tamanho máximo da tela por empresa em MP',\n",
    "    min_screen_size DECIMAL(10,2) COMMENT 'Tamanho mínimo da tela por empresa em MP',\n",
    "    mean_ram DECIMAL(10,2) COMMENT 'Capacidade média de memória RAM por empresa em GB',\n",
    "    max_ram DECIMAL(10,2) COMMENT 'Capacidade máxima de memória RAM por empresa em GB',\n",
    "    min_ram DECIMAL(10,2) COMMENT 'Capacidade mínima de memória RAM por empresa em GB'\n",
    ")\n",
    "USING DELTA\n",
    "\"\"\")\n",
    "\n",
    "print('Tabela gold.company_metrics criada com sucesso.')\n",
    "\n",
    "# Criar a tabela de métricas de performance tipo TOP TEN\n",
    "spark.sql(\"\"\"\n",
    "CREATE TABLE IF NOT EXISTS gold.model_metrics (\n",
    "    model_id STRING COMMENT 'Chave primária do modelo de smartphone (UUID)',\n",
    "    model_name STRING COMMENT 'Nome do modelo de smartphone',\n",
    "    company_id STRING COMMENT 'Chave primária da empresa fabricante (UUID)',\n",
    "    company_name STRING COMMENT 'Nome da empresa fabricante',\n",
    "    ranking INTEGER COMMENT 'Posição do modelo no ranking onde foi avaliado',\n",
    "    characteristic_label STRING COMMENT 'Nome da característica técnica avaliada (RAM, CPU, etc.)',\n",
    "    characteristic_unit STRING COMMENT 'Unidade da característica técnica avaliada (GB, mAh, etc.)',\n",
    "    characteristic_value DECIMAL(10, 2) COMMENT 'Valor atribuído à característica técnica avaliada'\n",
    ")\n",
    "USING DELTA\n",
    "\"\"\")\n",
    "\n",
    "print('Tabela gold.model_metrics criada com sucesso.')\n",
    "\n",
    "# Criar a tabela de métricas de segmentação\n",
    "spark.sql(\"\"\"\n",
    "CREATE TABLE IF NOT EXISTS gold.segmentation_metrics (\n",
    "    segmentation_code STRING COMMENT 'Chave primária',\n",
    "    segmentation_name STRING COMMENT 'Nome da segmentação',\n",
    "    range1_name STRING COMMENT 'Nome da primeira faixa da segmentação',\n",
    "    range2_name STRING COMMENT 'Nome da segunda faixa da segmentação',\n",
    "    range3_name STRING COMMENT 'Nome da terceira faixa da segmentação',\n",
    "    range1_qtd INTEGER COMMENT 'Quantidade de smartphones enquadradas na primeira faixa',\n",
    "    range2_qtd INTEGER COMMENT 'Quantidade de smartphones enquadradas na segunda faixa',\n",
    "    range3_qtd INTEGER COMMENT 'Quantidade de smartphones enquadradas na terceira faixa'\n",
    ")\n",
    "USING DELTA\n",
    "\"\"\")\n",
    "\n",
    "print('Tabela gold.segmentation_metrics criada com sucesso.')\n",
    "\n",
    "# Exibir mensagem de sucesso\n",
    "print(\"Camada gold criada com sucesso!\")"
   ]
  },
  {
   "cell_type": "code",
   "execution_count": 0,
   "metadata": {
    "application/vnd.databricks.v1+cell": {
     "cellMetadata": {
      "byteLimit": 2048000,
      "implicitDf": true,
      "rowLimit": 10000
     },
     "inputWidgets": {},
     "nuid": "2a4eaaac-89da-4c7a-93c6-2a1f73df4e52",
     "showTitle": false,
     "tableResultSettingsMap": {},
     "title": ""
    }
   },
   "outputs": [
    {
     "output_type": "stream",
     "name": "stdout",
     "output_type": "stream",
     "text": [
      "+----------------+-------------+--------------------+\n|        col_name|    data_type|             comment|\n+----------------+-------------+--------------------+\n|      company_id|       string|Chave primária da...|\n|    company_name|       string|Nome da empresa f...|\n|      mean_price|          int|Preço de lançamen...|\n|       max_price|          int|Preço de lançamen...|\n|       min_price|          int|Preço de lançamen...|\n|    mean_battery|          int|Capacidade média ...|\n|     max_battery|          int|Capacidade máxima...|\n|     min_battery|          int|Capacidade mínima...|\n|mean_screen_size|decimal(10,2)|Tamanho médio da ...|\n| max_screen_size|decimal(10,2)|Tamanho máximo da...|\n| min_screen_size|decimal(10,2)|Tamanho mínimo da...|\n|        mean_ram|decimal(10,2)|Capacidade média ...|\n|         max_ram|decimal(10,2)|Capacidade máxima...|\n|         min_ram|decimal(10,2)|Capacidade mínima...|\n+----------------+-------------+--------------------+\n\n"
     ]
    }
   ],
   "source": [
    "spark.sql(\"DESCRIBE TABLE gold.company_metrics\").show()"
   ]
  },
  {
   "cell_type": "code",
   "execution_count": 0,
   "metadata": {
    "application/vnd.databricks.v1+cell": {
     "cellMetadata": {
      "byteLimit": 2048000,
      "implicitDf": true,
      "rowLimit": 10000
     },
     "inputWidgets": {},
     "nuid": "3905c459-ab76-4668-8c49-0953f1a940f7",
     "showTitle": false,
     "tableResultSettingsMap": {},
     "title": ""
    }
   },
   "outputs": [
    {
     "output_type": "stream",
     "name": "stdout",
     "output_type": "stream",
     "text": [
      "+--------------------+-------------+--------------------+\n|            col_name|    data_type|             comment|\n+--------------------+-------------+--------------------+\n|            model_id|       string|Chave primária do...|\n|          model_name|       string|Nome do modelo de...|\n|          company_id|       string|Chave primária da...|\n|        company_name|       string|Nome da empresa f...|\n|             ranking|          int|Posição do modelo...|\n|characteristic_label|       string|Nome da caracterí...|\n| characteristic_unit|       string|Unidade da caract...|\n|characteristic_value|decimal(10,2)|Valor atribuído à...|\n+--------------------+-------------+--------------------+\n\n"
     ]
    }
   ],
   "source": [
    "spark.sql(\"DESCRIBE TABLE gold.model_metrics\").show()"
   ]
  },
  {
   "cell_type": "code",
   "execution_count": 0,
   "metadata": {
    "application/vnd.databricks.v1+cell": {
     "cellMetadata": {
      "byteLimit": 2048000,
      "implicitDf": true,
      "rowLimit": 10000
     },
     "inputWidgets": {},
     "nuid": "f4778cb1-4038-4a5d-9840-215be67ff798",
     "showTitle": false,
     "tableResultSettingsMap": {},
     "title": ""
    }
   },
   "outputs": [
    {
     "output_type": "stream",
     "name": "stdout",
     "output_type": "stream",
     "text": [
      "+-----------------+---------+--------------------+\n|         col_name|data_type|             comment|\n+-----------------+---------+--------------------+\n|segmentation_code|   string|      Chave primária|\n|segmentation_name|   string| Nome da segmentação|\n|      range1_name|   string|Nome da primeira ...|\n|      range2_name|   string|Nome da segunda f...|\n|      range3_name|   string|Nome da terceira ...|\n|       range1_qtd|      int|Quantidade de sma...|\n|       range2_qtd|      int|Quantidade de sma...|\n|       range3_qtd|      int|Quantidade de sma...|\n+-----------------+---------+--------------------+\n\n"
     ]
    }
   ],
   "source": [
    "spark.sql(\"DESCRIBE TABLE gold.segmentation_metrics\").show()"
   ]
  }
 ],
 "metadata": {
  "application/vnd.databricks.v1+notebook": {
   "computePreferences": null,
   "dashboards": [],
   "environmentMetadata": {
    "base_environment": "",
    "environment_version": "1"
   },
   "inputWidgetPreferences": null,
   "language": "python",
   "notebookMetadata": {
    "mostRecentlyExecutedCommandWithImplicitDF": {
     "commandId": 715957529791158,
     "dataframes": [
      "_sqldf"
     ]
    },
    "pythonIndentUnit": 4
   },
   "notebookName": "4_create_db_gold",
   "widgets": {}
  }
 },
 "nbformat": 4,
 "nbformat_minor": 0
}