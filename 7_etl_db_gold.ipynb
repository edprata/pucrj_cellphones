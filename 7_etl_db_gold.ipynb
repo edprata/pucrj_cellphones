{
 "cells": [
  {
   "cell_type": "markdown",
   "metadata": {
    "application/vnd.databricks.v1+cell": {
     "cellMetadata": {
      "byteLimit": 2048000,
      "rowLimit": 10000
     },
     "inputWidgets": {},
     "nuid": "315139f2-9df5-411f-bd19-a69be44b909a",
     "showTitle": false,
     "tableResultSettingsMap": {},
     "title": ""
    }
   },
   "source": [
    "# MVP Pipeline de Dados\n",
    "## Pesquisa sobre aparelhos celulares\n",
    "\n",
    "Edmilson Prata da Silva\n",
    "\n",
    "PUC-RJ - MBA em Ciência de Dados e Analytics\n",
    "\n",
    "Disciplina de Engenharia de Dados\n",
    "\n",
    "## Script ETL para carga na camada GOLD"
   ]
  },
  {
   "cell_type": "markdown",
   "metadata": {
    "application/vnd.databricks.v1+cell": {
     "cellMetadata": {
      "byteLimit": 2048000,
      "rowLimit": 10000
     },
     "inputWidgets": {},
     "nuid": "ac2d0b0b-8634-450a-a633-321b46e66838",
     "showTitle": false,
     "tableResultSettingsMap": {},
     "title": ""
    }
   },
   "source": [
    "## Imports\n",
    "\n",
    "Imports das bibliotecas necessárias para o funcionamento do script."
   ]
  },
  {
   "cell_type": "code",
   "execution_count": 0,
   "metadata": {
    "application/vnd.databricks.v1+cell": {
     "cellMetadata": {
      "byteLimit": 2048000,
      "rowLimit": 10000
     },
     "inputWidgets": {},
     "nuid": "3a33da2e-003b-4355-a077-3b19e052b074",
     "showTitle": false,
     "tableResultSettingsMap": {},
     "title": ""
    }
   },
   "outputs": [],
   "source": [
    "import re\n",
    "import uuid\n",
    "import warnings\n",
    "import pandas as pd\n",
    "from pyspark.sql import SparkSession\n",
    "from pyspark.sql.functions import col"
   ]
  },
  {
   "cell_type": "markdown",
   "metadata": {
    "application/vnd.databricks.v1+cell": {
     "cellMetadata": {
      "byteLimit": 2048000,
      "rowLimit": 10000
     },
     "inputWidgets": {},
     "nuid": "39a50ae2-5d20-4436-a477-7a69d8f84656",
     "showTitle": false,
     "tableResultSettingsMap": {},
     "title": ""
    }
   },
   "source": [
    "## Carga de Dados\n",
    "\n",
    "Os dados serão carregados a partir da camada silver gerando as métricas a serem persistidas na camada gold."
   ]
  },
  {
   "cell_type": "code",
   "execution_count": 0,
   "metadata": {
    "application/vnd.databricks.v1+cell": {
     "cellMetadata": {
      "byteLimit": 2048000,
      "rowLimit": 10000
     },
     "inputWidgets": {},
     "nuid": "95360f6f-f7cd-4311-94df-79841b217945",
     "showTitle": false,
     "tableResultSettingsMap": {},
     "title": ""
    }
   },
   "outputs": [
    {
     "output_type": "stream",
     "name": "stdout",
     "output_type": "stream",
     "text": [
      "root\n |-- company_id: string (nullable = true)\n |-- company_name: string (nullable = true)\n |-- mean_price: integer (nullable = true)\n |-- max_price: integer (nullable = true)\n |-- min_price: integer (nullable = true)\n |-- mean_battery: integer (nullable = true)\n |-- min_battery: integer (nullable = true)\n |-- max_battery: integer (nullable = true)\n |-- mean_screen_size: decimal(8,6) (nullable = true)\n |-- min_screen_size: decimal(4,2) (nullable = true)\n |-- max_screen_size: decimal(4,2) (nullable = true)\n |-- mean_ram: double (nullable = true)\n |-- min_ram: integer (nullable = true)\n |-- max_ram: integer (nullable = true)\n\n"
     ]
    }
   ],
   "source": [
    "spk_company_metrics = spark.sql(\"\"\" \n",
    "    SELECT c.company_id\n",
    "         , c.company_name\n",
    "         , INT(AVG(p.launched_price)) AS mean_price\n",
    "         , INT(MAX(p.launched_price)) AS max_price\n",
    "         , INT(MIN(p.launched_price)) AS min_price\n",
    "         , INT(AVG(m.battery_capacity)) AS mean_battery\n",
    "         , INT(MIN(m.battery_capacity)) AS min_battery\n",
    "         , INT(MAX(m.battery_capacity)) AS max_battery\n",
    "         , AVG(m.screen_size) AS mean_screen_size\n",
    "         , MIN(m.screen_size) AS min_screen_size\n",
    "         , MAX(m.screen_size) AS max_screen_size\n",
    "         , AVG(m.ram) AS mean_ram\n",
    "         , MIN(m.ram) AS min_ram\n",
    "         , MAX(m.ram) AS max_ram\n",
    "    FROM silver.smartphones s\n",
    "    JOIN silver.company c on c.company_id = s.company_id\n",
    "    JOIN silver.model m ON m.model_id = s.model_id\n",
    "    JOIN silver.price p ON p.model_id = m.model_id\n",
    "     and p.country = 'usa'\n",
    "   GROUP BY c.company_id, c.company_name;     \n",
    "\"\"\")\n",
    "\n",
    "spk_company_metrics.printSchema()"
   ]
  },
  {
   "cell_type": "code",
   "execution_count": 0,
   "metadata": {
    "application/vnd.databricks.v1+cell": {
     "cellMetadata": {
      "byteLimit": 2048000,
      "rowLimit": 10000
     },
     "inputWidgets": {},
     "nuid": "15701d31-7afc-49a9-9348-d6dc02a2a939",
     "showTitle": false,
     "tableResultSettingsMap": {},
     "title": ""
    }
   },
   "outputs": [
    {
     "output_type": "stream",
     "name": "stdout",
     "output_type": "stream",
     "text": [
      "root\n |-- model_id: string (nullable = true)\n |-- model_name: string (nullable = true)\n |-- company_id: string (nullable = true)\n |-- company_name: string (nullable = true)\n |-- ranking: integer (nullable = false)\n |-- characteristic_label: string (nullable = false)\n |-- characteristic_unit: string (nullable = false)\n |-- characteristic_value: decimal(12,2) (nullable = true)\n\n"
     ]
    }
   ],
   "source": [
    "spk_model_metrics = spark.sql(\"\"\"\n",
    "    SELECT * FROM (\n",
    "        SELECT m.model_id\n",
    "             , m.model_name\n",
    "             , c.company_id\n",
    "             , c.company_name\n",
    "             , ROW_NUMBER() OVER (ORDER BY m.battery_capacity DESC) ranking\n",
    "             , 'Battery Capacity' characteristic_label\n",
    "             , 'mAh' characteristic_unit\n",
    "             , m.battery_capacity characteristic_value\n",
    "          FROM silver.smartphones s\n",
    "          JOIN silver.company c \n",
    "            ON c.company_id = s.company_id\n",
    "          JOIN silver.model m \n",
    "            ON m.model_id = s.model_id\n",
    "         ORDER BY m.battery_capacity DESC\n",
    "         LIMIT 10\n",
    "    )\n",
    "\n",
    "    UNION ALL\n",
    "\n",
    "    SELECT * FROM (\n",
    "        SELECT m.model_id\n",
    "             , m.model_name\n",
    "             , c.company_id\n",
    "             , c.company_name\n",
    "             , ROW_NUMBER() OVER (ORDER BY m.ram DESC) ranking\n",
    "             , 'RAM' characteristic_label\n",
    "             , 'GB' characteristic_unit\n",
    "             , m.ram characteristic_value\n",
    "          FROM silver.smartphones s\n",
    "          JOIN silver.company c \n",
    "            ON c.company_id = s.company_id\n",
    "          JOIN silver.model m \n",
    "            ON m.model_id = s.model_id\n",
    "         ORDER BY m.ram DESC\n",
    "         LIMIT 10\n",
    "    )\n",
    "\n",
    "    UNION ALL\n",
    "\n",
    "    SELECT * FROM (\n",
    "        SELECT m.model_id\n",
    "             , m.model_name\n",
    "             , c.company_id\n",
    "             , c.company_name\n",
    "             , ROW_NUMBER() OVER (ORDER BY m.back_camera DESC) ranking\n",
    "             , 'Back Camera' characteristic_label\n",
    "             , 'MP' characteristic_unit\n",
    "             , m.back_camera characteristic_value\n",
    "         FROM silver.smartphones s\n",
    "         JOIN silver.company c \n",
    "           ON c.company_id = s.company_id\n",
    "         JOIN silver.model m \n",
    "           ON m.model_id = s.model_id\n",
    "        ORDER BY m.ram DESC\n",
    "        LIMIT 10\n",
    "    )\n",
    "\"\"\")\n",
    "\n",
    "spk_model_metrics.printSchema()"
   ]
  },
  {
   "cell_type": "code",
   "execution_count": 0,
   "metadata": {
    "application/vnd.databricks.v1+cell": {
     "cellMetadata": {
      "byteLimit": 2048000,
      "rowLimit": 10000
     },
     "inputWidgets": {},
     "nuid": "b7c23733-b204-46ca-ab65-aa1b8ffe948f",
     "showTitle": false,
     "tableResultSettingsMap": {},
     "title": ""
    }
   },
   "outputs": [
    {
     "output_type": "stream",
     "name": "stdout",
     "output_type": "stream",
     "text": [
      "root\n |-- segmentation_code: string (nullable = false)\n |-- segmentation_name: string (nullable = false)\n |-- range1_name: string (nullable = false)\n |-- range2_name: string (nullable = false)\n |-- range3_name: string (nullable = false)\n |-- range1_qtd: long (nullable = true)\n |-- range2_qtd: long (nullable = true)\n |-- range3_qtd: long (nullable = true)\n\n"
     ]
    }
   ],
   "source": [
    "spk_segmentation_metrics = spark.sql(\"\"\"\n",
    "    SELECT uuid() segmentation_code\n",
    "        , 'Segmentação por Preços' segmentation_name\n",
    "        , '< $200' range1_name\n",
    "        , '$200-$500' range2_name\n",
    "        , '> $500' range3_name\n",
    "        , (SELECT COUNT(1) FROM silver.price p WHERE p.launched_price < 200) range1_qtd\n",
    "        , (SELECT COUNT(1) FROM silver.price p WHERE p.launched_price BETWEEN 200 AND 500) range2_qtd\n",
    "        , (SELECT COUNT(1) FROM silver.price p WHERE p.launched_price > 500) range3_qtd\n",
    "\n",
    "    UNION ALL\n",
    "\n",
    "    SELECT uuid() segmentation_code\n",
    "        , 'Segmentação por Tela' segmentation_name\n",
    "        , 'Pequena' range1_name\n",
    "        , 'Média' range2_name\n",
    "        , 'Grande' range3_name\n",
    "        , (SELECT COUNT(1) FROM silver.model m WHERE m.screen_size < 6) range1_qtd\n",
    "        , (SELECT COUNT(1) FROM silver.model m WHERE m.screen_size BETWEEN 6 AND 6.5) range2_qtd\n",
    "        , (SELECT COUNT(1) FROM silver.model m WHERE m.screen_size > 6.5) range3_qtd\n",
    "\n",
    "    UNION ALL\n",
    "\n",
    "    SELECT uuid() segmentation_code\n",
    "        , 'Segmentação por RAM (capacidade)' segmentation_name\n",
    "        , 'Baixa' range1_name\n",
    "        , 'Média' range2_name\n",
    "        , 'Alta' range3_name\n",
    "        , (SELECT COUNT(1) FROM silver.model m WHERE m.ram <= 4) range1_qtd\n",
    "        , (SELECT COUNT(1) FROM silver.model m WHERE m.ram BETWEEN 4.1 AND 8) range2_qtd\n",
    "        , (SELECT COUNT(1) FROM silver.model m WHERE m.ram > 8) range3_qtd\n",
    "\"\"\")\n",
    "\n",
    "spk_segmentation_metrics.printSchema()"
   ]
  },
  {
   "cell_type": "markdown",
   "metadata": {
    "application/vnd.databricks.v1+cell": {
     "cellMetadata": {
      "byteLimit": 2048000,
      "rowLimit": 10000
     },
     "inputWidgets": {},
     "nuid": "32a9a88f-858f-4fb4-9b4b-33886ee0e6ec",
     "showTitle": false,
     "tableResultSettingsMap": {},
     "title": ""
    }
   },
   "source": [
    "### Persistência dos dados\n",
    "\n",
    "Aqui será feita a persistência dos dados nas tabelas da camada gold."
   ]
  },
  {
   "cell_type": "code",
   "execution_count": 0,
   "metadata": {
    "application/vnd.databricks.v1+cell": {
     "cellMetadata": {
      "byteLimit": 2048000,
      "rowLimit": 10000
     },
     "inputWidgets": {},
     "nuid": "fe13d71b-456c-4df3-a29c-225edb2ee92e",
     "showTitle": false,
     "tableResultSettingsMap": {},
     "title": ""
    }
   },
   "outputs": [],
   "source": [
    "# Grava os dados na tabela Delta:\n",
    "def save_data(table_name, df_spark):\n",
    "    df_spark \\\n",
    "    .write \\\n",
    "    .format(\"delta\") \\\n",
    "    .mode(\"append\") \\\n",
    "    .saveAsTable(table_name)\n",
    "    print(f\"Dados salvos com sucesso na tabela {table_name}.\")"
   ]
  },
  {
   "cell_type": "code",
   "execution_count": 0,
   "metadata": {
    "application/vnd.databricks.v1+cell": {
     "cellMetadata": {
      "byteLimit": 2048000,
      "rowLimit": 10000
     },
     "inputWidgets": {},
     "nuid": "cf68bce4-e526-4e88-b563-8fd1965708b1",
     "showTitle": false,
     "tableResultSettingsMap": {},
     "title": ""
    }
   },
   "outputs": [
    {
     "output_type": "stream",
     "name": "stdout",
     "output_type": "stream",
     "text": [
      "Dados salvos com sucesso na tabela gold.company_metrics.\n"
     ]
    }
   ],
   "source": [
    "spk_company_metrics = spk_company_metrics.withColumn(\"mean_screen_size\", col(\"mean_screen_size\").cast(\"decimal(10,2)\"))\n",
    "spk_company_metrics = spk_company_metrics.withColumn(\"max_screen_size\", col(\"max_screen_size\").cast(\"decimal(10,2)\"))\n",
    "spk_company_metrics = spk_company_metrics.withColumn(\"min_screen_size\", col(\"min_screen_size\").cast(\"decimal(10,2)\"))\n",
    "spk_company_metrics = spk_company_metrics.withColumn(\"mean_ram\", col(\"mean_ram\").cast(\"decimal(10,2)\"))\n",
    "spk_company_metrics = spk_company_metrics.withColumn(\"max_ram\", col(\"max_ram\").cast(\"decimal(10,2)\"))\n",
    "spk_company_metrics = spk_company_metrics.withColumn(\"min_ram\", col(\"min_ram\").cast(\"decimal(10,2)\"))\n",
    "save_data('gold.company_metrics', spk_company_metrics)"
   ]
  },
  {
   "cell_type": "code",
   "execution_count": 0,
   "metadata": {
    "application/vnd.databricks.v1+cell": {
     "cellMetadata": {
      "byteLimit": 2048000,
      "rowLimit": 10000
     },
     "inputWidgets": {},
     "nuid": "6f9ea873-342d-42e1-8b76-01179cc6cecd",
     "showTitle": false,
     "tableResultSettingsMap": {},
     "title": ""
    }
   },
   "outputs": [
    {
     "output_type": "stream",
     "name": "stdout",
     "output_type": "stream",
     "text": [
      "Dados salvos com sucesso na tabela gold.model_metrics.\n"
     ]
    }
   ],
   "source": [
    "spk_model_metrics = spk_model_metrics.withColumn(\"characteristic_value\", col(\"characteristic_value\").cast(\"decimal(10,2)\"))\n",
    "save_data('gold.model_metrics', spk_model_metrics)"
   ]
  },
  {
   "cell_type": "code",
   "execution_count": 0,
   "metadata": {
    "application/vnd.databricks.v1+cell": {
     "cellMetadata": {
      "byteLimit": 2048000,
      "rowLimit": 10000
     },
     "inputWidgets": {},
     "nuid": "fbef2593-85a3-4136-a48d-ed686009e79b",
     "showTitle": false,
     "tableResultSettingsMap": {},
     "title": ""
    }
   },
   "outputs": [
    {
     "output_type": "stream",
     "name": "stdout",
     "output_type": "stream",
     "text": [
      "Dados salvos com sucesso na tabela gold.segmentation_metrics.\n"
     ]
    }
   ],
   "source": [
    "spk_segmentation_metrics = spk_segmentation_metrics.withColumn(\"range1_qtd\", col(\"range1_qtd\").cast(\"integer\"))\n",
    "spk_segmentation_metrics = spk_segmentation_metrics.withColumn(\"range2_qtd\", col(\"range2_qtd\").cast(\"integer\"))\n",
    "spk_segmentation_metrics = spk_segmentation_metrics.withColumn(\"range3_qtd\", col(\"range3_qtd\").cast(\"integer\"))\n",
    "save_data('gold.segmentation_metrics', spk_segmentation_metrics)"
   ]
  },
  {
   "cell_type": "markdown",
   "metadata": {
    "application/vnd.databricks.v1+cell": {
     "cellMetadata": {
      "byteLimit": 2048000,
      "rowLimit": 10000
     },
     "inputWidgets": {},
     "nuid": "d3567c98-4be1-4fbe-833c-c105f8c4845e",
     "showTitle": false,
     "tableResultSettingsMap": {},
     "title": ""
    }
   },
   "source": [
    "### Teste de carga da Tabela\n",
    "\n",
    "Teste de carga da tabela, para garantir o sucesso da operação."
   ]
  },
  {
   "cell_type": "code",
   "execution_count": 0,
   "metadata": {
    "application/vnd.databricks.v1+cell": {
     "cellMetadata": {
      "byteLimit": 2048000,
      "implicitDf": true,
      "rowLimit": 10000
     },
     "inputWidgets": {},
     "nuid": "098938f1-220a-4a37-9059-69eda44d1212",
     "showTitle": false,
     "tableResultSettingsMap": {},
     "title": ""
    }
   },
   "outputs": [
    {
     "output_type": "display_data",
     "data": {
      "text/html": [
       "<style scoped>\n",
       "  .table-result-container {\n",
       "    max-height: 300px;\n",
       "    overflow: auto;\n",
       "  }\n",
       "  table, th, td {\n",
       "    border: 1px solid black;\n",
       "    border-collapse: collapse;\n",
       "  }\n",
       "  th, td {\n",
       "    padding: 5px;\n",
       "  }\n",
       "  th {\n",
       "    text-align: left;\n",
       "  }\n",
       "</style><div class='table-result-container'><table class='table-result'><thead style='background-color: white'><tr><th>company_id</th><th>company_name</th><th>mean_price</th><th>max_price</th><th>min_price</th><th>mean_battery</th><th>max_battery</th><th>min_battery</th><th>mean_screen_size</th><th>max_screen_size</th><th>min_screen_size</th><th>mean_ram</th><th>max_ram</th><th>min_ram</th></tr></thead><tbody><tr><td>55db049c-f1c9-4760-b4f3-365a1310dc83</td><td>iQOO</td><td>399</td><td>449</td><td>349</td><td>8040</td><td>8040</td><td>8040</td><td>11.87</td><td>12.30</td><td>11.00</td><td>7.33</td><td>8.00</td><td>6.00</td></tr><tr><td>fca2bc57-3f4e-4fce-860b-68c09e167af0</td><td>Xiaomi</td><td>559</td><td>999</td><td>199</td><td>5172</td><td>6100</td><td>4610</td><td>6.62</td><td>6.73</td><td>6.36</td><td>10.52</td><td>16.00</td><td>4.00</td></tr><tr><td>a2d25021-3c44-4554-886f-31d39c9ce5cf</td><td>Vivo</td><td>400</td><td>999</td><td>1</td><td>4678</td><td>8040</td><td>2000</td><td>6.79</td><td>12.90</td><td>5.00</td><td>7.50</td><td>16.00</td><td>1.00</td></tr><tr><td>0e37c57d-fa83-4e60-bf8e-f58663a7a9d5</td><td>Realme</td><td>273</td><td>500</td><td>130</td><td>5691</td><td>8360</td><td>5000</td><td>7.43</td><td>11.50</td><td>6.50</td><td>8.13</td><td>16.00</td><td>3.00</td></tr><tr><td>a8b99050-4edd-4f52-be47-f1412f22d271</td><td>Huawei</td><td>424</td><td>999</td><td>1</td><td>4900</td><td>10100</td><td>4000</td><td>7.17</td><td>13.20</td><td>6.50</td><td>9.71</td><td>16.00</td><td>8.00</td></tr><tr><td>67a5680f-b05e-43bc-bb18-c4e37156c89a</td><td>Oppo</td><td>441</td><td>999</td><td>1</td><td>5004</td><td>9510</td><td>4000</td><td>6.89</td><td>12.10</td><td>6.40</td><td>9.43</td><td>16.00</td><td>4.00</td></tr><tr><td>90df224a-3a24-4c6d-aba0-055521efeb19</td><td>Tecno</td><td>283</td><td>999</td><td>1</td><td>5315</td><td>8000</td><td>4300</td><td>6.96</td><td>11.00</td><td>6.52</td><td>7.21</td><td>12.00</td><td>3.00</td></tr><tr><td>c482a035-36fe-4b4a-8a6f-a3b10aa45304</td><td>OnePlus</td><td>587</td><td>899</td><td>1</td><td>4840</td><td>11000</td><td>3300</td><td>6.89</td><td>12.40</td><td>5.50</td><td>9.43</td><td>16.00</td><td>4.00</td></tr><tr><td>05f2afcc-51bd-412e-87dd-b32ac7e2ff4e</td><td>Samsung</td><td>381</td><td>1719</td><td>1</td><td>5119</td><td>11200</td><td>2600</td><td>7.33</td><td>14.60</td><td>5.20</td><td>7.82</td><td>15.00</td><td>2.00</td></tr><tr><td>b584fcf4-6fea-46d7-8a5b-2cc994df30f3</td><td>Apple</td><td>424</td><td>999</td><td>1</td><td>4442</td><td>10307</td><td>2227</td><td>7.14</td><td>13.00</td><td>5.40</td><td>5.33</td><td>8.00</td><td>3.00</td></tr></tbody></table></div>"
      ]
     },
     "metadata": {
      "application/vnd.databricks.v1+output": {
       "addedWidgets": {},
       "aggData": [],
       "aggError": "",
       "aggOverflow": false,
       "aggSchema": [],
       "aggSeriesLimitReached": false,
       "aggType": "",
       "arguments": {},
       "columnCustomDisplayInfos": {},
       "data": [
        [
         "55db049c-f1c9-4760-b4f3-365a1310dc83",
         "iQOO",
         399,
         449,
         349,
         8040,
         8040,
         8040,
         "11.87",
         "12.30",
         "11.00",
         "7.33",
         "8.00",
         "6.00"
        ],
        [
         "fca2bc57-3f4e-4fce-860b-68c09e167af0",
         "Xiaomi",
         559,
         999,
         199,
         5172,
         6100,
         4610,
         "6.62",
         "6.73",
         "6.36",
         "10.52",
         "16.00",
         "4.00"
        ],
        [
         "a2d25021-3c44-4554-886f-31d39c9ce5cf",
         "Vivo",
         400,
         999,
         1,
         4678,
         8040,
         2000,
         "6.79",
         "12.90",
         "5.00",
         "7.50",
         "16.00",
         "1.00"
        ],
        [
         "0e37c57d-fa83-4e60-bf8e-f58663a7a9d5",
         "Realme",
         273,
         500,
         130,
         5691,
         8360,
         5000,
         "7.43",
         "11.50",
         "6.50",
         "8.13",
         "16.00",
         "3.00"
        ],
        [
         "a8b99050-4edd-4f52-be47-f1412f22d271",
         "Huawei",
         424,
         999,
         1,
         4900,
         10100,
         4000,
         "7.17",
         "13.20",
         "6.50",
         "9.71",
         "16.00",
         "8.00"
        ],
        [
         "67a5680f-b05e-43bc-bb18-c4e37156c89a",
         "Oppo",
         441,
         999,
         1,
         5004,
         9510,
         4000,
         "6.89",
         "12.10",
         "6.40",
         "9.43",
         "16.00",
         "4.00"
        ],
        [
         "90df224a-3a24-4c6d-aba0-055521efeb19",
         "Tecno",
         283,
         999,
         1,
         5315,
         8000,
         4300,
         "6.96",
         "11.00",
         "6.52",
         "7.21",
         "12.00",
         "3.00"
        ],
        [
         "c482a035-36fe-4b4a-8a6f-a3b10aa45304",
         "OnePlus",
         587,
         899,
         1,
         4840,
         11000,
         3300,
         "6.89",
         "12.40",
         "5.50",
         "9.43",
         "16.00",
         "4.00"
        ],
        [
         "05f2afcc-51bd-412e-87dd-b32ac7e2ff4e",
         "Samsung",
         381,
         1719,
         1,
         5119,
         11200,
         2600,
         "7.33",
         "14.60",
         "5.20",
         "7.82",
         "15.00",
         "2.00"
        ],
        [
         "b584fcf4-6fea-46d7-8a5b-2cc994df30f3",
         "Apple",
         424,
         999,
         1,
         4442,
         10307,
         2227,
         "7.14",
         "13.00",
         "5.40",
         "5.33",
         "8.00",
         "3.00"
        ]
       ],
       "datasetInfos": [],
       "dbfsResultPath": null,
       "isJsonSchema": true,
       "metadata": {},
       "overflow": false,
       "plotOptions": {
        "customPlotOptions": {},
        "displayType": "table",
        "pivotAggregation": null,
        "pivotColumns": null,
        "xColumns": null,
        "yColumns": null
       },
       "removedWidgets": [],
       "schema": [
        {
         "metadata": "{\"comment\":\"Chave primária da empresa frabricante (UUID)\"}",
         "name": "company_id",
         "type": "\"string\""
        },
        {
         "metadata": "{\"comment\":\"Nome da empresa fabricante\"}",
         "name": "company_name",
         "type": "\"string\""
        },
        {
         "metadata": "{\"comment\":\"Preço de lançamento médio por empresa em U$\"}",
         "name": "mean_price",
         "type": "\"integer\""
        },
        {
         "metadata": "{\"comment\":\"Preço de lançamento máximo por empresa em U$\"}",
         "name": "max_price",
         "type": "\"integer\""
        },
        {
         "metadata": "{\"comment\":\"Preço de lançamento mínimo por empresa em U$\"}",
         "name": "min_price",
         "type": "\"integer\""
        },
        {
         "metadata": "{\"comment\":\"Capacidade média da bateria por empresa em mAh\"}",
         "name": "mean_battery",
         "type": "\"integer\""
        },
        {
         "metadata": "{\"comment\":\"Capacidade máxima da bateria por empresa em mAh\"}",
         "name": "max_battery",
         "type": "\"integer\""
        },
        {
         "metadata": "{\"comment\":\"Capacidade mínima da bateria por empresa em mAh\"}",
         "name": "min_battery",
         "type": "\"integer\""
        },
        {
         "metadata": "{\"comment\":\"Tamanho médio da tela por empresa em MP\"}",
         "name": "mean_screen_size",
         "type": "\"decimal(10,2)\""
        },
        {
         "metadata": "{\"comment\":\"Tamanho máximo da tela por empresa em MP\"}",
         "name": "max_screen_size",
         "type": "\"decimal(10,2)\""
        },
        {
         "metadata": "{\"comment\":\"Tamanho mínimo da tela por empresa em MP\"}",
         "name": "min_screen_size",
         "type": "\"decimal(10,2)\""
        },
        {
         "metadata": "{\"comment\":\"Capacidade média de memória RAM por empresa em GB\"}",
         "name": "mean_ram",
         "type": "\"decimal(10,2)\""
        },
        {
         "metadata": "{\"comment\":\"Capacidade máxima de memória RAM por empresa em GB\"}",
         "name": "max_ram",
         "type": "\"decimal(10,2)\""
        },
        {
         "metadata": "{\"comment\":\"Capacidade mínima de memória RAM por empresa em GB\"}",
         "name": "min_ram",
         "type": "\"decimal(10,2)\""
        }
       ],
       "type": "table"
      }
     },
     "output_type": "display_data"
    }
   ],
   "source": [
    "%sql select * from gold.company_metrics limit 10"
   ]
  },
  {
   "cell_type": "code",
   "execution_count": 0,
   "metadata": {
    "application/vnd.databricks.v1+cell": {
     "cellMetadata": {
      "byteLimit": 2048000,
      "implicitDf": true,
      "rowLimit": 10000
     },
     "inputWidgets": {},
     "nuid": "dd80ce49-5293-4f18-896e-c2609e2e6b9a",
     "showTitle": false,
     "tableResultSettingsMap": {},
     "title": ""
    }
   },
   "outputs": [
    {
     "output_type": "display_data",
     "data": {
      "text/html": [
       "<style scoped>\n",
       "  .table-result-container {\n",
       "    max-height: 300px;\n",
       "    overflow: auto;\n",
       "  }\n",
       "  table, th, td {\n",
       "    border: 1px solid black;\n",
       "    border-collapse: collapse;\n",
       "  }\n",
       "  th, td {\n",
       "    padding: 5px;\n",
       "  }\n",
       "  th {\n",
       "    text-align: left;\n",
       "  }\n",
       "</style><div class='table-result-container'><table class='table-result'><thead style='background-color: white'><tr><th>model_id</th><th>model_name</th><th>company_id</th><th>company_name</th><th>ranking</th><th>characteristic_label</th><th>characteristic_unit</th><th>characteristic_value</th></tr></thead><tbody><tr><td>20853b9e-1b6b-49c5-89a7-64f770425f21</td><td>Galaxy Tab S9 Ultra 256GB</td><td>05f2afcc-51bd-412e-87dd-b32ac7e2ff4e</td><td>Samsung</td><td>1</td><td>Battery Capacity</td><td>mAh</td><td>11200.00</td></tr><tr><td>c1e1d82d-a630-49c4-a167-4a887a13e55d</td><td>Galaxy Tab S8 Ultra 256GB</td><td>05f2afcc-51bd-412e-87dd-b32ac7e2ff4e</td><td>Samsung</td><td>2</td><td>Battery Capacity</td><td>mAh</td><td>11200.00</td></tr><tr><td>77b0574a-6b90-4bdc-89ae-b9210e7ea955</td><td>OnePlus Pad Pro</td><td>c482a035-36fe-4b4a-8a6f-a3b10aa45304</td><td>OnePlus</td><td>3</td><td>Battery Capacity</td><td>mAh</td><td>11000.00</td></tr><tr><td>5ada5cad-04f9-4f00-8f9d-87ef4d95a910</td><td>MagicPad 2</td><td>6d36605e-cb30-4904-ac48-3f077de29121</td><td>Honor</td><td>4</td><td>Battery Capacity</td><td>mAh</td><td>10500.00</td></tr><tr><td>40f59c1a-330c-447c-814d-aa8dfea5e6a6</td><td>Pad GT Pro</td><td>6d36605e-cb30-4904-ac48-3f077de29121</td><td>Honor</td><td>5</td><td>Battery Capacity</td><td>mAh</td><td>10500.00</td></tr><tr><td>a60a06f2-72d6-49d2-90b0-84e2deaa8a14</td><td>MagicPad 3</td><td>6d36605e-cb30-4904-ac48-3f077de29121</td><td>Honor</td><td>6</td><td>Battery Capacity</td><td>mAh</td><td>10500.00</td></tr><tr><td>2d97bf45-0b0e-419a-a1a3-84065db8c90b</td><td>iPad Pro 13-inch 128GB</td><td>b584fcf4-6fea-46d7-8a5b-2cc994df30f3</td><td>Apple</td><td>7</td><td>Battery Capacity</td><td>mAh</td><td>10307.00</td></tr><tr><td>50f1b8b6-8ab5-452f-bdc6-7a7c8e790b30</td><td>iPad Pro 13-inch 256GB</td><td>b584fcf4-6fea-46d7-8a5b-2cc994df30f3</td><td>Apple</td><td>8</td><td>Battery Capacity</td><td>mAh</td><td>10307.00</td></tr><tr><td>1b9349db-709d-46ab-baf4-2c234c4dfa18</td><td>iPad Pro 13-inch 512GB</td><td>b584fcf4-6fea-46d7-8a5b-2cc994df30f3</td><td>Apple</td><td>9</td><td>Battery Capacity</td><td>mAh</td><td>10307.00</td></tr><tr><td>ccbcbe82-c466-4d8e-b5a3-54a39c49a423</td><td>iPad Pro 13-inch 1TB</td><td>b584fcf4-6fea-46d7-8a5b-2cc994df30f3</td><td>Apple</td><td>10</td><td>Battery Capacity</td><td>mAh</td><td>10307.00</td></tr></tbody></table></div>"
      ]
     },
     "metadata": {
      "application/vnd.databricks.v1+output": {
       "addedWidgets": {},
       "aggData": [],
       "aggError": "",
       "aggOverflow": false,
       "aggSchema": [],
       "aggSeriesLimitReached": false,
       "aggType": "",
       "arguments": {},
       "columnCustomDisplayInfos": {},
       "data": [
        [
         "20853b9e-1b6b-49c5-89a7-64f770425f21",
         "Galaxy Tab S9 Ultra 256GB",
         "05f2afcc-51bd-412e-87dd-b32ac7e2ff4e",
         "Samsung",
         1,
         "Battery Capacity",
         "mAh",
         "11200.00"
        ],
        [
         "c1e1d82d-a630-49c4-a167-4a887a13e55d",
         "Galaxy Tab S8 Ultra 256GB",
         "05f2afcc-51bd-412e-87dd-b32ac7e2ff4e",
         "Samsung",
         2,
         "Battery Capacity",
         "mAh",
         "11200.00"
        ],
        [
         "77b0574a-6b90-4bdc-89ae-b9210e7ea955",
         "OnePlus Pad Pro",
         "c482a035-36fe-4b4a-8a6f-a3b10aa45304",
         "OnePlus",
         3,
         "Battery Capacity",
         "mAh",
         "11000.00"
        ],
        [
         "5ada5cad-04f9-4f00-8f9d-87ef4d95a910",
         "MagicPad 2",
         "6d36605e-cb30-4904-ac48-3f077de29121",
         "Honor",
         4,
         "Battery Capacity",
         "mAh",
         "10500.00"
        ],
        [
         "40f59c1a-330c-447c-814d-aa8dfea5e6a6",
         "Pad GT Pro",
         "6d36605e-cb30-4904-ac48-3f077de29121",
         "Honor",
         5,
         "Battery Capacity",
         "mAh",
         "10500.00"
        ],
        [
         "a60a06f2-72d6-49d2-90b0-84e2deaa8a14",
         "MagicPad 3",
         "6d36605e-cb30-4904-ac48-3f077de29121",
         "Honor",
         6,
         "Battery Capacity",
         "mAh",
         "10500.00"
        ],
        [
         "2d97bf45-0b0e-419a-a1a3-84065db8c90b",
         "iPad Pro 13-inch 128GB",
         "b584fcf4-6fea-46d7-8a5b-2cc994df30f3",
         "Apple",
         7,
         "Battery Capacity",
         "mAh",
         "10307.00"
        ],
        [
         "50f1b8b6-8ab5-452f-bdc6-7a7c8e790b30",
         "iPad Pro 13-inch 256GB",
         "b584fcf4-6fea-46d7-8a5b-2cc994df30f3",
         "Apple",
         8,
         "Battery Capacity",
         "mAh",
         "10307.00"
        ],
        [
         "1b9349db-709d-46ab-baf4-2c234c4dfa18",
         "iPad Pro 13-inch 512GB",
         "b584fcf4-6fea-46d7-8a5b-2cc994df30f3",
         "Apple",
         9,
         "Battery Capacity",
         "mAh",
         "10307.00"
        ],
        [
         "ccbcbe82-c466-4d8e-b5a3-54a39c49a423",
         "iPad Pro 13-inch 1TB",
         "b584fcf4-6fea-46d7-8a5b-2cc994df30f3",
         "Apple",
         10,
         "Battery Capacity",
         "mAh",
         "10307.00"
        ]
       ],
       "datasetInfos": [],
       "dbfsResultPath": null,
       "isJsonSchema": true,
       "metadata": {},
       "overflow": false,
       "plotOptions": {
        "customPlotOptions": {},
        "displayType": "table",
        "pivotAggregation": null,
        "pivotColumns": null,
        "xColumns": null,
        "yColumns": null
       },
       "removedWidgets": [],
       "schema": [
        {
         "metadata": "{\"comment\":\"Chave primária do modelo de smartphone (UUID)\"}",
         "name": "model_id",
         "type": "\"string\""
        },
        {
         "metadata": "{\"comment\":\"Nome do modelo de smartphone\"}",
         "name": "model_name",
         "type": "\"string\""
        },
        {
         "metadata": "{\"comment\":\"Chave primária da empresa fabricante (UUID)\"}",
         "name": "company_id",
         "type": "\"string\""
        },
        {
         "metadata": "{\"comment\":\"Nome da empresa fabricante\"}",
         "name": "company_name",
         "type": "\"string\""
        },
        {
         "metadata": "{\"comment\":\"Posição do modelo no ranking onde foi avaliado\"}",
         "name": "ranking",
         "type": "\"integer\""
        },
        {
         "metadata": "{\"comment\":\"Nome da característica técnica avaliada (RAM, CPU, etc.)\"}",
         "name": "characteristic_label",
         "type": "\"string\""
        },
        {
         "metadata": "{\"comment\":\"Unidade da característica técnica avaliada (GB, mAh, etc.)\"}",
         "name": "characteristic_unit",
         "type": "\"string\""
        },
        {
         "metadata": "{\"comment\":\"Valor atribuído à característica técnica avaliada\"}",
         "name": "characteristic_value",
         "type": "\"decimal(10,2)\""
        }
       ],
       "type": "table"
      }
     },
     "output_type": "display_data"
    }
   ],
   "source": [
    "%sql select * from gold.model_metrics limit 10"
   ]
  },
  {
   "cell_type": "code",
   "execution_count": 0,
   "metadata": {
    "application/vnd.databricks.v1+cell": {
     "cellMetadata": {
      "byteLimit": 2048000,
      "implicitDf": true,
      "rowLimit": 10000
     },
     "inputWidgets": {},
     "nuid": "67e0ede8-c5c3-405b-9a9a-56d574200c3c",
     "showTitle": false,
     "tableResultSettingsMap": {},
     "title": ""
    }
   },
   "outputs": [
    {
     "output_type": "display_data",
     "data": {
      "text/html": [
       "<style scoped>\n",
       "  .table-result-container {\n",
       "    max-height: 300px;\n",
       "    overflow: auto;\n",
       "  }\n",
       "  table, th, td {\n",
       "    border: 1px solid black;\n",
       "    border-collapse: collapse;\n",
       "  }\n",
       "  th, td {\n",
       "    padding: 5px;\n",
       "  }\n",
       "  th {\n",
       "    text-align: left;\n",
       "  }\n",
       "</style><div class='table-result-container'><table class='table-result'><thead style='background-color: white'><tr><th>segmentation_code</th><th>segmentation_name</th><th>range1_name</th><th>range2_name</th><th>range3_name</th><th>range1_qtd</th><th>range2_qtd</th><th>range3_qtd</th></tr></thead><tbody><tr><td>46355442-eaf6-4945-b609-87d4681c9aff</td><td>Segmentação por RAM (capacidade)</td><td>Baixa</td><td>Média</td><td>Alta</td><td>185</td><td>505</td><td>225</td></tr><tr><td>bf331dd6-cee7-43fa-9377-cfba9e0f33b6</td><td>Segmentação por Preços</td><td>< $200</td><td>$200-$500</td><td>> $500</td><td>2551</td><td>593</td><td>516</td></tr><tr><td>ffc7c4e2-dea9-4080-9b07-7fdd3b4f2c06</td><td>Segmentação por Tela</td><td>Pequena</td><td>Média</td><td>Grande</td><td>29</td><td>230</td><td>656</td></tr></tbody></table></div>"
      ]
     },
     "metadata": {
      "application/vnd.databricks.v1+output": {
       "addedWidgets": {},
       "aggData": [],
       "aggError": "",
       "aggOverflow": false,
       "aggSchema": [],
       "aggSeriesLimitReached": false,
       "aggType": "",
       "arguments": {},
       "columnCustomDisplayInfos": {},
       "data": [
        [
         "46355442-eaf6-4945-b609-87d4681c9aff",
         "Segmentação por RAM (capacidade)",
         "Baixa",
         "Média",
         "Alta",
         185,
         505,
         225
        ],
        [
         "bf331dd6-cee7-43fa-9377-cfba9e0f33b6",
         "Segmentação por Preços",
         "< $200",
         "$200-$500",
         "> $500",
         2551,
         593,
         516
        ],
        [
         "ffc7c4e2-dea9-4080-9b07-7fdd3b4f2c06",
         "Segmentação por Tela",
         "Pequena",
         "Média",
         "Grande",
         29,
         230,
         656
        ]
       ],
       "datasetInfos": [],
       "dbfsResultPath": null,
       "isJsonSchema": true,
       "metadata": {},
       "overflow": false,
       "plotOptions": {
        "customPlotOptions": {},
        "displayType": "table",
        "pivotAggregation": null,
        "pivotColumns": null,
        "xColumns": null,
        "yColumns": null
       },
       "removedWidgets": [],
       "schema": [
        {
         "metadata": "{\"comment\":\"Chave primária\"}",
         "name": "segmentation_code",
         "type": "\"string\""
        },
        {
         "metadata": "{\"comment\":\"Nome da segmentação\"}",
         "name": "segmentation_name",
         "type": "\"string\""
        },
        {
         "metadata": "{\"comment\":\"Nome da primeira faixa da segmentação\"}",
         "name": "range1_name",
         "type": "\"string\""
        },
        {
         "metadata": "{\"comment\":\"Nome da segunda faixa da segmentação\"}",
         "name": "range2_name",
         "type": "\"string\""
        },
        {
         "metadata": "{\"comment\":\"Nome da terceira faixa da segmentação\"}",
         "name": "range3_name",
         "type": "\"string\""
        },
        {
         "metadata": "{\"comment\":\"Quantidade de smartphones enquadradas na primeira faixa\"}",
         "name": "range1_qtd",
         "type": "\"integer\""
        },
        {
         "metadata": "{\"comment\":\"Quantidade de smartphones enquadradas na segunda faixa\"}",
         "name": "range2_qtd",
         "type": "\"integer\""
        },
        {
         "metadata": "{\"comment\":\"Quantidade de smartphones enquadradas na terceira faixa\"}",
         "name": "range3_qtd",
         "type": "\"integer\""
        }
       ],
       "type": "table"
      }
     },
     "output_type": "display_data"
    }
   ],
   "source": [
    "%sql select * from gold.segmentation_metrics limit 10"
   ]
  }
 ],
 "metadata": {
  "application/vnd.databricks.v1+notebook": {
   "computePreferences": null,
   "dashboards": [],
   "environmentMetadata": {
    "base_environment": "",
    "environment_version": "1"
   },
   "inputWidgetPreferences": null,
   "language": "python",
   "notebookMetadata": {
    "mostRecentlyExecutedCommandWithImplicitDF": {
     "commandId": 2555020261803821,
     "dataframes": [
      "_sqldf"
     ]
    },
    "pythonIndentUnit": 4
   },
   "notebookName": "7_etl_db_gold",
   "widgets": {}
  }
 },
 "nbformat": 4,
 "nbformat_minor": 0
}